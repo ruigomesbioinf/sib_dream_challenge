{
 "cells": [
  {
   "attachments": {},
   "cell_type": "markdown",
   "metadata": {},
   "source": [
    "# Exploring test datasets\n",
    "\n",
    "Mirroed from the analisys produced above for train datasets"
   ]
  },
  {
   "attachments": {},
   "cell_type": "markdown",
   "metadata": {},
   "source": [
    "### Loading data"
   ]
  },
  {
   "cell_type": "code",
   "execution_count": 1,
   "metadata": {},
   "outputs": [],
   "source": [
    "import pandas as pd\n",
    "from statsmodels.graphics.gofplots import qqplot\n",
    "from scipy.stats import norm, shapiro\n",
    "import matplotlib.pyplot as plt"
   ]
  },
  {
   "cell_type": "code",
   "execution_count": 2,
   "metadata": {},
   "outputs": [],
   "source": [
    "# csv's on test folder\n",
    "pheno_test = r\"../test/pheno_test.csv\"\n",
    "read_test = r\"../test/readcounts_test.csv\"\n",
    "taxtable_test = r\"../test/taxtable.csv\""
   ]
  },
  {
   "attachments": {},
   "cell_type": "markdown",
   "metadata": {},
   "source": [
    "Host phenotype data (pheno_test.csv): Individuals in rows and metadata variables in columns. Change first feature to appropriate name."
   ]
  },
  {
   "cell_type": "code",
   "execution_count": 3,
   "metadata": {},
   "outputs": [
    {
     "data": {
      "text/html": [
       "<div>\n",
       "<style scoped>\n",
       "    .dataframe tbody tr th:only-of-type {\n",
       "        vertical-align: middle;\n",
       "    }\n",
       "\n",
       "    .dataframe tbody tr th {\n",
       "        vertical-align: top;\n",
       "    }\n",
       "\n",
       "    .dataframe thead th {\n",
       "        text-align: right;\n",
       "    }\n",
       "</style>\n",
       "<table border=\"1\" class=\"dataframe\">\n",
       "  <thead>\n",
       "    <tr style=\"text-align: right;\">\n",
       "      <th></th>\n",
       "      <th>Sample_ID</th>\n",
       "      <th>Age</th>\n",
       "      <th>BodyMassIndex</th>\n",
       "      <th>Smoking</th>\n",
       "      <th>BPTreatment</th>\n",
       "      <th>PrevalentDiabetes</th>\n",
       "      <th>PrevalentCHD</th>\n",
       "      <th>PrevalentHFAIL</th>\n",
       "      <th>Event</th>\n",
       "      <th>Event_time</th>\n",
       "      <th>SystolicBP</th>\n",
       "      <th>NonHDLcholesterol</th>\n",
       "      <th>Sex</th>\n",
       "    </tr>\n",
       "  </thead>\n",
       "  <tbody>\n",
       "    <tr>\n",
       "      <th>0</th>\n",
       "      <td>Simulated_2211</td>\n",
       "      <td>73.860</td>\n",
       "      <td>30.140</td>\n",
       "      <td>1.0</td>\n",
       "      <td>1</td>\n",
       "      <td>0.0</td>\n",
       "      <td>0.0</td>\n",
       "      <td>0.0</td>\n",
       "      <td>0.0</td>\n",
       "      <td>15.910</td>\n",
       "      <td>154.046</td>\n",
       "      <td>5.010</td>\n",
       "      <td>0</td>\n",
       "    </tr>\n",
       "    <tr>\n",
       "      <th>1</th>\n",
       "      <td>Simulated_1629</td>\n",
       "      <td>48.070</td>\n",
       "      <td>18.252</td>\n",
       "      <td>1.0</td>\n",
       "      <td>0</td>\n",
       "      <td>0.0</td>\n",
       "      <td>0.0</td>\n",
       "      <td>0.0</td>\n",
       "      <td>0.0</td>\n",
       "      <td>11.189</td>\n",
       "      <td>184.064</td>\n",
       "      <td>3.922</td>\n",
       "      <td>0</td>\n",
       "    </tr>\n",
       "    <tr>\n",
       "      <th>2</th>\n",
       "      <td>Simulated_1690</td>\n",
       "      <td>49.060</td>\n",
       "      <td>25.911</td>\n",
       "      <td>0.0</td>\n",
       "      <td>0</td>\n",
       "      <td>0.0</td>\n",
       "      <td>0.0</td>\n",
       "      <td>0.0</td>\n",
       "      <td>1.0</td>\n",
       "      <td>15.832</td>\n",
       "      <td>126.922</td>\n",
       "      <td>5.119</td>\n",
       "      <td>1</td>\n",
       "    </tr>\n",
       "    <tr>\n",
       "      <th>3</th>\n",
       "      <td>Simulated_1367</td>\n",
       "      <td>58.499</td>\n",
       "      <td>25.739</td>\n",
       "      <td>0.0</td>\n",
       "      <td>0</td>\n",
       "      <td>0.0</td>\n",
       "      <td>0.0</td>\n",
       "      <td>0.0</td>\n",
       "      <td>0.0</td>\n",
       "      <td>15.818</td>\n",
       "      <td>141.003</td>\n",
       "      <td>3.890</td>\n",
       "      <td>1</td>\n",
       "    </tr>\n",
       "    <tr>\n",
       "      <th>4</th>\n",
       "      <td>Simulated_3387</td>\n",
       "      <td>47.242</td>\n",
       "      <td>29.227</td>\n",
       "      <td>0.0</td>\n",
       "      <td>0</td>\n",
       "      <td>0.0</td>\n",
       "      <td>0.0</td>\n",
       "      <td>0.0</td>\n",
       "      <td>0.0</td>\n",
       "      <td>15.782</td>\n",
       "      <td>143.021</td>\n",
       "      <td>3.611</td>\n",
       "      <td>1</td>\n",
       "    </tr>\n",
       "  </tbody>\n",
       "</table>\n",
       "</div>"
      ],
      "text/plain": [
       "        Sample_ID     Age  BodyMassIndex  Smoking  BPTreatment  \\\n",
       "0  Simulated_2211  73.860         30.140      1.0            1   \n",
       "1  Simulated_1629  48.070         18.252      1.0            0   \n",
       "2  Simulated_1690  49.060         25.911      0.0            0   \n",
       "3  Simulated_1367  58.499         25.739      0.0            0   \n",
       "4  Simulated_3387  47.242         29.227      0.0            0   \n",
       "\n",
       "   PrevalentDiabetes  PrevalentCHD  PrevalentHFAIL  Event  Event_time  \\\n",
       "0                0.0           0.0             0.0    0.0      15.910   \n",
       "1                0.0           0.0             0.0    0.0      11.189   \n",
       "2                0.0           0.0             0.0    1.0      15.832   \n",
       "3                0.0           0.0             0.0    0.0      15.818   \n",
       "4                0.0           0.0             0.0    0.0      15.782   \n",
       "\n",
       "   SystolicBP  NonHDLcholesterol  Sex  \n",
       "0     154.046              5.010    0  \n",
       "1     184.064              3.922    0  \n",
       "2     126.922              5.119    1  \n",
       "3     141.003              3.890    1  \n",
       "4     143.021              3.611    1  "
      ]
     },
     "execution_count": 3,
     "metadata": {},
     "output_type": "execute_result"
    }
   ],
   "source": [
    "pheno_test_df = pd.read_csv(pheno_test)\n",
    "pheno_test_df.rename(columns={\"Unnamed: 0\": \"Sample_ID\"}, inplace=True) # rename the first column to Sample_ID\n",
    "pheno_test_df.head()"
   ]
  },
  {
   "attachments": {},
   "cell_type": "markdown",
   "metadata": {},
   "source": [
    "Taxonomic abundance table (readcounts_test.csv): Individuals in columns and taxon names in rows. Change first feature to apropriate name."
   ]
  },
  {
   "cell_type": "code",
   "execution_count": 4,
   "metadata": {},
   "outputs": [
    {
     "data": {
      "text/html": [
       "<div>\n",
       "<style scoped>\n",
       "    .dataframe tbody tr th:only-of-type {\n",
       "        vertical-align: middle;\n",
       "    }\n",
       "\n",
       "    .dataframe tbody tr th {\n",
       "        vertical-align: top;\n",
       "    }\n",
       "\n",
       "    .dataframe thead th {\n",
       "        text-align: right;\n",
       "    }\n",
       "</style>\n",
       "<table border=\"1\" class=\"dataframe\">\n",
       "  <thead>\n",
       "    <tr style=\"text-align: right;\">\n",
       "      <th></th>\n",
       "      <th>Taxon name</th>\n",
       "      <th>Simulated_2211</th>\n",
       "      <th>Simulated_1629</th>\n",
       "      <th>Simulated_1690</th>\n",
       "      <th>Simulated_1367</th>\n",
       "      <th>Simulated_3387</th>\n",
       "      <th>Simulated_1746</th>\n",
       "      <th>Simulated_3625</th>\n",
       "      <th>Simulated_1596</th>\n",
       "      <th>Simulated_3430</th>\n",
       "      <th>...</th>\n",
       "      <th>Simulated_1743</th>\n",
       "      <th>Simulated_1357</th>\n",
       "      <th>Simulated_1372</th>\n",
       "      <th>Simulated_1326</th>\n",
       "      <th>Simulated_1696</th>\n",
       "      <th>Simulated_1628</th>\n",
       "      <th>Simulated_3424</th>\n",
       "      <th>Simulated_2215</th>\n",
       "      <th>Simulated_3426</th>\n",
       "      <th>Simulated_1679</th>\n",
       "    </tr>\n",
       "  </thead>\n",
       "  <tbody>\n",
       "    <tr>\n",
       "      <th>0</th>\n",
       "      <td>k__Archaea;p__;c__;o__;f__;g__;s__</td>\n",
       "      <td>0</td>\n",
       "      <td>0</td>\n",
       "      <td>0</td>\n",
       "      <td>0</td>\n",
       "      <td>0</td>\n",
       "      <td>0</td>\n",
       "      <td>0</td>\n",
       "      <td>0</td>\n",
       "      <td>0</td>\n",
       "      <td>...</td>\n",
       "      <td>0</td>\n",
       "      <td>0</td>\n",
       "      <td>0</td>\n",
       "      <td>0</td>\n",
       "      <td>0</td>\n",
       "      <td>0</td>\n",
       "      <td>0</td>\n",
       "      <td>0</td>\n",
       "      <td>0</td>\n",
       "      <td>0</td>\n",
       "    </tr>\n",
       "    <tr>\n",
       "      <th>1</th>\n",
       "      <td>k__Archaea;p__Candidatus_Korarchaeota;c__;o__;...</td>\n",
       "      <td>0</td>\n",
       "      <td>0</td>\n",
       "      <td>0</td>\n",
       "      <td>0</td>\n",
       "      <td>0</td>\n",
       "      <td>0</td>\n",
       "      <td>0</td>\n",
       "      <td>0</td>\n",
       "      <td>0</td>\n",
       "      <td>...</td>\n",
       "      <td>0</td>\n",
       "      <td>0</td>\n",
       "      <td>0</td>\n",
       "      <td>0</td>\n",
       "      <td>0</td>\n",
       "      <td>0</td>\n",
       "      <td>0</td>\n",
       "      <td>0</td>\n",
       "      <td>0</td>\n",
       "      <td>0</td>\n",
       "    </tr>\n",
       "    <tr>\n",
       "      <th>2</th>\n",
       "      <td>k__Archaea;p__Crenarchaeota;c__Thermoprotei;o_...</td>\n",
       "      <td>0</td>\n",
       "      <td>0</td>\n",
       "      <td>0</td>\n",
       "      <td>0</td>\n",
       "      <td>0</td>\n",
       "      <td>0</td>\n",
       "      <td>0</td>\n",
       "      <td>0</td>\n",
       "      <td>0</td>\n",
       "      <td>...</td>\n",
       "      <td>0</td>\n",
       "      <td>0</td>\n",
       "      <td>0</td>\n",
       "      <td>0</td>\n",
       "      <td>0</td>\n",
       "      <td>0</td>\n",
       "      <td>0</td>\n",
       "      <td>0</td>\n",
       "      <td>0</td>\n",
       "      <td>0</td>\n",
       "    </tr>\n",
       "    <tr>\n",
       "      <th>3</th>\n",
       "      <td>k__Archaea;p__Crenarchaeota;c__Thermoprotei;o_...</td>\n",
       "      <td>1</td>\n",
       "      <td>0</td>\n",
       "      <td>0</td>\n",
       "      <td>0</td>\n",
       "      <td>0</td>\n",
       "      <td>0</td>\n",
       "      <td>0</td>\n",
       "      <td>0</td>\n",
       "      <td>0</td>\n",
       "      <td>...</td>\n",
       "      <td>0</td>\n",
       "      <td>0</td>\n",
       "      <td>0</td>\n",
       "      <td>0</td>\n",
       "      <td>0</td>\n",
       "      <td>0</td>\n",
       "      <td>0</td>\n",
       "      <td>0</td>\n",
       "      <td>0</td>\n",
       "      <td>0</td>\n",
       "    </tr>\n",
       "    <tr>\n",
       "      <th>4</th>\n",
       "      <td>k__Archaea;p__Crenarchaeota;c__Thermoprotei;o_...</td>\n",
       "      <td>0</td>\n",
       "      <td>0</td>\n",
       "      <td>0</td>\n",
       "      <td>0</td>\n",
       "      <td>0</td>\n",
       "      <td>0</td>\n",
       "      <td>0</td>\n",
       "      <td>0</td>\n",
       "      <td>0</td>\n",
       "      <td>...</td>\n",
       "      <td>0</td>\n",
       "      <td>0</td>\n",
       "      <td>0</td>\n",
       "      <td>0</td>\n",
       "      <td>0</td>\n",
       "      <td>0</td>\n",
       "      <td>0</td>\n",
       "      <td>0</td>\n",
       "      <td>0</td>\n",
       "      <td>0</td>\n",
       "    </tr>\n",
       "  </tbody>\n",
       "</table>\n",
       "<p>5 rows × 1810 columns</p>\n",
       "</div>"
      ],
      "text/plain": [
       "                                          Taxon name  Simulated_2211  \\\n",
       "0                 k__Archaea;p__;c__;o__;f__;g__;s__               0   \n",
       "1  k__Archaea;p__Candidatus_Korarchaeota;c__;o__;...               0   \n",
       "2  k__Archaea;p__Crenarchaeota;c__Thermoprotei;o_...               0   \n",
       "3  k__Archaea;p__Crenarchaeota;c__Thermoprotei;o_...               1   \n",
       "4  k__Archaea;p__Crenarchaeota;c__Thermoprotei;o_...               0   \n",
       "\n",
       "   Simulated_1629  Simulated_1690  Simulated_1367  Simulated_3387  \\\n",
       "0               0               0               0               0   \n",
       "1               0               0               0               0   \n",
       "2               0               0               0               0   \n",
       "3               0               0               0               0   \n",
       "4               0               0               0               0   \n",
       "\n",
       "   Simulated_1746  Simulated_3625  Simulated_1596  Simulated_3430  ...  \\\n",
       "0               0               0               0               0  ...   \n",
       "1               0               0               0               0  ...   \n",
       "2               0               0               0               0  ...   \n",
       "3               0               0               0               0  ...   \n",
       "4               0               0               0               0  ...   \n",
       "\n",
       "   Simulated_1743  Simulated_1357  Simulated_1372  Simulated_1326  \\\n",
       "0               0               0               0               0   \n",
       "1               0               0               0               0   \n",
       "2               0               0               0               0   \n",
       "3               0               0               0               0   \n",
       "4               0               0               0               0   \n",
       "\n",
       "   Simulated_1696  Simulated_1628  Simulated_3424  Simulated_2215  \\\n",
       "0               0               0               0               0   \n",
       "1               0               0               0               0   \n",
       "2               0               0               0               0   \n",
       "3               0               0               0               0   \n",
       "4               0               0               0               0   \n",
       "\n",
       "   Simulated_3426  Simulated_1679  \n",
       "0               0               0  \n",
       "1               0               0  \n",
       "2               0               0  \n",
       "3               0               0  \n",
       "4               0               0  \n",
       "\n",
       "[5 rows x 1810 columns]"
      ]
     },
     "execution_count": 4,
     "metadata": {},
     "output_type": "execute_result"
    }
   ],
   "source": [
    "read_test_df = pd.read_csv(read_test)\n",
    "read_test_df.rename(columns={\"Unnamed: 0\": \"Taxon name\"}, inplace=True) # rename the first column to Taxon name\n",
    "read_test_df.head()"
   ]
  },
  {
   "attachments": {},
   "cell_type": "markdown",
   "metadata": {},
   "source": [
    "Taxonomic mapping table (taxtable.csv): Mapping of the taxonomic species to higher taxonomic hierarchy (Kingdom, Phylum, Class, Order, Family, Genus and Species)"
   ]
  },
  {
   "cell_type": "code",
   "execution_count": 5,
   "metadata": {},
   "outputs": [
    {
     "data": {
      "text/html": [
       "<div>\n",
       "<style scoped>\n",
       "    .dataframe tbody tr th:only-of-type {\n",
       "        vertical-align: middle;\n",
       "    }\n",
       "\n",
       "    .dataframe tbody tr th {\n",
       "        vertical-align: top;\n",
       "    }\n",
       "\n",
       "    .dataframe thead th {\n",
       "        text-align: right;\n",
       "    }\n",
       "</style>\n",
       "<table border=\"1\" class=\"dataframe\">\n",
       "  <thead>\n",
       "    <tr style=\"text-align: right;\">\n",
       "      <th></th>\n",
       "      <th>Domain</th>\n",
       "      <th>Phylum</th>\n",
       "      <th>Class</th>\n",
       "      <th>Order</th>\n",
       "      <th>Family</th>\n",
       "      <th>Genus</th>\n",
       "      <th>Species</th>\n",
       "    </tr>\n",
       "  </thead>\n",
       "  <tbody>\n",
       "    <tr>\n",
       "      <th>0</th>\n",
       "      <td>k__Archaea</td>\n",
       "      <td>p__</td>\n",
       "      <td>c__</td>\n",
       "      <td>o__</td>\n",
       "      <td>f__</td>\n",
       "      <td>g__</td>\n",
       "      <td>s__</td>\n",
       "    </tr>\n",
       "    <tr>\n",
       "      <th>1</th>\n",
       "      <td>k__Archaea</td>\n",
       "      <td>p__Candidatus_Korarchaeota</td>\n",
       "      <td>c__</td>\n",
       "      <td>o__</td>\n",
       "      <td>f__</td>\n",
       "      <td>g__</td>\n",
       "      <td>s__</td>\n",
       "    </tr>\n",
       "    <tr>\n",
       "      <th>2</th>\n",
       "      <td>k__Archaea</td>\n",
       "      <td>p__Crenarchaeota</td>\n",
       "      <td>c__Thermoprotei</td>\n",
       "      <td>o__</td>\n",
       "      <td>f__</td>\n",
       "      <td>g__</td>\n",
       "      <td>s__</td>\n",
       "    </tr>\n",
       "    <tr>\n",
       "      <th>3</th>\n",
       "      <td>k__Archaea</td>\n",
       "      <td>p__Crenarchaeota</td>\n",
       "      <td>c__Thermoprotei</td>\n",
       "      <td>o__Acidilobales</td>\n",
       "      <td>f__Acidilobaceae</td>\n",
       "      <td>g__Acidilobus</td>\n",
       "      <td>s__Acidilobus_saccharovorans</td>\n",
       "    </tr>\n",
       "    <tr>\n",
       "      <th>4</th>\n",
       "      <td>k__Archaea</td>\n",
       "      <td>p__Crenarchaeota</td>\n",
       "      <td>c__Thermoprotei</td>\n",
       "      <td>o__Acidilobales</td>\n",
       "      <td>f__Caldisphaeraceae</td>\n",
       "      <td>g__Caldisphaera</td>\n",
       "      <td>s__Caldisphaera_lagunensis</td>\n",
       "    </tr>\n",
       "  </tbody>\n",
       "</table>\n",
       "</div>"
      ],
      "text/plain": [
       "       Domain                      Phylum            Class            Order  \\\n",
       "0  k__Archaea                         p__              c__              o__   \n",
       "1  k__Archaea  p__Candidatus_Korarchaeota              c__              o__   \n",
       "2  k__Archaea            p__Crenarchaeota  c__Thermoprotei              o__   \n",
       "3  k__Archaea            p__Crenarchaeota  c__Thermoprotei  o__Acidilobales   \n",
       "4  k__Archaea            p__Crenarchaeota  c__Thermoprotei  o__Acidilobales   \n",
       "\n",
       "                Family            Genus                       Species  \n",
       "0                  f__              g__                           s__  \n",
       "1                  f__              g__                           s__  \n",
       "2                  f__              g__                           s__  \n",
       "3     f__Acidilobaceae    g__Acidilobus  s__Acidilobus_saccharovorans  \n",
       "4  f__Caldisphaeraceae  g__Caldisphaera    s__Caldisphaera_lagunensis  "
      ]
     },
     "execution_count": 5,
     "metadata": {},
     "output_type": "execute_result"
    }
   ],
   "source": [
    "taxtable_test_df = pd.read_csv(taxtable_test)\n",
    "taxtable_test_df.head()"
   ]
  },
  {
   "attachments": {},
   "cell_type": "markdown",
   "metadata": {},
   "source": [
    "## Data structure verification"
   ]
  },
  {
   "attachments": {},
   "cell_type": "markdown",
   "metadata": {},
   "source": [
    "Number of columns and rows of eacch dataframe"
   ]
  },
  {
   "cell_type": "code",
   "execution_count": 6,
   "metadata": {},
   "outputs": [
    {
     "name": "stdout",
     "output_type": "stream",
     "text": [
      "The Host Phenotype data has 1809 rows and 13 columns\n",
      "The Taxonomic abundance table has 5748 rows and 1810 columns\n",
      "The Taxonomic mapping table has 5748 rows and 7 columns\n"
     ]
    }
   ],
   "source": [
    "print(f\"The Host Phenotype data has {pheno_test_df.shape[0]} rows and {pheno_test_df.shape[1]} columns\")\n",
    "print(f\"The Taxonomic abundance table has {read_test_df.shape[0]} rows and {read_test_df.shape[1]} columns\")\n",
    "print(f\"The Taxonomic mapping table has {taxtable_test_df.shape[0]} rows and {taxtable_test_df.shape[1]} columns\")"
   ]
  },
  {
   "attachments": {},
   "cell_type": "markdown",
   "metadata": {},
   "source": [
    "Name of every column"
   ]
  },
  {
   "cell_type": "code",
   "execution_count": 7,
   "metadata": {},
   "outputs": [
    {
     "name": "stdout",
     "output_type": "stream",
     "text": [
      "['Sample_ID', 'Age', 'BodyMassIndex', 'Smoking', 'BPTreatment', 'PrevalentDiabetes', 'PrevalentCHD', 'PrevalentHFAIL', 'Event', 'Event_time', 'SystolicBP', 'NonHDLcholesterol', 'Sex']\n",
      "['Domain', 'Phylum', 'Class', 'Order', 'Family', 'Genus', 'Species']\n"
     ]
    }
   ],
   "source": [
    "print(list(pheno_test_df.columns))\n",
    "# print(list(read_test_df.columns)) # this prints the columns of the readcounts csv which are the sample ID's (3616 columns)\n",
    "print(list(taxtable_test_df.columns))"
   ]
  },
  {
   "attachments": {},
   "cell_type": "markdown",
   "metadata": {},
   "source": [
    "Type of data for each column"
   ]
  },
  {
   "cell_type": "code",
   "execution_count": 8,
   "metadata": {},
   "outputs": [
    {
     "name": "stdout",
     "output_type": "stream",
     "text": [
      "Sample_ID             object\n",
      "Age                  float64\n",
      "BodyMassIndex        float64\n",
      "Smoking              float64\n",
      "BPTreatment            int64\n",
      "PrevalentDiabetes    float64\n",
      "PrevalentCHD         float64\n",
      "PrevalentHFAIL       float64\n",
      "Event                float64\n",
      "Event_time           float64\n",
      "SystolicBP           float64\n",
      "NonHDLcholesterol    float64\n",
      "Sex                    int64\n",
      "dtype: object\n"
     ]
    }
   ],
   "source": [
    "print(pheno_test_df.dtypes)"
   ]
  },
  {
   "cell_type": "code",
   "execution_count": 9,
   "metadata": {},
   "outputs": [
    {
     "name": "stdout",
     "output_type": "stream",
     "text": [
      "Domain     object\n",
      "Phylum     object\n",
      "Class      object\n",
      "Order      object\n",
      "Family     object\n",
      "Genus      object\n",
      "Species    object\n",
      "dtype: object\n"
     ]
    }
   ],
   "source": [
    "print(taxtable_test_df.dtypes)"
   ]
  },
  {
   "cell_type": "code",
   "execution_count": 10,
   "metadata": {},
   "outputs": [
    {
     "name": "stdout",
     "output_type": "stream",
     "text": [
      "Taxon name        object\n",
      "Simulated_2211     int64\n",
      "Simulated_1629     int64\n",
      "Simulated_1690     int64\n",
      "Simulated_1367     int64\n",
      "                   ...  \n",
      "Simulated_1628     int64\n",
      "Simulated_3424     int64\n",
      "Simulated_2215     int64\n",
      "Simulated_3426     int64\n",
      "Simulated_1679     int64\n",
      "Length: 1810, dtype: object\n"
     ]
    }
   ],
   "source": [
    "print(read_test_df.dtypes)"
   ]
  },
  {
   "attachments": {},
   "cell_type": "markdown",
   "metadata": {},
   "source": [
    "Range of values for each Feature of host phenotype data."
   ]
  },
  {
   "cell_type": "code",
   "execution_count": 11,
   "metadata": {},
   "outputs": [
    {
     "name": "stdout",
     "output_type": "stream",
     "text": [
      "Sample_ID:         Simulated_1000 ----------------- Simulated_997\n",
      "Age:         24.099 ----------------- 74.239\n",
      "BodyMassIndex:         16.374 ----------------- 55.98\n",
      "Smoking:         0.0 ----------------- 1.0\n",
      "BPTreatment:         0 ----------------- 1\n",
      "PrevalentDiabetes:         0.0 ----------------- 1.0\n",
      "PrevalentCHD:         0.0 ----------------- 1.0\n",
      "PrevalentHFAIL:         0.0 ----------------- 1.0\n",
      "Event:         0.0 ----------------- 1.0\n",
      "Event_time:         -15.909 ----------------- 16.0\n",
      "SystolicBP:         87.902 ----------------- 253.075\n",
      "NonHDLcholesterol:         1.191 ----------------- 9.031\n",
      "Sex:         0 ----------------- 1\n"
     ]
    }
   ],
   "source": [
    "for col in pheno_test_df.columns:\n",
    "    print(f\"{col}:         {pheno_test_df[col].min()} ----------------- {pheno_test_df[col].max()}\")"
   ]
  },
  {
   "attachments": {},
   "cell_type": "markdown",
   "metadata": {},
   "source": [
    "Range of values for each Feature of Taxonomic abundance data. Same is not done to the last dataset because it contains only non numerical values"
   ]
  },
  {
   "cell_type": "code",
   "execution_count": 12,
   "metadata": {},
   "outputs": [
    {
     "name": "stdout",
     "output_type": "stream",
     "text": [
      "Simulated_2211:         0 ----------------- 20580\n",
      "Simulated_1629:         0 ----------------- 109661\n",
      "Simulated_1690:         0 ----------------- 214253\n",
      "Simulated_1367:         0 ----------------- 354395\n",
      "Simulated_3387:         0 ----------------- 244636\n",
      "Simulated_1746:         0 ----------------- 92738\n",
      "Simulated_3625:         0 ----------------- 92631\n",
      "Simulated_1596:         0 ----------------- 55556\n",
      "Simulated_3430:         0 ----------------- 288649\n",
      "Simulated_1717:         0 ----------------- 276696\n",
      "Simulated_1595:         0 ----------------- 172259\n",
      "Simulated_1613:         0 ----------------- 135723\n",
      "Simulated_1620:         0 ----------------- 268867\n",
      "Simulated_1599:         0 ----------------- 109708\n",
      "Simulated_1323:         0 ----------------- 257379\n",
      "Simulated_1325:         0 ----------------- 91007\n",
      "Simulated_1672:         0 ----------------- 315046\n",
      "Simulated_1709:         0 ----------------- 321853\n",
      "Simulated_1712:         0 ----------------- 50838\n"
     ]
    }
   ],
   "source": [
    "for col in read_test_df.columns[1:20]:\n",
    "    print(f\"{col}:         {read_test_df[col].min()} ----------------- {read_test_df[col].max()}\")"
   ]
  },
  {
   "attachments": {},
   "cell_type": "markdown",
   "metadata": {},
   "source": [
    "## Analysis of missing values"
   ]
  },
  {
   "cell_type": "code",
   "execution_count": 13,
   "metadata": {},
   "outputs": [
    {
     "data": {
      "text/plain": [
       "Sample_ID             0\n",
       "Age                   0\n",
       "BodyMassIndex         0\n",
       "Smoking              11\n",
       "BPTreatment           0\n",
       "PrevalentDiabetes    30\n",
       "PrevalentCHD         30\n",
       "PrevalentHFAIL       30\n",
       "Event                30\n",
       "Event_time           30\n",
       "SystolicBP            1\n",
       "NonHDLcholesterol     3\n",
       "Sex                   0\n",
       "dtype: int64"
      ]
     },
     "execution_count": 13,
     "metadata": {},
     "output_type": "execute_result"
    }
   ],
   "source": [
    "pheno_test_df.isna().sum()"
   ]
  },
  {
   "cell_type": "code",
   "execution_count": 14,
   "metadata": {},
   "outputs": [
    {
     "data": {
      "text/html": [
       "<div>\n",
       "<style scoped>\n",
       "    .dataframe tbody tr th:only-of-type {\n",
       "        vertical-align: middle;\n",
       "    }\n",
       "\n",
       "    .dataframe tbody tr th {\n",
       "        vertical-align: top;\n",
       "    }\n",
       "\n",
       "    .dataframe thead th {\n",
       "        text-align: right;\n",
       "    }\n",
       "</style>\n",
       "<table border=\"1\" class=\"dataframe\">\n",
       "  <thead>\n",
       "    <tr style=\"text-align: right;\">\n",
       "      <th></th>\n",
       "      <th>Sample_ID</th>\n",
       "      <th>Age</th>\n",
       "      <th>BodyMassIndex</th>\n",
       "      <th>Smoking</th>\n",
       "      <th>BPTreatment</th>\n",
       "      <th>PrevalentDiabetes</th>\n",
       "      <th>PrevalentCHD</th>\n",
       "      <th>PrevalentHFAIL</th>\n",
       "      <th>Event</th>\n",
       "      <th>Event_time</th>\n",
       "      <th>SystolicBP</th>\n",
       "      <th>NonHDLcholesterol</th>\n",
       "      <th>Sex</th>\n",
       "    </tr>\n",
       "  </thead>\n",
       "  <tbody>\n",
       "    <tr>\n",
       "      <th>67</th>\n",
       "      <td>Simulated_3539</td>\n",
       "      <td>64.071</td>\n",
       "      <td>31.567</td>\n",
       "      <td>1.0</td>\n",
       "      <td>0</td>\n",
       "      <td>NaN</td>\n",
       "      <td>NaN</td>\n",
       "      <td>NaN</td>\n",
       "      <td>NaN</td>\n",
       "      <td>NaN</td>\n",
       "      <td>138.948</td>\n",
       "      <td>5.089</td>\n",
       "      <td>0</td>\n",
       "    </tr>\n",
       "    <tr>\n",
       "      <th>80</th>\n",
       "      <td>Simulated_311</td>\n",
       "      <td>46.118</td>\n",
       "      <td>29.152</td>\n",
       "      <td>0.0</td>\n",
       "      <td>0</td>\n",
       "      <td>NaN</td>\n",
       "      <td>NaN</td>\n",
       "      <td>NaN</td>\n",
       "      <td>NaN</td>\n",
       "      <td>NaN</td>\n",
       "      <td>143.974</td>\n",
       "      <td>3.072</td>\n",
       "      <td>0</td>\n",
       "    </tr>\n",
       "    <tr>\n",
       "      <th>216</th>\n",
       "      <td>Simulated_6568</td>\n",
       "      <td>25.179</td>\n",
       "      <td>26.876</td>\n",
       "      <td>NaN</td>\n",
       "      <td>0</td>\n",
       "      <td>0.0</td>\n",
       "      <td>0.0</td>\n",
       "      <td>0.0</td>\n",
       "      <td>0.0</td>\n",
       "      <td>15.940</td>\n",
       "      <td>104.986</td>\n",
       "      <td>3.260</td>\n",
       "      <td>1</td>\n",
       "    </tr>\n",
       "    <tr>\n",
       "      <th>273</th>\n",
       "      <td>Simulated_2425</td>\n",
       "      <td>31.720</td>\n",
       "      <td>36.696</td>\n",
       "      <td>1.0</td>\n",
       "      <td>0</td>\n",
       "      <td>NaN</td>\n",
       "      <td>NaN</td>\n",
       "      <td>NaN</td>\n",
       "      <td>NaN</td>\n",
       "      <td>NaN</td>\n",
       "      <td>109.053</td>\n",
       "      <td>4.679</td>\n",
       "      <td>1</td>\n",
       "    </tr>\n",
       "    <tr>\n",
       "      <th>318</th>\n",
       "      <td>Simulated_5114</td>\n",
       "      <td>49.798</td>\n",
       "      <td>26.212</td>\n",
       "      <td>NaN</td>\n",
       "      <td>0</td>\n",
       "      <td>0.0</td>\n",
       "      <td>0.0</td>\n",
       "      <td>0.0</td>\n",
       "      <td>0.0</td>\n",
       "      <td>14.002</td>\n",
       "      <td>131.037</td>\n",
       "      <td>4.750</td>\n",
       "      <td>0</td>\n",
       "    </tr>\n",
       "  </tbody>\n",
       "</table>\n",
       "</div>"
      ],
      "text/plain": [
       "          Sample_ID     Age  BodyMassIndex  Smoking  BPTreatment  \\\n",
       "67   Simulated_3539  64.071         31.567      1.0            0   \n",
       "80    Simulated_311  46.118         29.152      0.0            0   \n",
       "216  Simulated_6568  25.179         26.876      NaN            0   \n",
       "273  Simulated_2425  31.720         36.696      1.0            0   \n",
       "318  Simulated_5114  49.798         26.212      NaN            0   \n",
       "\n",
       "     PrevalentDiabetes  PrevalentCHD  PrevalentHFAIL  Event  Event_time  \\\n",
       "67                 NaN           NaN             NaN    NaN         NaN   \n",
       "80                 NaN           NaN             NaN    NaN         NaN   \n",
       "216                0.0           0.0             0.0    0.0      15.940   \n",
       "273                NaN           NaN             NaN    NaN         NaN   \n",
       "318                0.0           0.0             0.0    0.0      14.002   \n",
       "\n",
       "     SystolicBP  NonHDLcholesterol  Sex  \n",
       "67      138.948              5.089    0  \n",
       "80      143.974              3.072    0  \n",
       "216     104.986              3.260    1  \n",
       "273     109.053              4.679    1  \n",
       "318     131.037              4.750    0  "
      ]
     },
     "execution_count": 14,
     "metadata": {},
     "output_type": "execute_result"
    }
   ],
   "source": [
    "null_data_test = pheno_test_df[pheno_test_df.isna().any(axis=1)]\n",
    "null_data_test.head()"
   ]
  },
  {
   "cell_type": "code",
   "execution_count": 15,
   "metadata": {},
   "outputs": [
    {
     "data": {
      "text/plain": [
       "0"
      ]
     },
     "execution_count": 15,
     "metadata": {},
     "output_type": "execute_result"
    }
   ],
   "source": [
    "read_test_df.isna().sum().sum()"
   ]
  },
  {
   "cell_type": "code",
   "execution_count": 16,
   "metadata": {},
   "outputs": [
    {
     "data": {
      "text/plain": [
       "Domain      0\n",
       "Phylum      0\n",
       "Class       0\n",
       "Order       0\n",
       "Family      0\n",
       "Genus       0\n",
       "Species    35\n",
       "dtype: int64"
      ]
     },
     "execution_count": 16,
     "metadata": {},
     "output_type": "execute_result"
    }
   ],
   "source": [
    "taxtable_test_df.isna().sum()"
   ]
  },
  {
   "cell_type": "code",
   "execution_count": 17,
   "metadata": {},
   "outputs": [
    {
     "data": {
      "text/html": [
       "<div>\n",
       "<style scoped>\n",
       "    .dataframe tbody tr th:only-of-type {\n",
       "        vertical-align: middle;\n",
       "    }\n",
       "\n",
       "    .dataframe tbody tr th {\n",
       "        vertical-align: top;\n",
       "    }\n",
       "\n",
       "    .dataframe thead th {\n",
       "        text-align: right;\n",
       "    }\n",
       "</style>\n",
       "<table border=\"1\" class=\"dataframe\">\n",
       "  <thead>\n",
       "    <tr style=\"text-align: right;\">\n",
       "      <th></th>\n",
       "      <th>Domain</th>\n",
       "      <th>Phylum</th>\n",
       "      <th>Class</th>\n",
       "      <th>Order</th>\n",
       "      <th>Family</th>\n",
       "      <th>Genus</th>\n",
       "      <th>Species</th>\n",
       "    </tr>\n",
       "  </thead>\n",
       "  <tbody>\n",
       "    <tr>\n",
       "      <th>5662</th>\n",
       "      <td>k__Viruses</td>\n",
       "      <td>p__dsDNA_viruses,_no_RNA_stage</td>\n",
       "      <td>c__Adenoviridae</td>\n",
       "      <td>o__</td>\n",
       "      <td>f__</td>\n",
       "      <td>g__</td>\n",
       "      <td>NaN</td>\n",
       "    </tr>\n",
       "    <tr>\n",
       "      <th>5663</th>\n",
       "      <td>k__Viruses</td>\n",
       "      <td>p__dsDNA_viruses,_no_RNA_stage</td>\n",
       "      <td>c__Ascoviridae</td>\n",
       "      <td>o__</td>\n",
       "      <td>f__</td>\n",
       "      <td>g__</td>\n",
       "      <td>NaN</td>\n",
       "    </tr>\n",
       "    <tr>\n",
       "      <th>5664</th>\n",
       "      <td>k__Viruses</td>\n",
       "      <td>p__dsDNA_viruses,_no_RNA_stage</td>\n",
       "      <td>c__Baculoviridae</td>\n",
       "      <td>o__</td>\n",
       "      <td>f__</td>\n",
       "      <td>g__</td>\n",
       "      <td>NaN</td>\n",
       "    </tr>\n",
       "    <tr>\n",
       "      <th>5665</th>\n",
       "      <td>k__Viruses</td>\n",
       "      <td>p__dsDNA_viruses,_no_RNA_stage</td>\n",
       "      <td>c__Caudovirales</td>\n",
       "      <td>o__</td>\n",
       "      <td>f__</td>\n",
       "      <td>g__</td>\n",
       "      <td>NaN</td>\n",
       "    </tr>\n",
       "    <tr>\n",
       "      <th>5666</th>\n",
       "      <td>k__Viruses</td>\n",
       "      <td>p__dsDNA_viruses,_no_RNA_stage</td>\n",
       "      <td>c__Herpesvirales</td>\n",
       "      <td>o__</td>\n",
       "      <td>f__</td>\n",
       "      <td>g__</td>\n",
       "      <td>NaN</td>\n",
       "    </tr>\n",
       "  </tbody>\n",
       "</table>\n",
       "</div>"
      ],
      "text/plain": [
       "          Domain                          Phylum             Class Order  \\\n",
       "5662  k__Viruses  p__dsDNA_viruses,_no_RNA_stage   c__Adenoviridae   o__   \n",
       "5663  k__Viruses  p__dsDNA_viruses,_no_RNA_stage    c__Ascoviridae   o__   \n",
       "5664  k__Viruses  p__dsDNA_viruses,_no_RNA_stage  c__Baculoviridae   o__   \n",
       "5665  k__Viruses  p__dsDNA_viruses,_no_RNA_stage   c__Caudovirales   o__   \n",
       "5666  k__Viruses  p__dsDNA_viruses,_no_RNA_stage  c__Herpesvirales   o__   \n",
       "\n",
       "     Family Genus Species  \n",
       "5662    f__   g__     NaN  \n",
       "5663    f__   g__     NaN  \n",
       "5664    f__   g__     NaN  \n",
       "5665    f__   g__     NaN  \n",
       "5666    f__   g__     NaN  "
      ]
     },
     "execution_count": 17,
     "metadata": {},
     "output_type": "execute_result"
    }
   ],
   "source": [
    "null_data_taxtable_test = taxtable_test_df[taxtable_test_df.isna().any(axis=1)]\n",
    "null_data_taxtable_test.head()"
   ]
  },
  {
   "attachments": {},
   "cell_type": "markdown",
   "metadata": {},
   "source": [
    "The host phenotype and the taxonomic mapping datasets have missing values that need to be removed or replaced to continue to the next step."
   ]
  },
  {
   "attachments": {},
   "cell_type": "markdown",
   "metadata": {},
   "source": [
    "### Change empty species to Unidentified Species in the taxonomic mapping dataset"
   ]
  },
  {
   "cell_type": "code",
   "execution_count": 18,
   "metadata": {},
   "outputs": [
    {
     "data": {
      "text/plain": [
       "Domain     0\n",
       "Phylum     0\n",
       "Class      0\n",
       "Order      0\n",
       "Family     0\n",
       "Genus      0\n",
       "Species    0\n",
       "dtype: int64"
      ]
     },
     "execution_count": 18,
     "metadata": {},
     "output_type": "execute_result"
    }
   ],
   "source": [
    "taxtable_test_df[\"Species\"] = taxtable_test_df[\"Species\"].fillna(\"Unidentified Species\")\n",
    "taxtable_test_df.isna().sum()"
   ]
  },
  {
   "cell_type": "markdown",
   "metadata": {
    "collapsed": false
   },
   "source": [
    "#### Treating missing values on Host Phenotype dataset"
   ]
  },
  {
   "attachments": {},
   "cell_type": "markdown",
   "metadata": {},
   "source": [
    "For the smoking feature we will use mode imputation."
   ]
  },
  {
   "cell_type": "code",
   "execution_count": 19,
   "metadata": {},
   "outputs": [
    {
     "data": {
      "text/plain": [
       "Sample_ID             0\n",
       "Age                   0\n",
       "BodyMassIndex         0\n",
       "Smoking               0\n",
       "BPTreatment           0\n",
       "PrevalentDiabetes    30\n",
       "PrevalentCHD         30\n",
       "PrevalentHFAIL       30\n",
       "Event                30\n",
       "Event_time           30\n",
       "SystolicBP            1\n",
       "NonHDLcholesterol     3\n",
       "Sex                   0\n",
       "dtype: int64"
      ]
     },
     "execution_count": 19,
     "metadata": {},
     "output_type": "execute_result"
    }
   ],
   "source": [
    "mode_smoking = pheno_test_df[\"Smoking\"].mode()[0]\n",
    "pheno_test_df[\"Smoking\"] = pheno_test_df[\"Smoking\"].fillna(mode_smoking)\n",
    "pheno_test_df.isna().sum()"
   ]
  },
  {
   "cell_type": "markdown",
   "metadata": {
    "collapsed": false
   },
   "source": [
    "For the PrevalentDiabetes feature we will use mode imputation."
   ]
  },
  {
   "cell_type": "code",
   "execution_count": 20,
   "metadata": {
    "collapsed": false
   },
   "outputs": [
    {
     "data": {
      "text/plain": [
       "Sample_ID             0\n",
       "Age                   0\n",
       "BodyMassIndex         0\n",
       "Smoking               0\n",
       "BPTreatment           0\n",
       "PrevalentDiabetes     0\n",
       "PrevalentCHD         30\n",
       "PrevalentHFAIL       30\n",
       "Event                30\n",
       "Event_time           30\n",
       "SystolicBP            1\n",
       "NonHDLcholesterol     3\n",
       "Sex                   0\n",
       "dtype: int64"
      ]
     },
     "execution_count": 20,
     "metadata": {},
     "output_type": "execute_result"
    }
   ],
   "source": [
    "mode_diabetes = pheno_test_df[\"PrevalentDiabetes\"].mode()[0]\n",
    "pheno_test_df[\"PrevalentDiabetes\"] = pheno_test_df[\"PrevalentDiabetes\"].fillna(mode_diabetes)\n",
    "pheno_test_df.isna().sum()"
   ]
  },
  {
   "cell_type": "markdown",
   "metadata": {
    "collapsed": false
   },
   "source": [
    "For the PrevalentCHD variable we will use mode imputation."
   ]
  },
  {
   "cell_type": "code",
   "execution_count": 21,
   "metadata": {
    "collapsed": false
   },
   "outputs": [
    {
     "data": {
      "text/plain": [
       "Sample_ID             0\n",
       "Age                   0\n",
       "BodyMassIndex         0\n",
       "Smoking               0\n",
       "BPTreatment           0\n",
       "PrevalentDiabetes     0\n",
       "PrevalentCHD          0\n",
       "PrevalentHFAIL       30\n",
       "Event                30\n",
       "Event_time           30\n",
       "SystolicBP            1\n",
       "NonHDLcholesterol     3\n",
       "Sex                   0\n",
       "dtype: int64"
      ]
     },
     "execution_count": 21,
     "metadata": {},
     "output_type": "execute_result"
    }
   ],
   "source": [
    "mode_chd = pheno_test_df[\"PrevalentCHD\"].mode()[0]\n",
    "pheno_test_df[\"PrevalentCHD\"] = pheno_test_df[\"PrevalentCHD\"].fillna(mode_chd)\n",
    "pheno_test_df.isna().sum()"
   ]
  },
  {
   "cell_type": "markdown",
   "metadata": {
    "collapsed": false
   },
   "source": [
    "For the PrevalentHFAIL variable we will also use mode imputation."
   ]
  },
  {
   "cell_type": "code",
   "execution_count": 22,
   "metadata": {
    "collapsed": false
   },
   "outputs": [
    {
     "data": {
      "text/plain": [
       "Sample_ID             0\n",
       "Age                   0\n",
       "BodyMassIndex         0\n",
       "Smoking               0\n",
       "BPTreatment           0\n",
       "PrevalentDiabetes     0\n",
       "PrevalentCHD          0\n",
       "PrevalentHFAIL        0\n",
       "Event                30\n",
       "Event_time           30\n",
       "SystolicBP            1\n",
       "NonHDLcholesterol     3\n",
       "Sex                   0\n",
       "dtype: int64"
      ]
     },
     "execution_count": 22,
     "metadata": {},
     "output_type": "execute_result"
    }
   ],
   "source": [
    "mode_hfail = pheno_test_df[\"PrevalentHFAIL\"].mode()[0]\n",
    "pheno_test_df[\"PrevalentHFAIL\"] = pheno_test_df[\"PrevalentHFAIL\"].fillna(mode_hfail)\n",
    "pheno_test_df.isna().sum()"
   ]
  },
  {
   "cell_type": "markdown",
   "metadata": {
    "collapsed": false
   },
   "source": [
    "For the Event variable we will also use mode imputation."
   ]
  },
  {
   "cell_type": "code",
   "execution_count": 23,
   "metadata": {
    "collapsed": false
   },
   "outputs": [
    {
     "data": {
      "text/plain": [
       "Sample_ID             0\n",
       "Age                   0\n",
       "BodyMassIndex         0\n",
       "Smoking               0\n",
       "BPTreatment           0\n",
       "PrevalentDiabetes     0\n",
       "PrevalentCHD          0\n",
       "PrevalentHFAIL        0\n",
       "Event                 0\n",
       "Event_time           30\n",
       "SystolicBP            1\n",
       "NonHDLcholesterol     3\n",
       "Sex                   0\n",
       "dtype: int64"
      ]
     },
     "execution_count": 23,
     "metadata": {},
     "output_type": "execute_result"
    }
   ],
   "source": [
    "mode_event = pheno_test_df[\"Event\"].mode()[0]\n",
    "pheno_test_df[\"Event\"] = pheno_test_df[\"Event\"].fillna(mode_event)\n",
    "pheno_test_df.isna().sum()"
   ]
  },
  {
   "cell_type": "markdown",
   "metadata": {
    "collapsed": false
   },
   "source": [
    "For the Event_time variable we will use mean imputation"
   ]
  },
  {
   "cell_type": "code",
   "execution_count": 24,
   "metadata": {
    "collapsed": false
   },
   "outputs": [
    {
     "data": {
      "text/plain": [
       "Sample_ID            0\n",
       "Age                  0\n",
       "BodyMassIndex        0\n",
       "Smoking              0\n",
       "BPTreatment          0\n",
       "PrevalentDiabetes    0\n",
       "PrevalentCHD         0\n",
       "PrevalentHFAIL       0\n",
       "Event                0\n",
       "Event_time           0\n",
       "SystolicBP           1\n",
       "NonHDLcholesterol    3\n",
       "Sex                  0\n",
       "dtype: int64"
      ]
     },
     "execution_count": 24,
     "metadata": {},
     "output_type": "execute_result"
    }
   ],
   "source": [
    "mean_time = pheno_test_df[\"Event_time\"].mean()\n",
    "pheno_test_df[\"Event_time\"] = pheno_test_df[\"Event_time\"].fillna(mean_time)\n",
    "pheno_test_df.isna().sum()"
   ]
  },
  {
   "cell_type": "markdown",
   "metadata": {
    "collapsed": false
   },
   "source": [
    "For the NonHDLcholesterol variable we will use mean imputation."
   ]
  },
  {
   "cell_type": "code",
   "execution_count": 25,
   "metadata": {
    "collapsed": false
   },
   "outputs": [
    {
     "data": {
      "text/plain": [
       "Sample_ID            0\n",
       "Age                  0\n",
       "BodyMassIndex        0\n",
       "Smoking              0\n",
       "BPTreatment          0\n",
       "PrevalentDiabetes    0\n",
       "PrevalentCHD         0\n",
       "PrevalentHFAIL       0\n",
       "Event                0\n",
       "Event_time           0\n",
       "SystolicBP           1\n",
       "NonHDLcholesterol    0\n",
       "Sex                  0\n",
       "dtype: int64"
      ]
     },
     "execution_count": 25,
     "metadata": {},
     "output_type": "execute_result"
    }
   ],
   "source": [
    "mean_cholesterol = pheno_test_df[\"NonHDLcholesterol\"].mean()\n",
    "pheno_test_df[\"NonHDLcholesterol\"] = pheno_test_df[\"NonHDLcholesterol\"].fillna(mean_cholesterol)\n",
    "pheno_test_df.isna().sum()"
   ]
  },
  {
   "cell_type": "markdown",
   "metadata": {
    "collapsed": false
   },
   "source": [
    "For the SystolicBP variable we will use mean imputation"
   ]
  },
  {
   "cell_type": "code",
   "execution_count": 26,
   "metadata": {
    "collapsed": false
   },
   "outputs": [
    {
     "data": {
      "text/plain": [
       "Sample_ID            0\n",
       "Age                  0\n",
       "BodyMassIndex        0\n",
       "Smoking              0\n",
       "BPTreatment          0\n",
       "PrevalentDiabetes    0\n",
       "PrevalentCHD         0\n",
       "PrevalentHFAIL       0\n",
       "Event                0\n",
       "Event_time           0\n",
       "SystolicBP           0\n",
       "NonHDLcholesterol    0\n",
       "Sex                  0\n",
       "dtype: int64"
      ]
     },
     "execution_count": 26,
     "metadata": {},
     "output_type": "execute_result"
    }
   ],
   "source": [
    "mean_systolic_bp = pheno_test_df[\"SystolicBP\"].mean()\n",
    "pheno_test_df[\"SystolicBP\"] = pheno_test_df[\"SystolicBP\"].fillna(mean_systolic_bp)\n",
    "pheno_test_df.isna().sum()"
   ]
  },
  {
   "cell_type": "markdown",
   "metadata": {
    "collapsed": false
   },
   "source": [
    "### Data summary"
   ]
  },
  {
   "cell_type": "code",
   "execution_count": 27,
   "metadata": {
    "collapsed": false
   },
   "outputs": [
    {
     "data": {
      "text/html": [
       "<div>\n",
       "<style scoped>\n",
       "    .dataframe tbody tr th:only-of-type {\n",
       "        vertical-align: middle;\n",
       "    }\n",
       "\n",
       "    .dataframe tbody tr th {\n",
       "        vertical-align: top;\n",
       "    }\n",
       "\n",
       "    .dataframe thead th {\n",
       "        text-align: right;\n",
       "    }\n",
       "</style>\n",
       "<table border=\"1\" class=\"dataframe\">\n",
       "  <thead>\n",
       "    <tr style=\"text-align: right;\">\n",
       "      <th></th>\n",
       "      <th>Age</th>\n",
       "      <th>BodyMassIndex</th>\n",
       "      <th>Smoking</th>\n",
       "      <th>BPTreatment</th>\n",
       "      <th>PrevalentDiabetes</th>\n",
       "      <th>PrevalentCHD</th>\n",
       "      <th>PrevalentHFAIL</th>\n",
       "      <th>Event</th>\n",
       "      <th>Event_time</th>\n",
       "      <th>SystolicBP</th>\n",
       "      <th>NonHDLcholesterol</th>\n",
       "      <th>Sex</th>\n",
       "    </tr>\n",
       "  </thead>\n",
       "  <tbody>\n",
       "    <tr>\n",
       "      <th>count</th>\n",
       "      <td>1809.000</td>\n",
       "      <td>1809.000</td>\n",
       "      <td>1809.000</td>\n",
       "      <td>1809.000</td>\n",
       "      <td>1809.000</td>\n",
       "      <td>1809.000</td>\n",
       "      <td>1809.000</td>\n",
       "      <td>1809.000</td>\n",
       "      <td>1809.000</td>\n",
       "      <td>1809.000</td>\n",
       "      <td>1809.000</td>\n",
       "      <td>1809.000</td>\n",
       "    </tr>\n",
       "    <tr>\n",
       "      <th>mean</th>\n",
       "      <td>49.339</td>\n",
       "      <td>26.853</td>\n",
       "      <td>0.237</td>\n",
       "      <td>0.155</td>\n",
       "      <td>0.066</td>\n",
       "      <td>0.025</td>\n",
       "      <td>0.021</td>\n",
       "      <td>0.080</td>\n",
       "      <td>13.860</td>\n",
       "      <td>135.999</td>\n",
       "      <td>4.082</td>\n",
       "      <td>0.437</td>\n",
       "    </tr>\n",
       "    <tr>\n",
       "      <th>std</th>\n",
       "      <td>14.782</td>\n",
       "      <td>4.693</td>\n",
       "      <td>0.425</td>\n",
       "      <td>0.362</td>\n",
       "      <td>0.248</td>\n",
       "      <td>0.157</td>\n",
       "      <td>0.143</td>\n",
       "      <td>0.272</td>\n",
       "      <td>5.248</td>\n",
       "      <td>22.299</td>\n",
       "      <td>1.087</td>\n",
       "      <td>0.496</td>\n",
       "    </tr>\n",
       "    <tr>\n",
       "      <th>min</th>\n",
       "      <td>24.099</td>\n",
       "      <td>16.374</td>\n",
       "      <td>0.000</td>\n",
       "      <td>0.000</td>\n",
       "      <td>0.000</td>\n",
       "      <td>0.000</td>\n",
       "      <td>0.000</td>\n",
       "      <td>0.000</td>\n",
       "      <td>-15.909</td>\n",
       "      <td>87.902</td>\n",
       "      <td>1.191</td>\n",
       "      <td>0.000</td>\n",
       "    </tr>\n",
       "    <tr>\n",
       "      <th>25%</th>\n",
       "      <td>36.959</td>\n",
       "      <td>23.665</td>\n",
       "      <td>0.000</td>\n",
       "      <td>0.000</td>\n",
       "      <td>0.000</td>\n",
       "      <td>0.000</td>\n",
       "      <td>0.000</td>\n",
       "      <td>0.000</td>\n",
       "      <td>15.731</td>\n",
       "      <td>119.956</td>\n",
       "      <td>3.312</td>\n",
       "      <td>0.000</td>\n",
       "    </tr>\n",
       "    <tr>\n",
       "      <th>50%</th>\n",
       "      <td>50.581</td>\n",
       "      <td>26.212</td>\n",
       "      <td>0.000</td>\n",
       "      <td>0.000</td>\n",
       "      <td>0.000</td>\n",
       "      <td>0.000</td>\n",
       "      <td>0.000</td>\n",
       "      <td>0.000</td>\n",
       "      <td>15.819</td>\n",
       "      <td>132.002</td>\n",
       "      <td>3.980</td>\n",
       "      <td>0.000</td>\n",
       "    </tr>\n",
       "    <tr>\n",
       "      <th>75%</th>\n",
       "      <td>61.510</td>\n",
       "      <td>29.330</td>\n",
       "      <td>0.000</td>\n",
       "      <td>0.000</td>\n",
       "      <td>0.000</td>\n",
       "      <td>0.000</td>\n",
       "      <td>0.000</td>\n",
       "      <td>0.000</td>\n",
       "      <td>15.881</td>\n",
       "      <td>148.999</td>\n",
       "      <td>4.719</td>\n",
       "      <td>1.000</td>\n",
       "    </tr>\n",
       "    <tr>\n",
       "      <th>max</th>\n",
       "      <td>74.239</td>\n",
       "      <td>55.980</td>\n",
       "      <td>1.000</td>\n",
       "      <td>1.000</td>\n",
       "      <td>1.000</td>\n",
       "      <td>1.000</td>\n",
       "      <td>1.000</td>\n",
       "      <td>1.000</td>\n",
       "      <td>16.000</td>\n",
       "      <td>253.075</td>\n",
       "      <td>9.031</td>\n",
       "      <td>1.000</td>\n",
       "    </tr>\n",
       "  </tbody>\n",
       "</table>\n",
       "</div>"
      ],
      "text/plain": [
       "           Age  BodyMassIndex  Smoking  BPTreatment  PrevalentDiabetes  \\\n",
       "count 1809.000       1809.000 1809.000     1809.000           1809.000   \n",
       "mean    49.339         26.853    0.237        0.155              0.066   \n",
       "std     14.782          4.693    0.425        0.362              0.248   \n",
       "min     24.099         16.374    0.000        0.000              0.000   \n",
       "25%     36.959         23.665    0.000        0.000              0.000   \n",
       "50%     50.581         26.212    0.000        0.000              0.000   \n",
       "75%     61.510         29.330    0.000        0.000              0.000   \n",
       "max     74.239         55.980    1.000        1.000              1.000   \n",
       "\n",
       "       PrevalentCHD  PrevalentHFAIL    Event  Event_time  SystolicBP  \\\n",
       "count      1809.000        1809.000 1809.000    1809.000    1809.000   \n",
       "mean          0.025           0.021    0.080      13.860     135.999   \n",
       "std           0.157           0.143    0.272       5.248      22.299   \n",
       "min           0.000           0.000    0.000     -15.909      87.902   \n",
       "25%           0.000           0.000    0.000      15.731     119.956   \n",
       "50%           0.000           0.000    0.000      15.819     132.002   \n",
       "75%           0.000           0.000    0.000      15.881     148.999   \n",
       "max           1.000           1.000    1.000      16.000     253.075   \n",
       "\n",
       "       NonHDLcholesterol      Sex  \n",
       "count           1809.000 1809.000  \n",
       "mean               4.082    0.437  \n",
       "std                1.087    0.496  \n",
       "min                1.191    0.000  \n",
       "25%                3.312    0.000  \n",
       "50%                3.980    0.000  \n",
       "75%                4.719    1.000  \n",
       "max                9.031    1.000  "
      ]
     },
     "execution_count": 27,
     "metadata": {},
     "output_type": "execute_result"
    }
   ],
   "source": [
    "pd.set_option('display.float_format', lambda x: '%.3f' % x)\n",
    "\n",
    "pheno_test_df.describe()"
   ]
  },
  {
   "cell_type": "code",
   "execution_count": 28,
   "metadata": {
    "collapsed": false
   },
   "outputs": [
    {
     "data": {
      "text/html": [
       "<div>\n",
       "<style scoped>\n",
       "    .dataframe tbody tr th:only-of-type {\n",
       "        vertical-align: middle;\n",
       "    }\n",
       "\n",
       "    .dataframe tbody tr th {\n",
       "        vertical-align: top;\n",
       "    }\n",
       "\n",
       "    .dataframe thead th {\n",
       "        text-align: right;\n",
       "    }\n",
       "</style>\n",
       "<table border=\"1\" class=\"dataframe\">\n",
       "  <thead>\n",
       "    <tr style=\"text-align: right;\">\n",
       "      <th></th>\n",
       "      <th>Simulated_2211</th>\n",
       "      <th>Simulated_1629</th>\n",
       "      <th>Simulated_1690</th>\n",
       "      <th>Simulated_1367</th>\n",
       "      <th>Simulated_3387</th>\n",
       "      <th>Simulated_1746</th>\n",
       "      <th>Simulated_3625</th>\n",
       "      <th>Simulated_1596</th>\n",
       "      <th>Simulated_3430</th>\n",
       "      <th>Simulated_1717</th>\n",
       "      <th>...</th>\n",
       "      <th>Simulated_1743</th>\n",
       "      <th>Simulated_1357</th>\n",
       "      <th>Simulated_1372</th>\n",
       "      <th>Simulated_1326</th>\n",
       "      <th>Simulated_1696</th>\n",
       "      <th>Simulated_1628</th>\n",
       "      <th>Simulated_3424</th>\n",
       "      <th>Simulated_2215</th>\n",
       "      <th>Simulated_3426</th>\n",
       "      <th>Simulated_1679</th>\n",
       "    </tr>\n",
       "  </thead>\n",
       "  <tbody>\n",
       "    <tr>\n",
       "      <th>count</th>\n",
       "      <td>5748.000</td>\n",
       "      <td>5748.000</td>\n",
       "      <td>5748.000</td>\n",
       "      <td>5748.000</td>\n",
       "      <td>5748.000</td>\n",
       "      <td>5748.000</td>\n",
       "      <td>5748.000</td>\n",
       "      <td>5748.000</td>\n",
       "      <td>5748.000</td>\n",
       "      <td>5748.000</td>\n",
       "      <td>...</td>\n",
       "      <td>5748.000</td>\n",
       "      <td>5748.000</td>\n",
       "      <td>5748.000</td>\n",
       "      <td>5748.000</td>\n",
       "      <td>5748.000</td>\n",
       "      <td>5748.000</td>\n",
       "      <td>5748.000</td>\n",
       "      <td>5748.000</td>\n",
       "      <td>5748.000</td>\n",
       "      <td>5748.000</td>\n",
       "    </tr>\n",
       "    <tr>\n",
       "      <th>mean</th>\n",
       "      <td>53.719</td>\n",
       "      <td>106.922</td>\n",
       "      <td>225.196</td>\n",
       "      <td>213.492</td>\n",
       "      <td>99.708</td>\n",
       "      <td>115.734</td>\n",
       "      <td>130.066</td>\n",
       "      <td>70.369</td>\n",
       "      <td>95.916</td>\n",
       "      <td>396.829</td>\n",
       "      <td>...</td>\n",
       "      <td>65.107</td>\n",
       "      <td>76.822</td>\n",
       "      <td>48.504</td>\n",
       "      <td>220.553</td>\n",
       "      <td>429.371</td>\n",
       "      <td>42.666</td>\n",
       "      <td>266.963</td>\n",
       "      <td>239.406</td>\n",
       "      <td>89.833</td>\n",
       "      <td>44.271</td>\n",
       "    </tr>\n",
       "    <tr>\n",
       "      <th>std</th>\n",
       "      <td>631.052</td>\n",
       "      <td>2258.873</td>\n",
       "      <td>4429.515</td>\n",
       "      <td>5637.424</td>\n",
       "      <td>3322.793</td>\n",
       "      <td>2112.061</td>\n",
       "      <td>2353.436</td>\n",
       "      <td>1150.086</td>\n",
       "      <td>3864.154</td>\n",
       "      <td>7064.241</td>\n",
       "      <td>...</td>\n",
       "      <td>1195.377</td>\n",
       "      <td>1420.474</td>\n",
       "      <td>944.988</td>\n",
       "      <td>5753.208</td>\n",
       "      <td>6763.298</td>\n",
       "      <td>1021.775</td>\n",
       "      <td>9264.318</td>\n",
       "      <td>5385.160</td>\n",
       "      <td>1437.692</td>\n",
       "      <td>1217.748</td>\n",
       "    </tr>\n",
       "    <tr>\n",
       "      <th>min</th>\n",
       "      <td>0.000</td>\n",
       "      <td>0.000</td>\n",
       "      <td>0.000</td>\n",
       "      <td>0.000</td>\n",
       "      <td>0.000</td>\n",
       "      <td>0.000</td>\n",
       "      <td>0.000</td>\n",
       "      <td>0.000</td>\n",
       "      <td>0.000</td>\n",
       "      <td>0.000</td>\n",
       "      <td>...</td>\n",
       "      <td>0.000</td>\n",
       "      <td>0.000</td>\n",
       "      <td>0.000</td>\n",
       "      <td>0.000</td>\n",
       "      <td>0.000</td>\n",
       "      <td>0.000</td>\n",
       "      <td>0.000</td>\n",
       "      <td>0.000</td>\n",
       "      <td>0.000</td>\n",
       "      <td>0.000</td>\n",
       "    </tr>\n",
       "    <tr>\n",
       "      <th>25%</th>\n",
       "      <td>0.000</td>\n",
       "      <td>0.000</td>\n",
       "      <td>0.000</td>\n",
       "      <td>0.000</td>\n",
       "      <td>0.000</td>\n",
       "      <td>0.000</td>\n",
       "      <td>0.000</td>\n",
       "      <td>0.000</td>\n",
       "      <td>0.000</td>\n",
       "      <td>0.000</td>\n",
       "      <td>...</td>\n",
       "      <td>0.000</td>\n",
       "      <td>0.000</td>\n",
       "      <td>0.000</td>\n",
       "      <td>0.000</td>\n",
       "      <td>0.000</td>\n",
       "      <td>0.000</td>\n",
       "      <td>0.000</td>\n",
       "      <td>0.000</td>\n",
       "      <td>0.000</td>\n",
       "      <td>0.000</td>\n",
       "    </tr>\n",
       "    <tr>\n",
       "      <th>50%</th>\n",
       "      <td>0.000</td>\n",
       "      <td>0.000</td>\n",
       "      <td>0.000</td>\n",
       "      <td>0.000</td>\n",
       "      <td>0.000</td>\n",
       "      <td>0.000</td>\n",
       "      <td>0.000</td>\n",
       "      <td>0.000</td>\n",
       "      <td>0.000</td>\n",
       "      <td>0.000</td>\n",
       "      <td>...</td>\n",
       "      <td>0.000</td>\n",
       "      <td>0.000</td>\n",
       "      <td>0.000</td>\n",
       "      <td>0.000</td>\n",
       "      <td>0.000</td>\n",
       "      <td>0.000</td>\n",
       "      <td>0.000</td>\n",
       "      <td>0.000</td>\n",
       "      <td>0.000</td>\n",
       "      <td>0.000</td>\n",
       "    </tr>\n",
       "    <tr>\n",
       "      <th>75%</th>\n",
       "      <td>2.000</td>\n",
       "      <td>1.000</td>\n",
       "      <td>2.000</td>\n",
       "      <td>1.000</td>\n",
       "      <td>1.000</td>\n",
       "      <td>1.000</td>\n",
       "      <td>0.000</td>\n",
       "      <td>1.000</td>\n",
       "      <td>1.000</td>\n",
       "      <td>2.000</td>\n",
       "      <td>...</td>\n",
       "      <td>1.000</td>\n",
       "      <td>0.000</td>\n",
       "      <td>0.000</td>\n",
       "      <td>2.000</td>\n",
       "      <td>2.000</td>\n",
       "      <td>0.250</td>\n",
       "      <td>1.000</td>\n",
       "      <td>1.000</td>\n",
       "      <td>1.000</td>\n",
       "      <td>0.000</td>\n",
       "    </tr>\n",
       "    <tr>\n",
       "      <th>max</th>\n",
       "      <td>20580.000</td>\n",
       "      <td>109661.000</td>\n",
       "      <td>214253.000</td>\n",
       "      <td>354395.000</td>\n",
       "      <td>244636.000</td>\n",
       "      <td>92738.000</td>\n",
       "      <td>92631.000</td>\n",
       "      <td>55556.000</td>\n",
       "      <td>288649.000</td>\n",
       "      <td>276696.000</td>\n",
       "      <td>...</td>\n",
       "      <td>61793.000</td>\n",
       "      <td>78018.000</td>\n",
       "      <td>42088.000</td>\n",
       "      <td>378149.000</td>\n",
       "      <td>239810.000</td>\n",
       "      <td>65741.000</td>\n",
       "      <td>670817.000</td>\n",
       "      <td>320964.000</td>\n",
       "      <td>69360.000</td>\n",
       "      <td>75438.000</td>\n",
       "    </tr>\n",
       "  </tbody>\n",
       "</table>\n",
       "<p>8 rows × 1809 columns</p>\n",
       "</div>"
      ],
      "text/plain": [
       "       Simulated_2211  Simulated_1629  Simulated_1690  Simulated_1367  \\\n",
       "count        5748.000        5748.000        5748.000        5748.000   \n",
       "mean           53.719         106.922         225.196         213.492   \n",
       "std           631.052        2258.873        4429.515        5637.424   \n",
       "min             0.000           0.000           0.000           0.000   \n",
       "25%             0.000           0.000           0.000           0.000   \n",
       "50%             0.000           0.000           0.000           0.000   \n",
       "75%             2.000           1.000           2.000           1.000   \n",
       "max         20580.000      109661.000      214253.000      354395.000   \n",
       "\n",
       "       Simulated_3387  Simulated_1746  Simulated_3625  Simulated_1596  \\\n",
       "count        5748.000        5748.000        5748.000        5748.000   \n",
       "mean           99.708         115.734         130.066          70.369   \n",
       "std          3322.793        2112.061        2353.436        1150.086   \n",
       "min             0.000           0.000           0.000           0.000   \n",
       "25%             0.000           0.000           0.000           0.000   \n",
       "50%             0.000           0.000           0.000           0.000   \n",
       "75%             1.000           1.000           0.000           1.000   \n",
       "max        244636.000       92738.000       92631.000       55556.000   \n",
       "\n",
       "       Simulated_3430  Simulated_1717  ...  Simulated_1743  Simulated_1357  \\\n",
       "count        5748.000        5748.000  ...        5748.000        5748.000   \n",
       "mean           95.916         396.829  ...          65.107          76.822   \n",
       "std          3864.154        7064.241  ...        1195.377        1420.474   \n",
       "min             0.000           0.000  ...           0.000           0.000   \n",
       "25%             0.000           0.000  ...           0.000           0.000   \n",
       "50%             0.000           0.000  ...           0.000           0.000   \n",
       "75%             1.000           2.000  ...           1.000           0.000   \n",
       "max        288649.000      276696.000  ...       61793.000       78018.000   \n",
       "\n",
       "       Simulated_1372  Simulated_1326  Simulated_1696  Simulated_1628  \\\n",
       "count        5748.000        5748.000        5748.000        5748.000   \n",
       "mean           48.504         220.553         429.371          42.666   \n",
       "std           944.988        5753.208        6763.298        1021.775   \n",
       "min             0.000           0.000           0.000           0.000   \n",
       "25%             0.000           0.000           0.000           0.000   \n",
       "50%             0.000           0.000           0.000           0.000   \n",
       "75%             0.000           2.000           2.000           0.250   \n",
       "max         42088.000      378149.000      239810.000       65741.000   \n",
       "\n",
       "       Simulated_3424  Simulated_2215  Simulated_3426  Simulated_1679  \n",
       "count        5748.000        5748.000        5748.000        5748.000  \n",
       "mean          266.963         239.406          89.833          44.271  \n",
       "std          9264.318        5385.160        1437.692        1217.748  \n",
       "min             0.000           0.000           0.000           0.000  \n",
       "25%             0.000           0.000           0.000           0.000  \n",
       "50%             0.000           0.000           0.000           0.000  \n",
       "75%             1.000           1.000           1.000           0.000  \n",
       "max        670817.000      320964.000       69360.000       75438.000  \n",
       "\n",
       "[8 rows x 1809 columns]"
      ]
     },
     "execution_count": 28,
     "metadata": {},
     "output_type": "execute_result"
    }
   ],
   "source": [
    "read_test_df.describe()"
   ]
  },
  {
   "cell_type": "code",
   "execution_count": 29,
   "metadata": {
    "collapsed": false
   },
   "outputs": [
    {
     "data": {
      "text/html": [
       "<div>\n",
       "<style scoped>\n",
       "    .dataframe tbody tr th:only-of-type {\n",
       "        vertical-align: middle;\n",
       "    }\n",
       "\n",
       "    .dataframe tbody tr th {\n",
       "        vertical-align: top;\n",
       "    }\n",
       "\n",
       "    .dataframe thead th {\n",
       "        text-align: right;\n",
       "    }\n",
       "</style>\n",
       "<table border=\"1\" class=\"dataframe\">\n",
       "  <thead>\n",
       "    <tr style=\"text-align: right;\">\n",
       "      <th></th>\n",
       "      <th>Domain</th>\n",
       "      <th>Phylum</th>\n",
       "      <th>Class</th>\n",
       "      <th>Order</th>\n",
       "      <th>Family</th>\n",
       "      <th>Genus</th>\n",
       "      <th>Species</th>\n",
       "    </tr>\n",
       "  </thead>\n",
       "  <tbody>\n",
       "    <tr>\n",
       "      <th>count</th>\n",
       "      <td>5748</td>\n",
       "      <td>5748</td>\n",
       "      <td>5748</td>\n",
       "      <td>5748</td>\n",
       "      <td>5748</td>\n",
       "      <td>5748</td>\n",
       "      <td>5748</td>\n",
       "    </tr>\n",
       "    <tr>\n",
       "      <th>unique</th>\n",
       "      <td>5</td>\n",
       "      <td>51</td>\n",
       "      <td>150</td>\n",
       "      <td>174</td>\n",
       "      <td>370</td>\n",
       "      <td>1480</td>\n",
       "      <td>4536</td>\n",
       "    </tr>\n",
       "    <tr>\n",
       "      <th>top</th>\n",
       "      <td>k__Bacteria</td>\n",
       "      <td>p__Proteobacteria</td>\n",
       "      <td>c__Actinobacteria</td>\n",
       "      <td>o__Bacillales</td>\n",
       "      <td>f__Flavobacteriaceae</td>\n",
       "      <td>g__</td>\n",
       "      <td>s__</td>\n",
       "    </tr>\n",
       "    <tr>\n",
       "      <th>freq</th>\n",
       "      <td>5024</td>\n",
       "      <td>2215</td>\n",
       "      <td>916</td>\n",
       "      <td>391</td>\n",
       "      <td>196</td>\n",
       "      <td>346</td>\n",
       "      <td>845</td>\n",
       "    </tr>\n",
       "  </tbody>\n",
       "</table>\n",
       "</div>"
      ],
      "text/plain": [
       "             Domain             Phylum              Class          Order  \\\n",
       "count          5748               5748               5748           5748   \n",
       "unique            5                 51                150            174   \n",
       "top     k__Bacteria  p__Proteobacteria  c__Actinobacteria  o__Bacillales   \n",
       "freq           5024               2215                916            391   \n",
       "\n",
       "                      Family Genus Species  \n",
       "count                   5748  5748    5748  \n",
       "unique                   370  1480    4536  \n",
       "top     f__Flavobacteriaceae   g__     s__  \n",
       "freq                     196   346     845  "
      ]
     },
     "execution_count": 29,
     "metadata": {},
     "output_type": "execute_result"
    }
   ],
   "source": [
    "taxtable_test_df.describe()"
   ]
  },
  {
   "cell_type": "markdown",
   "metadata": {
    "collapsed": false
   },
   "source": [
    "### Training data vizualization"
   ]
  },
  {
   "cell_type": "code",
   "execution_count": 30,
   "metadata": {
    "collapsed": false
   },
   "outputs": [],
   "source": [
    "import matplotlib.pyplot as plt\n",
    "import seaborn as sns"
   ]
  },
  {
   "cell_type": "code",
   "execution_count": 31,
   "metadata": {
    "collapsed": false
   },
   "outputs": [
    {
     "data": {
      "text/plain": [
       "Index(['Sample_ID', 'Age', 'BodyMassIndex', 'Smoking', 'BPTreatment',\n",
       "       'PrevalentDiabetes', 'PrevalentCHD', 'PrevalentHFAIL', 'Event',\n",
       "       'Event_time', 'SystolicBP', 'NonHDLcholesterol', 'Sex'],\n",
       "      dtype='object')"
      ]
     },
     "execution_count": 31,
     "metadata": {},
     "output_type": "execute_result"
    }
   ],
   "source": [
    "pheno_test_df.columns"
   ]
  },
  {
   "cell_type": "code",
   "execution_count": 32,
   "metadata": {
    "collapsed": false
   },
   "outputs": [
    {
     "data": {
      "image/png": "[encoded data removed]",
      "text/plain": [
       "<Figure size 640x480 with 1 Axes>"
      ]
     },
     "metadata": {},
     "output_type": "display_data"
    }
   ],
   "source": [
    "plt.hist(pheno_test_df[\"Age\"], color=\"orange\")\n",
    "plt.axis([20, 80, 0, 300])\n",
    "plt.title(\"Age distribution\")\n",
    "plt.xlabel(\"Age\")\n",
    "plt.ylabel(\"Age frequency\")\n",
    "plt.show()"
   ]
  },
  {
   "cell_type": "code",
   "execution_count": 33,
   "metadata": {
    "collapsed": false
   },
   "outputs": [
    {
     "data": {
      "image/png": "[encoded data removed]",
      "text/plain": [
       "<Figure size 640x480 with 1 Axes>"
      ]
     },
     "metadata": {},
     "output_type": "display_data"
    }
   ],
   "source": [
    "plt.hist(pheno_test_df[\"BodyMassIndex\"], color=\"orange\")\n",
    "plt.title(\"BMI distribution\")\n",
    "plt.xlabel(\"BMI\")\n",
    "plt.ylabel(\"Frequency\")\n",
    "plt.show()"
   ]
  },
  {
   "cell_type": "code",
   "execution_count": 34,
   "metadata": {
    "collapsed": false
   },
   "outputs": [
    {
     "data": {
      "image/png": "[encoded data removed]",
      "text/plain": [
       "<Figure size 640x480 with 1 Axes>"
      ]
     },
     "metadata": {},
     "output_type": "display_data"
    }
   ],
   "source": [
    "percent_smoking = (pd.Series.value_counts(pheno_test_df[\"Smoking\"] == 1) / pheno_test_df.shape[0]) * 100\n",
    "\n",
    "plt.pie(percent_smoking, labels=[\"Non smokers\", \"Smokers\"], autopct='%1.0f%%')\n",
    "plt.title(\"Percentage of Smoker and Non Smokers\")\n",
    "plt.show()"
   ]
  },
  {
   "cell_type": "code",
   "execution_count": 35,
   "metadata": {
    "collapsed": false
   },
   "outputs": [
    {
     "data": {
      "image/png": "[encoded data removed]",
      "text/plain": [
       "<Figure size 640x480 with 1 Axes>"
      ]
     },
     "metadata": {},
     "output_type": "display_data"
    }
   ],
   "source": [
    "percent_bptreatment = (pd.Series.value_counts(pheno_test_df[\"BPTreatment\"] == 1) / pheno_test_df.shape[0]) * 100\n",
    "\n",
    "plt.pie(percent_bptreatment, labels=[\"No\", \"Yes\"], autopct='%1.0f%%')\n",
    "plt.title(\"Percentage of Hypertension Treatment at baseline by pacients\")\n",
    "plt.show()"
   ]
  },
  {
   "cell_type": "code",
   "execution_count": 36,
   "metadata": {
    "collapsed": false
   },
   "outputs": [
    {
     "data": {
      "image/png": "[encoded data removed]",
      "text/plain": [
       "<Figure size 640x480 with 1 Axes>"
      ]
     },
     "metadata": {},
     "output_type": "display_data"
    }
   ],
   "source": [
    "percent_diabetes = (pd.Series.value_counts(pheno_test_df[\"PrevalentDiabetes\"] == 1) / pheno_test_df.shape[0]) * 100\n",
    "\n",
    "plt.pie(percent_diabetes, labels=[\"No\", \"Yes\"], autopct='%1.0f%%')\n",
    "plt.title(\"Percentage of Diabetes at baseline by pacients\")\n",
    "plt.show()"
   ]
  },
  {
   "cell_type": "code",
   "execution_count": 37,
   "metadata": {
    "collapsed": false
   },
   "outputs": [
    {
     "data": {
      "image/png": "[encoded data removed]",
      "text/plain": [
       "<Figure size 640x480 with 1 Axes>"
      ]
     },
     "metadata": {},
     "output_type": "display_data"
    }
   ],
   "source": [
    "percent_CHD = (pd.Series.value_counts(pheno_test_df[\"PrevalentCHD\"] == 1) / pheno_test_df.shape[0]) * 100\n",
    "\n",
    "plt.pie(percent_CHD, labels=[\"No\", \"Yes\"], autopct='%1.0f%%')\n",
    "plt.title(\"Percentage of Coronary Heart Disease at baseline by pacients\")\n",
    "plt.show()"
   ]
  },
  {
   "cell_type": "code",
   "execution_count": 38,
   "metadata": {
    "collapsed": false
   },
   "outputs": [
    {
     "data": {
      "image/png": "[encoded data removed]",
      "text/plain": [
       "<Figure size 640x480 with 1 Axes>"
      ]
     },
     "metadata": {},
     "output_type": "display_data"
    }
   ],
   "source": [
    "percent_HFail = (pd.Series.value_counts(pheno_test_df[\"PrevalentHFAIL\"] == 1) / pheno_test_df.shape[0]) * 100\n",
    "\n",
    "plt.pie(percent_HFail, labels=[\"No\", \"Yes\"], autopct='%1.0f%%')\n",
    "plt.title(\"Percentage of Heart Failure diseases at baseline by pacients\")\n",
    "plt.show()"
   ]
  },
  {
   "cell_type": "markdown",
   "metadata": {
    "collapsed": false
   },
   "source": [
    "## Statistical tests"
   ]
  },
  {
   "cell_type": "markdown",
   "metadata": {
    "collapsed": false
   },
   "source": [
    "Statistical test to ensure the distribution of the variables"
   ]
  },
  {
   "cell_type": "code",
   "execution_count": 39,
   "metadata": {
    "collapsed": false
   },
   "outputs": [
    {
     "name": "stdout",
     "output_type": "stream",
     "text": [
      "BodyMassIndex ----->    P-VALUE:      1.275509890986634e-26\n",
      "Event_time ----->    P-VALUE:      0.0\n",
      "NonHDLcholesterol ----->    P-VALUE:      5.867061800583426e-15\n",
      "SystolicBP ----->    P-VALUE:      6.35829210237336e-22\n"
     ]
    },
    {
     "data": {
      "image/png": "[encoded data removed]",
      "text/plain": [
       "<Figure size 640x480 with 1 Axes>"
      ]
     },
     "metadata": {},
     "output_type": "display_data"
    },
    {
     "data": {
      "image/png": "[encoded data removed]",
      "text/plain": [
       "<Figure size 640x480 with 1 Axes>"
      ]
     },
     "metadata": {},
     "output_type": "display_data"
    },
    {
     "data": {
      "image/png": "[encoded data removed]",
      "text/plain": [
       "<Figure size 640x480 with 1 Axes>"
      ]
     },
     "metadata": {},
     "output_type": "display_data"
    },
    {
     "data": {
      "image/png": "[encoded data removed]",
      "text/plain": [
       "<Figure size 640x480 with 1 Axes>"
      ]
     },
     "metadata": {},
     "output_type": "display_data"
    }
   ],
   "source": [
    "from statsmodels.graphics.gofplots import qqplot\n",
    "from scipy.stats import norm, shapiro\n",
    "import matplotlib.pyplot as plt\n",
    "\n",
    "\n",
    "\n",
    "columns_to_plot = pheno_test_df.columns.difference([\"Sample_ID\", \"Sex\", \"Age\", \"Event\", \"Smoking\", \"BPTreatment\", \"PrevalentDiabetes\", \"PrevalentCHD\", \"PrevalentHFAIL\"])\n",
    "\n",
    "for col in columns_to_plot:\n",
    "    data = pheno_test_df[col]\n",
    "\n",
    "    fig = qqplot(data, dist=norm, line=\"s\")\n",
    "    plt.title(col)\n",
    "    print(f\"{col} ----->    P-VALUE:      {shapiro(pheno_test_df[col]).pvalue}\")"
   ]
  },
  {
   "cell_type": "markdown",
   "metadata": {
    "collapsed": false
   },
   "source": [
    "Exporting datasets to csv to further use"
   ]
  },
  {
   "cell_type": "code",
   "execution_count": 40,
   "metadata": {
    "collapsed": false
   },
   "outputs": [],
   "source": [
    "pheno_test_df.to_csv(\"../test/pheno_test_treated.csv\", index=False)\n",
    "read_test_df.to_csv(\"../test/readcounts_test_treated.csv\", index=False)\n",
    "taxtable_test_df.to_csv(\"../test/taxtable_test_treated.csv\", index=False)"
   ]
  }
 ],
 "metadata": {
  "kernelspec": {
   "display_name": "Python 3.10.6 64-bit",
   "language": "python",
   "name": "python3"
  },
  "language_info": {
   "codemirror_mode": {
    "name": "ipython",
    "version": 3
   },
   "file_extension": ".py",
   "mimetype": "text/x-python",
   "name": "python",
   "nbconvert_exporter": "python",
   "pygments_lexer": "ipython3",
   "version": "3.10.6 (main, Nov 14 2022, 16:10:14) [GCC 11.3.0]"
  },
  "orig_nbformat": 4,
  "vscode": {
   "interpreter": {
    "hash": "916dbcbb3f70747c44a77c7bcd40155683ae19c65e1c03b4aa3499c5328201f1"
   }
  }
 },
 "nbformat": 4,
 "nbformat_minor": 2
}
