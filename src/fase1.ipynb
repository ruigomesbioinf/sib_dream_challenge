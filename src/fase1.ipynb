{
 "cells": [
  {
   "cell_type": "markdown",
   "metadata": {},
   "source": [
    "# Dream Challenge: FINRISK - Heart Failure and Microbiome"
   ]
  },
  {
   "cell_type": "markdown",
   "metadata": {},
   "source": [
    "### Overview"
   ]
  },
  {
   "cell_type": "markdown",
   "metadata": {},
   "source": [
    "<div style=\"text-align: justify\"> Cardiovascular diseases are the leading cause of death both in men and women worldwide. Heart failure (HF) is the most common form of heart disease, characterised by the heart's inability to pump a sufficient supply of blood to meet the needs of the body. The lifetime risk of developing HF is roughly 20%, yet, it remains difficult to diagnose due to its and a lack of agreement of diagnostic criteria. As the diagnosis of HF is dependent on ascertainment of clinical histories and appropriate screening of symptomatic individuals, identifying those at risk of HF is essential. <br> <br> This DREAM challenge focuses on the prediction of Heart Failure using a combination of gut microbiome and clinical variables. </div>"
   ]
  },
  {
   "cell_type": "markdown",
   "metadata": {},
   "source": [
    "<img src=\"metadata.png\"> </img>"
   ]
  },
  {
   "cell_type": "markdown",
   "metadata": {},
   "source": [
    " <br> **Fig.1** List of metadata explained. <br> <br> *negative values indicates the occurrence of Heart Failure in participants before the baseline."
   ]
  },
  {
   "cell_type": "markdown",
   "metadata": {},
   "source": [
    "------------------------------"
   ]
  },
  {
   "cell_type": "markdown",
   "metadata": {},
   "source": [
    "# Exploring data"
   ]
  },
  {
   "cell_type": "markdown",
   "metadata": {},
   "source": [
    "### Loading data"
   ]
  },
  {
   "cell_type": "code",
   "execution_count": 35,
   "metadata": {},
   "outputs": [],
   "source": [
    "import pandas as pd\n",
    "\n",
    "# csv's on test folder\n",
    "pheno_train = r\"../train/pheno_training.csv\"\n",
    "read_counts = r\"../train/readcounts_training.csv\"\n",
    "taxtable = r\"../train/taxtable.csv\"\n"
   ]
  },
  {
   "attachments": {},
   "cell_type": "markdown",
   "metadata": {},
   "source": [
    "Host phenotype data (pheno_train.csv): Individuals in rows and metadata variables in columns."
   ]
  },
  {
   "cell_type": "code",
   "execution_count": 36,
   "metadata": {},
   "outputs": [
    {
     "data": {
      "text/html": [
       "<div>\n",
       "<style scoped>\n",
       "    .dataframe tbody tr th:only-of-type {\n",
       "        vertical-align: middle;\n",
       "    }\n",
       "\n",
       "    .dataframe tbody tr th {\n",
       "        vertical-align: top;\n",
       "    }\n",
       "\n",
       "    .dataframe thead th {\n",
       "        text-align: right;\n",
       "    }\n",
       "</style>\n",
       "<table border=\"1\" class=\"dataframe\">\n",
       "  <thead>\n",
       "    <tr style=\"text-align: right;\">\n",
       "      <th></th>\n",
       "      <th>Sample_ID</th>\n",
       "      <th>Age</th>\n",
       "      <th>BodyMassIndex</th>\n",
       "      <th>Smoking</th>\n",
       "      <th>BPTreatment</th>\n",
       "      <th>PrevalentDiabetes</th>\n",
       "      <th>PrevalentCHD</th>\n",
       "      <th>PrevalentHFAIL</th>\n",
       "      <th>Event</th>\n",
       "      <th>Event_time</th>\n",
       "      <th>SystolicBP</th>\n",
       "      <th>NonHDLcholesterol</th>\n",
       "      <th>Sex</th>\n",
       "    </tr>\n",
       "  </thead>\n",
       "  <tbody>\n",
       "    <tr>\n",
       "      <th>0</th>\n",
       "      <td>328</td>\n",
       "      <td>53.618</td>\n",
       "      <td>24.127</td>\n",
       "      <td>0.000</td>\n",
       "      <td>0</td>\n",
       "      <td>0.000</td>\n",
       "      <td>0.000</td>\n",
       "      <td>0.000</td>\n",
       "      <td>0.000</td>\n",
       "      <td>15.750</td>\n",
       "      <td>133.077</td>\n",
       "      <td>3.020</td>\n",
       "      <td>0</td>\n",
       "    </tr>\n",
       "    <tr>\n",
       "      <th>1</th>\n",
       "      <td>1644</td>\n",
       "      <td>36.811</td>\n",
       "      <td>27.992</td>\n",
       "      <td>0.000</td>\n",
       "      <td>0</td>\n",
       "      <td>0.000</td>\n",
       "      <td>0.000</td>\n",
       "      <td>0.000</td>\n",
       "      <td>0.000</td>\n",
       "      <td>15.881</td>\n",
       "      <td>108.914</td>\n",
       "      <td>5.480</td>\n",
       "      <td>0</td>\n",
       "    </tr>\n",
       "    <tr>\n",
       "      <th>2</th>\n",
       "      <td>1710</td>\n",
       "      <td>49.429</td>\n",
       "      <td>23.664</td>\n",
       "      <td>0.000</td>\n",
       "      <td>0</td>\n",
       "      <td>0.000</td>\n",
       "      <td>0.000</td>\n",
       "      <td>0.000</td>\n",
       "      <td>0.000</td>\n",
       "      <td>15.891</td>\n",
       "      <td>110.064</td>\n",
       "      <td>4.388</td>\n",
       "      <td>1</td>\n",
       "    </tr>\n",
       "    <tr>\n",
       "      <th>3</th>\n",
       "      <td>1732</td>\n",
       "      <td>48.842</td>\n",
       "      <td>26.804</td>\n",
       "      <td>0.000</td>\n",
       "      <td>0</td>\n",
       "      <td>0.000</td>\n",
       "      <td>0.000</td>\n",
       "      <td>0.000</td>\n",
       "      <td>0.000</td>\n",
       "      <td>15.918</td>\n",
       "      <td>128.059</td>\n",
       "      <td>5.119</td>\n",
       "      <td>0</td>\n",
       "    </tr>\n",
       "    <tr>\n",
       "      <th>4</th>\n",
       "      <td>1727</td>\n",
       "      <td>60.738</td>\n",
       "      <td>29.862</td>\n",
       "      <td>0.000</td>\n",
       "      <td>0</td>\n",
       "      <td>0.000</td>\n",
       "      <td>0.000</td>\n",
       "      <td>0.000</td>\n",
       "      <td>0.000</td>\n",
       "      <td>15.841</td>\n",
       "      <td>169.913</td>\n",
       "      <td>5.740</td>\n",
       "      <td>1</td>\n",
       "    </tr>\n",
       "  </tbody>\n",
       "</table>\n",
       "</div>"
      ],
      "text/plain": [
       "  Sample_ID    Age  BodyMassIndex  Smoking  BPTreatment  PrevalentDiabetes  \\\n",
       "0       328 53.618         24.127    0.000            0              0.000   \n",
       "1      1644 36.811         27.992    0.000            0              0.000   \n",
       "2      1710 49.429         23.664    0.000            0              0.000   \n",
       "3      1732 48.842         26.804    0.000            0              0.000   \n",
       "4      1727 60.738         29.862    0.000            0              0.000   \n",
       "\n",
       "   PrevalentCHD  PrevalentHFAIL  Event  Event_time  SystolicBP  \\\n",
       "0         0.000           0.000  0.000      15.750     133.077   \n",
       "1         0.000           0.000  0.000      15.881     108.914   \n",
       "2         0.000           0.000  0.000      15.891     110.064   \n",
       "3         0.000           0.000  0.000      15.918     128.059   \n",
       "4         0.000           0.000  0.000      15.841     169.913   \n",
       "\n",
       "   NonHDLcholesterol  Sex  \n",
       "0              3.020    0  \n",
       "1              5.480    0  \n",
       "2              4.388    1  \n",
       "3              5.119    0  \n",
       "4              5.740    1  "
      ]
     },
     "execution_count": 36,
     "metadata": {},
     "output_type": "execute_result"
    }
   ],
   "source": [
    "pheno_train_df = pd.read_csv(pheno_train)\n",
    "pheno_train_df.rename(columns={\"Unnamed: 0\": \"Sample_ID\"}, inplace=True) # rename the first column to Sample_ID\n",
    "pheno_train_df[\"Sample_ID\"] = pheno_train_df[\"Sample_ID\"].str.replace(\"Simulated_\", \"\") # Change Sample_ID to only integer values\n",
    "pheno_train_df.head()"
   ]
  },
  {
   "attachments": {},
   "cell_type": "markdown",
   "metadata": {},
   "source": [
    "Taxonomic abundance table (readcounts_train.csv): Individuals in columns and taxon names in rows."
   ]
  },
  {
   "cell_type": "code",
   "execution_count": 37,
   "metadata": {},
   "outputs": [
    {
     "data": {
      "text/html": [
       "<div>\n",
       "<style scoped>\n",
       "    .dataframe tbody tr th:only-of-type {\n",
       "        vertical-align: middle;\n",
       "    }\n",
       "\n",
       "    .dataframe tbody tr th {\n",
       "        vertical-align: top;\n",
       "    }\n",
       "\n",
       "    .dataframe thead th {\n",
       "        text-align: right;\n",
       "    }\n",
       "</style>\n",
       "<table border=\"1\" class=\"dataframe\">\n",
       "  <thead>\n",
       "    <tr style=\"text-align: right;\">\n",
       "      <th></th>\n",
       "      <th>Taxon name</th>\n",
       "      <th>Simulated_328</th>\n",
       "      <th>Simulated_1644</th>\n",
       "      <th>Simulated_1710</th>\n",
       "      <th>Simulated_1732</th>\n",
       "      <th>Simulated_1727</th>\n",
       "      <th>Simulated_2196</th>\n",
       "      <th>Simulated_1681</th>\n",
       "      <th>Simulated_1651</th>\n",
       "      <th>Simulated_1603</th>\n",
       "      <th>...</th>\n",
       "      <th>Simulated_1676</th>\n",
       "      <th>Simulated_1630</th>\n",
       "      <th>Simulated_1605</th>\n",
       "      <th>Simulated_2202</th>\n",
       "      <th>Simulated_1682</th>\n",
       "      <th>Simulated_1783</th>\n",
       "      <th>Simulated_3425</th>\n",
       "      <th>Simulated_1789</th>\n",
       "      <th>Simulated_1592</th>\n",
       "      <th>Simulated_1731</th>\n",
       "    </tr>\n",
       "  </thead>\n",
       "  <tbody>\n",
       "    <tr>\n",
       "      <th>0</th>\n",
       "      <td>k__Archaea;p__;c__;o__;f__;g__;s__</td>\n",
       "      <td>0</td>\n",
       "      <td>0</td>\n",
       "      <td>0</td>\n",
       "      <td>0</td>\n",
       "      <td>0</td>\n",
       "      <td>0</td>\n",
       "      <td>0</td>\n",
       "      <td>0</td>\n",
       "      <td>0</td>\n",
       "      <td>...</td>\n",
       "      <td>0</td>\n",
       "      <td>0</td>\n",
       "      <td>0</td>\n",
       "      <td>0</td>\n",
       "      <td>0</td>\n",
       "      <td>0</td>\n",
       "      <td>0</td>\n",
       "      <td>0</td>\n",
       "      <td>0</td>\n",
       "      <td>0</td>\n",
       "    </tr>\n",
       "    <tr>\n",
       "      <th>1</th>\n",
       "      <td>k__Archaea;p__Candidatus_Korarchaeota;c__;o__;...</td>\n",
       "      <td>0</td>\n",
       "      <td>0</td>\n",
       "      <td>0</td>\n",
       "      <td>0</td>\n",
       "      <td>0</td>\n",
       "      <td>0</td>\n",
       "      <td>0</td>\n",
       "      <td>0</td>\n",
       "      <td>0</td>\n",
       "      <td>...</td>\n",
       "      <td>0</td>\n",
       "      <td>0</td>\n",
       "      <td>0</td>\n",
       "      <td>0</td>\n",
       "      <td>0</td>\n",
       "      <td>0</td>\n",
       "      <td>0</td>\n",
       "      <td>0</td>\n",
       "      <td>0</td>\n",
       "      <td>0</td>\n",
       "    </tr>\n",
       "    <tr>\n",
       "      <th>2</th>\n",
       "      <td>k__Archaea;p__Crenarchaeota;c__Thermoprotei;o_...</td>\n",
       "      <td>0</td>\n",
       "      <td>0</td>\n",
       "      <td>0</td>\n",
       "      <td>0</td>\n",
       "      <td>0</td>\n",
       "      <td>0</td>\n",
       "      <td>0</td>\n",
       "      <td>0</td>\n",
       "      <td>0</td>\n",
       "      <td>...</td>\n",
       "      <td>0</td>\n",
       "      <td>0</td>\n",
       "      <td>0</td>\n",
       "      <td>0</td>\n",
       "      <td>0</td>\n",
       "      <td>0</td>\n",
       "      <td>0</td>\n",
       "      <td>0</td>\n",
       "      <td>0</td>\n",
       "      <td>0</td>\n",
       "    </tr>\n",
       "    <tr>\n",
       "      <th>3</th>\n",
       "      <td>k__Archaea;p__Crenarchaeota;c__Thermoprotei;o_...</td>\n",
       "      <td>0</td>\n",
       "      <td>0</td>\n",
       "      <td>0</td>\n",
       "      <td>0</td>\n",
       "      <td>0</td>\n",
       "      <td>0</td>\n",
       "      <td>0</td>\n",
       "      <td>0</td>\n",
       "      <td>0</td>\n",
       "      <td>...</td>\n",
       "      <td>0</td>\n",
       "      <td>0</td>\n",
       "      <td>0</td>\n",
       "      <td>0</td>\n",
       "      <td>0</td>\n",
       "      <td>0</td>\n",
       "      <td>0</td>\n",
       "      <td>0</td>\n",
       "      <td>0</td>\n",
       "      <td>0</td>\n",
       "    </tr>\n",
       "    <tr>\n",
       "      <th>4</th>\n",
       "      <td>k__Archaea;p__Crenarchaeota;c__Thermoprotei;o_...</td>\n",
       "      <td>0</td>\n",
       "      <td>0</td>\n",
       "      <td>0</td>\n",
       "      <td>0</td>\n",
       "      <td>0</td>\n",
       "      <td>0</td>\n",
       "      <td>0</td>\n",
       "      <td>0</td>\n",
       "      <td>0</td>\n",
       "      <td>...</td>\n",
       "      <td>0</td>\n",
       "      <td>0</td>\n",
       "      <td>0</td>\n",
       "      <td>0</td>\n",
       "      <td>0</td>\n",
       "      <td>0</td>\n",
       "      <td>0</td>\n",
       "      <td>0</td>\n",
       "      <td>0</td>\n",
       "      <td>0</td>\n",
       "    </tr>\n",
       "  </tbody>\n",
       "</table>\n",
       "<p>5 rows × 3616 columns</p>\n",
       "</div>"
      ],
      "text/plain": [
       "                                          Taxon name  Simulated_328  \\\n",
       "0                 k__Archaea;p__;c__;o__;f__;g__;s__              0   \n",
       "1  k__Archaea;p__Candidatus_Korarchaeota;c__;o__;...              0   \n",
       "2  k__Archaea;p__Crenarchaeota;c__Thermoprotei;o_...              0   \n",
       "3  k__Archaea;p__Crenarchaeota;c__Thermoprotei;o_...              0   \n",
       "4  k__Archaea;p__Crenarchaeota;c__Thermoprotei;o_...              0   \n",
       "\n",
       "   Simulated_1644  Simulated_1710  Simulated_1732  Simulated_1727  \\\n",
       "0               0               0               0               0   \n",
       "1               0               0               0               0   \n",
       "2               0               0               0               0   \n",
       "3               0               0               0               0   \n",
       "4               0               0               0               0   \n",
       "\n",
       "   Simulated_2196  Simulated_1681  Simulated_1651  Simulated_1603  ...  \\\n",
       "0               0               0               0               0  ...   \n",
       "1               0               0               0               0  ...   \n",
       "2               0               0               0               0  ...   \n",
       "3               0               0               0               0  ...   \n",
       "4               0               0               0               0  ...   \n",
       "\n",
       "   Simulated_1676  Simulated_1630  Simulated_1605  Simulated_2202  \\\n",
       "0               0               0               0               0   \n",
       "1               0               0               0               0   \n",
       "2               0               0               0               0   \n",
       "3               0               0               0               0   \n",
       "4               0               0               0               0   \n",
       "\n",
       "   Simulated_1682  Simulated_1783  Simulated_3425  Simulated_1789  \\\n",
       "0               0               0               0               0   \n",
       "1               0               0               0               0   \n",
       "2               0               0               0               0   \n",
       "3               0               0               0               0   \n",
       "4               0               0               0               0   \n",
       "\n",
       "   Simulated_1592  Simulated_1731  \n",
       "0               0               0  \n",
       "1               0               0  \n",
       "2               0               0  \n",
       "3               0               0  \n",
       "4               0               0  \n",
       "\n",
       "[5 rows x 3616 columns]"
      ]
     },
     "execution_count": 37,
     "metadata": {},
     "output_type": "execute_result"
    }
   ],
   "source": [
    "read_counts_df = pd.read_csv(read_counts)\n",
    "read_counts_df.rename(columns={\"Unnamed: 0\": \"Taxon name\"}, inplace=True) # rename the first column to Taxon name\n",
    "read_counts_df.head()"
   ]
  },
  {
   "cell_type": "markdown",
   "metadata": {},
   "source": [
    "Taxonomic mapping table (taxtable.csv): Mapping of the taxonomic species to higher taxonomic hierarchy (Kingdom, Phylum, Class, Order, Family, Genus and Species)"
   ]
  },
  {
   "cell_type": "code",
   "execution_count": 38,
   "metadata": {},
   "outputs": [
    {
     "data": {
      "text/html": [
       "<div>\n",
       "<style scoped>\n",
       "    .dataframe tbody tr th:only-of-type {\n",
       "        vertical-align: middle;\n",
       "    }\n",
       "\n",
       "    .dataframe tbody tr th {\n",
       "        vertical-align: top;\n",
       "    }\n",
       "\n",
       "    .dataframe thead th {\n",
       "        text-align: right;\n",
       "    }\n",
       "</style>\n",
       "<table border=\"1\" class=\"dataframe\">\n",
       "  <thead>\n",
       "    <tr style=\"text-align: right;\">\n",
       "      <th></th>\n",
       "      <th>Domain</th>\n",
       "      <th>Phylum</th>\n",
       "      <th>Class</th>\n",
       "      <th>Order</th>\n",
       "      <th>Family</th>\n",
       "      <th>Genus</th>\n",
       "      <th>Species</th>\n",
       "    </tr>\n",
       "  </thead>\n",
       "  <tbody>\n",
       "    <tr>\n",
       "      <th>0</th>\n",
       "      <td>k__Archaea</td>\n",
       "      <td>p__</td>\n",
       "      <td>c__</td>\n",
       "      <td>o__</td>\n",
       "      <td>f__</td>\n",
       "      <td>g__</td>\n",
       "      <td>s__</td>\n",
       "    </tr>\n",
       "    <tr>\n",
       "      <th>1</th>\n",
       "      <td>k__Archaea</td>\n",
       "      <td>p__Candidatus_Korarchaeota</td>\n",
       "      <td>c__</td>\n",
       "      <td>o__</td>\n",
       "      <td>f__</td>\n",
       "      <td>g__</td>\n",
       "      <td>s__</td>\n",
       "    </tr>\n",
       "    <tr>\n",
       "      <th>2</th>\n",
       "      <td>k__Archaea</td>\n",
       "      <td>p__Crenarchaeota</td>\n",
       "      <td>c__Thermoprotei</td>\n",
       "      <td>o__</td>\n",
       "      <td>f__</td>\n",
       "      <td>g__</td>\n",
       "      <td>s__</td>\n",
       "    </tr>\n",
       "    <tr>\n",
       "      <th>3</th>\n",
       "      <td>k__Archaea</td>\n",
       "      <td>p__Crenarchaeota</td>\n",
       "      <td>c__Thermoprotei</td>\n",
       "      <td>o__Acidilobales</td>\n",
       "      <td>f__Acidilobaceae</td>\n",
       "      <td>g__Acidilobus</td>\n",
       "      <td>s__Acidilobus_saccharovorans</td>\n",
       "    </tr>\n",
       "    <tr>\n",
       "      <th>4</th>\n",
       "      <td>k__Archaea</td>\n",
       "      <td>p__Crenarchaeota</td>\n",
       "      <td>c__Thermoprotei</td>\n",
       "      <td>o__Acidilobales</td>\n",
       "      <td>f__Caldisphaeraceae</td>\n",
       "      <td>g__Caldisphaera</td>\n",
       "      <td>s__Caldisphaera_lagunensis</td>\n",
       "    </tr>\n",
       "  </tbody>\n",
       "</table>\n",
       "</div>"
      ],
      "text/plain": [
       "       Domain                      Phylum            Class            Order  \\\n",
       "0  k__Archaea                         p__              c__              o__   \n",
       "1  k__Archaea  p__Candidatus_Korarchaeota              c__              o__   \n",
       "2  k__Archaea            p__Crenarchaeota  c__Thermoprotei              o__   \n",
       "3  k__Archaea            p__Crenarchaeota  c__Thermoprotei  o__Acidilobales   \n",
       "4  k__Archaea            p__Crenarchaeota  c__Thermoprotei  o__Acidilobales   \n",
       "\n",
       "                Family            Genus                       Species  \n",
       "0                  f__              g__                           s__  \n",
       "1                  f__              g__                           s__  \n",
       "2                  f__              g__                           s__  \n",
       "3     f__Acidilobaceae    g__Acidilobus  s__Acidilobus_saccharovorans  \n",
       "4  f__Caldisphaeraceae  g__Caldisphaera    s__Caldisphaera_lagunensis  "
      ]
     },
     "execution_count": 38,
     "metadata": {},
     "output_type": "execute_result"
    }
   ],
   "source": [
    "taxtable_df = pd.read_csv(taxtable)\n",
    "taxtable_df.head()"
   ]
  },
  {
   "cell_type": "markdown",
   "metadata": {},
   "source": [
    "### Data structure verification"
   ]
  },
  {
   "cell_type": "markdown",
   "metadata": {},
   "source": [
    "Number of rows and columns of each dataframe"
   ]
  },
  {
   "cell_type": "code",
   "execution_count": 39,
   "metadata": {},
   "outputs": [
    {
     "name": "stdout",
     "output_type": "stream",
     "text": [
      "The Host Phenotype data has 3615 rows and 13 columns\n",
      "The Taxonomic abundance table has 5748 rows and 3616 columns\n",
      "The Taxonomic mapping table has 5748 rows and 7 columns\n"
     ]
    }
   ],
   "source": [
    "print(f\"The Host Phenotype data has {pheno_train_df.shape[0]} rows and {pheno_train_df.shape[1]} columns\")\n",
    "print(f\"The Taxonomic abundance table has {read_counts_df.shape[0]} rows and {read_counts_df.shape[1]} columns\")\n",
    "print(f\"The Taxonomic mapping table has {taxtable_df.shape[0]} rows and {taxtable_df.shape[1]} columns\")"
   ]
  },
  {
   "cell_type": "markdown",
   "metadata": {},
   "source": [
    "The column names"
   ]
  },
  {
   "cell_type": "code",
   "execution_count": 40,
   "metadata": {},
   "outputs": [
    {
     "name": "stdout",
     "output_type": "stream",
     "text": [
      "['Sample_ID', 'Age', 'BodyMassIndex', 'Smoking', 'BPTreatment', 'PrevalentDiabetes', 'PrevalentCHD', 'PrevalentHFAIL', 'Event', 'Event_time', 'SystolicBP', 'NonHDLcholesterol', 'Sex']\n",
      "['Domain', 'Phylum', 'Class', 'Order', 'Family', 'Genus', 'Species']\n"
     ]
    }
   ],
   "source": [
    "print(list(pheno_train_df.columns))\n",
    "# print(list(read_counts_df.columns)) # this prints the columns of the readcounts csv which are the sample ID's (3616 columns)\n",
    "print(list(taxtable_df.columns))"
   ]
  },
  {
   "cell_type": "markdown",
   "metadata": {},
   "source": [
    "Type of data in each column"
   ]
  },
  {
   "cell_type": "code",
   "execution_count": 41,
   "metadata": {},
   "outputs": [
    {
     "name": "stdout",
     "output_type": "stream",
     "text": [
      "Sample_ID             object\n",
      "Age                  float64\n",
      "BodyMassIndex        float64\n",
      "Smoking              float64\n",
      "BPTreatment            int64\n",
      "PrevalentDiabetes    float64\n",
      "PrevalentCHD         float64\n",
      "PrevalentHFAIL       float64\n",
      "Event                float64\n",
      "Event_time           float64\n",
      "SystolicBP           float64\n",
      "NonHDLcholesterol    float64\n",
      "Sex                    int64\n",
      "dtype: object\n"
     ]
    }
   ],
   "source": [
    "print(pheno_train_df.dtypes)"
   ]
  },
  {
   "cell_type": "code",
   "execution_count": 42,
   "metadata": {},
   "outputs": [
    {
     "name": "stdout",
     "output_type": "stream",
     "text": [
      "Taxon name        object\n",
      "Simulated_328      int64\n",
      "Simulated_1644     int64\n",
      "Simulated_1710     int64\n",
      "Simulated_1732     int64\n",
      "                   ...  \n",
      "Simulated_1783     int64\n",
      "Simulated_3425     int64\n",
      "Simulated_1789     int64\n",
      "Simulated_1592     int64\n",
      "Simulated_1731     int64\n",
      "Length: 3616, dtype: object\n"
     ]
    }
   ],
   "source": [
    "print(read_counts_df.dtypes)"
   ]
  },
  {
   "cell_type": "code",
   "execution_count": 43,
   "metadata": {},
   "outputs": [
    {
     "name": "stdout",
     "output_type": "stream",
     "text": [
      "Domain     object\n",
      "Phylum     object\n",
      "Class      object\n",
      "Order      object\n",
      "Family     object\n",
      "Genus      object\n",
      "Species    object\n",
      "dtype: object\n"
     ]
    }
   ],
   "source": [
    "print(taxtable_df.dtypes)"
   ]
  },
  {
   "cell_type": "markdown",
   "metadata": {},
   "source": [
    "Range of values"
   ]
  },
  {
   "cell_type": "code",
   "execution_count": 44,
   "metadata": {},
   "outputs": [
    {
     "name": "stdout",
     "output_type": "stream",
     "text": [
      "Sample_ID:                10 ----------------- 999\n",
      "Age:                24.098 ----------------- 74.242\n",
      "BodyMassIndex:                15.839 ----------------- 56.935\n",
      "Smoking:                0.0 ----------------- 1.0\n",
      "BPTreatment:                0 ----------------- 1\n",
      "PrevalentDiabetes:                0.0 ----------------- 1.0\n",
      "PrevalentCHD:                0.0 ----------------- 1.0\n",
      "PrevalentHFAIL:                0.0 ----------------- 1.0\n",
      "Event:                0.0 ----------------- 1.0\n",
      "Event_time:                -23.709 ----------------- 16.0\n",
      "SystolicBP:                88.097 ----------------- 253.075\n",
      "NonHDLcholesterol:                1.558 ----------------- 12.988\n",
      "Sex:                0 ----------------- 1\n"
     ]
    }
   ],
   "source": [
    "for col in pheno_train_df.columns:\n",
    "    print(f\"{col}:                {pheno_train_df[col].min()} ----------------- {pheno_train_df[col].max()}\")"
   ]
  },
  {
   "cell_type": "code",
   "execution_count": 45,
   "metadata": {},
   "outputs": [
    {
     "name": "stdout",
     "output_type": "stream",
     "text": [
      "Simulated_328:               0 --------------------- 276290\n",
      "Simulated_1644:               0 --------------------- 469820\n",
      "Simulated_1710:               0 --------------------- 359562\n",
      "Simulated_1732:               0 --------------------- 279370\n",
      "Simulated_1727:               0 --------------------- 98275\n",
      "Simulated_2196:               0 --------------------- 79766\n",
      "Simulated_1681:               0 --------------------- 73865\n",
      "Simulated_1651:               0 --------------------- 77094\n",
      "Simulated_1603:               0 --------------------- 569000\n"
     ]
    }
   ],
   "source": [
    "for col in read_counts_df.columns[1:10]:\n",
    "    print(f\"{col}:               {read_counts_df[col].min()} --------------------- {read_counts_df[col].max()}\")"
   ]
  },
  {
   "cell_type": "markdown",
   "metadata": {},
   "source": [
    "Missing values"
   ]
  },
  {
   "cell_type": "code",
   "execution_count": 46,
   "metadata": {},
   "outputs": [
    {
     "data": {
      "text/plain": [
       "Sample_ID             0\n",
       "Age                   0\n",
       "BodyMassIndex         1\n",
       "Smoking              16\n",
       "BPTreatment           0\n",
       "PrevalentDiabetes    51\n",
       "PrevalentCHD         51\n",
       "PrevalentHFAIL       51\n",
       "Event                51\n",
       "Event_time           51\n",
       "SystolicBP            0\n",
       "NonHDLcholesterol     7\n",
       "Sex                   0\n",
       "dtype: int64"
      ]
     },
     "execution_count": 46,
     "metadata": {},
     "output_type": "execute_result"
    }
   ],
   "source": [
    "pheno_train_df.isna().sum()"
   ]
  },
  {
   "cell_type": "code",
   "execution_count": 47,
   "metadata": {},
   "outputs": [
    {
     "data": {
      "text/html": [
       "<div>\n",
       "<style scoped>\n",
       "    .dataframe tbody tr th:only-of-type {\n",
       "        vertical-align: middle;\n",
       "    }\n",
       "\n",
       "    .dataframe tbody tr th {\n",
       "        vertical-align: top;\n",
       "    }\n",
       "\n",
       "    .dataframe thead th {\n",
       "        text-align: right;\n",
       "    }\n",
       "</style>\n",
       "<table border=\"1\" class=\"dataframe\">\n",
       "  <thead>\n",
       "    <tr style=\"text-align: right;\">\n",
       "      <th></th>\n",
       "      <th>Sample_ID</th>\n",
       "      <th>Age</th>\n",
       "      <th>BodyMassIndex</th>\n",
       "      <th>Smoking</th>\n",
       "      <th>BPTreatment</th>\n",
       "      <th>PrevalentDiabetes</th>\n",
       "      <th>PrevalentCHD</th>\n",
       "      <th>PrevalentHFAIL</th>\n",
       "      <th>Event</th>\n",
       "      <th>Event_time</th>\n",
       "      <th>SystolicBP</th>\n",
       "      <th>NonHDLcholesterol</th>\n",
       "      <th>Sex</th>\n",
       "    </tr>\n",
       "  </thead>\n",
       "  <tbody>\n",
       "    <tr>\n",
       "      <th>47</th>\n",
       "      <td>2222</td>\n",
       "      <td>46.231</td>\n",
       "      <td>30.896</td>\n",
       "      <td>0.000</td>\n",
       "      <td>1</td>\n",
       "      <td>NaN</td>\n",
       "      <td>NaN</td>\n",
       "      <td>NaN</td>\n",
       "      <td>NaN</td>\n",
       "      <td>NaN</td>\n",
       "      <td>95.056</td>\n",
       "      <td>2.891</td>\n",
       "      <td>0</td>\n",
       "    </tr>\n",
       "    <tr>\n",
       "      <th>61</th>\n",
       "      <td>1338</td>\n",
       "      <td>55.991</td>\n",
       "      <td>36.779</td>\n",
       "      <td>NaN</td>\n",
       "      <td>0</td>\n",
       "      <td>0.000</td>\n",
       "      <td>0.000</td>\n",
       "      <td>0.000</td>\n",
       "      <td>1.000</td>\n",
       "      <td>15.821</td>\n",
       "      <td>117.944</td>\n",
       "      <td>4.359</td>\n",
       "      <td>0</td>\n",
       "    </tr>\n",
       "    <tr>\n",
       "      <th>69</th>\n",
       "      <td>1616</td>\n",
       "      <td>55.978</td>\n",
       "      <td>28.089</td>\n",
       "      <td>NaN</td>\n",
       "      <td>0</td>\n",
       "      <td>0.000</td>\n",
       "      <td>0.000</td>\n",
       "      <td>0.000</td>\n",
       "      <td>0.000</td>\n",
       "      <td>14.501</td>\n",
       "      <td>120.971</td>\n",
       "      <td>5.859</td>\n",
       "      <td>1</td>\n",
       "    </tr>\n",
       "    <tr>\n",
       "      <th>85</th>\n",
       "      <td>1320</td>\n",
       "      <td>31.021</td>\n",
       "      <td>23.127</td>\n",
       "      <td>0.000</td>\n",
       "      <td>0</td>\n",
       "      <td>NaN</td>\n",
       "      <td>NaN</td>\n",
       "      <td>NaN</td>\n",
       "      <td>NaN</td>\n",
       "      <td>NaN</td>\n",
       "      <td>122.928</td>\n",
       "      <td>3.531</td>\n",
       "      <td>0</td>\n",
       "    </tr>\n",
       "    <tr>\n",
       "      <th>128</th>\n",
       "      <td>1405</td>\n",
       "      <td>55.459</td>\n",
       "      <td>23.091</td>\n",
       "      <td>0.000</td>\n",
       "      <td>1</td>\n",
       "      <td>NaN</td>\n",
       "      <td>NaN</td>\n",
       "      <td>NaN</td>\n",
       "      <td>NaN</td>\n",
       "      <td>NaN</td>\n",
       "      <td>122.039</td>\n",
       "      <td>3.000</td>\n",
       "      <td>0</td>\n",
       "    </tr>\n",
       "  </tbody>\n",
       "</table>\n",
       "</div>"
      ],
      "text/plain": [
       "    Sample_ID    Age  BodyMassIndex  Smoking  BPTreatment  PrevalentDiabetes  \\\n",
       "47       2222 46.231         30.896    0.000            1                NaN   \n",
       "61       1338 55.991         36.779      NaN            0              0.000   \n",
       "69       1616 55.978         28.089      NaN            0              0.000   \n",
       "85       1320 31.021         23.127    0.000            0                NaN   \n",
       "128      1405 55.459         23.091    0.000            1                NaN   \n",
       "\n",
       "     PrevalentCHD  PrevalentHFAIL  Event  Event_time  SystolicBP  \\\n",
       "47            NaN             NaN    NaN         NaN      95.056   \n",
       "61          0.000           0.000  1.000      15.821     117.944   \n",
       "69          0.000           0.000  0.000      14.501     120.971   \n",
       "85            NaN             NaN    NaN         NaN     122.928   \n",
       "128           NaN             NaN    NaN         NaN     122.039   \n",
       "\n",
       "     NonHDLcholesterol  Sex  \n",
       "47               2.891    0  \n",
       "61               4.359    0  \n",
       "69               5.859    1  \n",
       "85               3.531    0  \n",
       "128              3.000    0  "
      ]
     },
     "execution_count": 47,
     "metadata": {},
     "output_type": "execute_result"
    }
   ],
   "source": [
    "null_data = pheno_train_df[pheno_train_df.isna().any(axis=1)]\n",
    "null_data.head()"
   ]
  },
  {
   "cell_type": "code",
   "execution_count": 48,
   "metadata": {},
   "outputs": [
    {
     "data": {
      "text/plain": [
       "0"
      ]
     },
     "execution_count": 48,
     "metadata": {},
     "output_type": "execute_result"
    }
   ],
   "source": [
    "read_counts_df.isna().sum().sum()"
   ]
  },
  {
   "cell_type": "code",
   "execution_count": 49,
   "metadata": {},
   "outputs": [
    {
     "data": {
      "text/plain": [
       "Domain      0\n",
       "Phylum      0\n",
       "Class       0\n",
       "Order       0\n",
       "Family      0\n",
       "Genus       0\n",
       "Species    35\n",
       "dtype: int64"
      ]
     },
     "execution_count": 49,
     "metadata": {},
     "output_type": "execute_result"
    }
   ],
   "source": [
    "taxtable_df.isna().sum()"
   ]
  },
  {
   "cell_type": "code",
   "execution_count": 50,
   "metadata": {},
   "outputs": [
    {
     "data": {
      "text/html": [
       "<div>\n",
       "<style scoped>\n",
       "    .dataframe tbody tr th:only-of-type {\n",
       "        vertical-align: middle;\n",
       "    }\n",
       "\n",
       "    .dataframe tbody tr th {\n",
       "        vertical-align: top;\n",
       "    }\n",
       "\n",
       "    .dataframe thead th {\n",
       "        text-align: right;\n",
       "    }\n",
       "</style>\n",
       "<table border=\"1\" class=\"dataframe\">\n",
       "  <thead>\n",
       "    <tr style=\"text-align: right;\">\n",
       "      <th></th>\n",
       "      <th>Domain</th>\n",
       "      <th>Phylum</th>\n",
       "      <th>Class</th>\n",
       "      <th>Order</th>\n",
       "      <th>Family</th>\n",
       "      <th>Genus</th>\n",
       "      <th>Species</th>\n",
       "    </tr>\n",
       "  </thead>\n",
       "  <tbody>\n",
       "    <tr>\n",
       "      <th>5662</th>\n",
       "      <td>k__Viruses</td>\n",
       "      <td>p__dsDNA_viruses,_no_RNA_stage</td>\n",
       "      <td>c__Adenoviridae</td>\n",
       "      <td>o__</td>\n",
       "      <td>f__</td>\n",
       "      <td>g__</td>\n",
       "      <td>NaN</td>\n",
       "    </tr>\n",
       "    <tr>\n",
       "      <th>5663</th>\n",
       "      <td>k__Viruses</td>\n",
       "      <td>p__dsDNA_viruses,_no_RNA_stage</td>\n",
       "      <td>c__Ascoviridae</td>\n",
       "      <td>o__</td>\n",
       "      <td>f__</td>\n",
       "      <td>g__</td>\n",
       "      <td>NaN</td>\n",
       "    </tr>\n",
       "    <tr>\n",
       "      <th>5664</th>\n",
       "      <td>k__Viruses</td>\n",
       "      <td>p__dsDNA_viruses,_no_RNA_stage</td>\n",
       "      <td>c__Baculoviridae</td>\n",
       "      <td>o__</td>\n",
       "      <td>f__</td>\n",
       "      <td>g__</td>\n",
       "      <td>NaN</td>\n",
       "    </tr>\n",
       "    <tr>\n",
       "      <th>5665</th>\n",
       "      <td>k__Viruses</td>\n",
       "      <td>p__dsDNA_viruses,_no_RNA_stage</td>\n",
       "      <td>c__Caudovirales</td>\n",
       "      <td>o__</td>\n",
       "      <td>f__</td>\n",
       "      <td>g__</td>\n",
       "      <td>NaN</td>\n",
       "    </tr>\n",
       "    <tr>\n",
       "      <th>5666</th>\n",
       "      <td>k__Viruses</td>\n",
       "      <td>p__dsDNA_viruses,_no_RNA_stage</td>\n",
       "      <td>c__Herpesvirales</td>\n",
       "      <td>o__</td>\n",
       "      <td>f__</td>\n",
       "      <td>g__</td>\n",
       "      <td>NaN</td>\n",
       "    </tr>\n",
       "  </tbody>\n",
       "</table>\n",
       "</div>"
      ],
      "text/plain": [
       "          Domain                          Phylum             Class Order  \\\n",
       "5662  k__Viruses  p__dsDNA_viruses,_no_RNA_stage   c__Adenoviridae   o__   \n",
       "5663  k__Viruses  p__dsDNA_viruses,_no_RNA_stage    c__Ascoviridae   o__   \n",
       "5664  k__Viruses  p__dsDNA_viruses,_no_RNA_stage  c__Baculoviridae   o__   \n",
       "5665  k__Viruses  p__dsDNA_viruses,_no_RNA_stage   c__Caudovirales   o__   \n",
       "5666  k__Viruses  p__dsDNA_viruses,_no_RNA_stage  c__Herpesvirales   o__   \n",
       "\n",
       "     Family Genus Species  \n",
       "5662    f__   g__     NaN  \n",
       "5663    f__   g__     NaN  \n",
       "5664    f__   g__     NaN  \n",
       "5665    f__   g__     NaN  \n",
       "5666    f__   g__     NaN  "
      ]
     },
     "execution_count": 50,
     "metadata": {},
     "output_type": "execute_result"
    }
   ],
   "source": [
    "null_data_taxtable = taxtable_df[taxtable_df.isna().any(axis=1)]\n",
    "null_data_taxtable.head()"
   ]
  },
  {
   "cell_type": "markdown",
   "metadata": {},
   "source": [
    "#### Treating missing values on Host phenotype data"
   ]
  },
  {
   "cell_type": "markdown",
   "metadata": {},
   "source": [
    "For the BodyMaxIndex column we will use the mean of that column to subtitute the missing value"
   ]
  },
  {
   "cell_type": "code",
   "execution_count": 51,
   "metadata": {},
   "outputs": [],
   "source": [
    "body_mass_index_mean = pheno_train_df[\"BodyMassIndex\"].mean()\n",
    "pheno_train_df[\"BodyMassIndex\"] = pheno_train_df[\"BodyMassIndex\"].fillna(body_mass_index_mean)"
   ]
  },
  {
   "cell_type": "markdown",
   "metadata": {},
   "source": [
    "For the smoking variable we will use mode imputation."
   ]
  },
  {
   "cell_type": "code",
   "execution_count": 52,
   "metadata": {},
   "outputs": [],
   "source": [
    "mode_smoking = pheno_train_df[\"Smoking\"].mode()[0]\n",
    "pheno_train_df[\"Smoking\"] = pheno_train_df[\"Smoking\"].fillna(mode_smoking)"
   ]
  },
  {
   "cell_type": "markdown",
   "metadata": {},
   "source": [
    "For the PrevalentDiabetes we will use mode imputation."
   ]
  },
  {
   "cell_type": "code",
   "execution_count": 53,
   "metadata": {},
   "outputs": [],
   "source": [
    "mode_diabetes = pheno_train_df[\"PrevalentDiabetes\"].mode()[0]\n",
    "pheno_train_df[\"PrevalentDiabetes\"] = pheno_train_df[\"PrevalentDiabetes\"].fillna(mode_diabetes)"
   ]
  },
  {
   "cell_type": "markdown",
   "metadata": {},
   "source": [
    "For the PrevalentCHD variable we will use mode imputation."
   ]
  },
  {
   "cell_type": "code",
   "execution_count": 54,
   "metadata": {},
   "outputs": [],
   "source": [
    "mode_chd = pheno_train_df[\"PrevalentCHD\"].mode()[0]\n",
    "pheno_train_df[\"PrevalentCHD\"] = pheno_train_df[\"PrevalentCHD\"].fillna(mode_chd)"
   ]
  },
  {
   "cell_type": "markdown",
   "metadata": {},
   "source": [
    "For the PrevalentHFAIL variable we will also use mode imputation."
   ]
  },
  {
   "cell_type": "code",
   "execution_count": 55,
   "metadata": {},
   "outputs": [],
   "source": [
    "mode_hfail = pheno_train_df[\"PrevalentHFAIL\"].mode()[0]\n",
    "pheno_train_df[\"PrevalentHFAIL\"] = pheno_train_df[\"PrevalentHFAIL\"].fillna(mode_hfail)"
   ]
  },
  {
   "cell_type": "markdown",
   "metadata": {},
   "source": [
    "For the Event variable we will also use mode imputation."
   ]
  },
  {
   "cell_type": "code",
   "execution_count": 56,
   "metadata": {},
   "outputs": [],
   "source": [
    "mode_event = pheno_train_df[\"Event\"].mode()[0]\n",
    "pheno_train_df[\"Event\"] = pheno_train_df[\"Event\"].fillna(mode_event)"
   ]
  },
  {
   "cell_type": "markdown",
   "metadata": {},
   "source": [
    "For the Event_time variable we will use mean imputation"
   ]
  },
  {
   "cell_type": "code",
   "execution_count": 57,
   "metadata": {},
   "outputs": [],
   "source": [
    "mean_time = pheno_train_df[\"Event_time\"].mean()\n",
    "pheno_train_df[\"Event_time\"] = pheno_train_df[\"Event_time\"].fillna(mean_time)"
   ]
  },
  {
   "cell_type": "markdown",
   "metadata": {},
   "source": [
    "For the NonHDLcholesterol variable we will use mean imputation."
   ]
  },
  {
   "cell_type": "code",
   "execution_count": 58,
   "metadata": {},
   "outputs": [],
   "source": [
    "mean_cholesterol = pheno_train_df[\"NonHDLcholesterol\"].mean()\n",
    "pheno_train_df[\"NonHDLcholesterol\"] = pheno_train_df[\"NonHDLcholesterol\"].fillna(mean_cholesterol)"
   ]
  },
  {
   "cell_type": "code",
   "execution_count": 59,
   "metadata": {},
   "outputs": [
    {
     "data": {
      "text/plain": [
       "Sample_ID            0\n",
       "Age                  0\n",
       "BodyMassIndex        0\n",
       "Smoking              0\n",
       "BPTreatment          0\n",
       "PrevalentDiabetes    0\n",
       "PrevalentCHD         0\n",
       "PrevalentHFAIL       0\n",
       "Event                0\n",
       "Event_time           0\n",
       "SystolicBP           0\n",
       "NonHDLcholesterol    0\n",
       "Sex                  0\n",
       "dtype: int64"
      ]
     },
     "execution_count": 59,
     "metadata": {},
     "output_type": "execute_result"
    }
   ],
   "source": [
    "pheno_train_df.isna().sum() # no missing values"
   ]
  },
  {
   "cell_type": "markdown",
   "metadata": {},
   "source": [
    "#### Treating missing values on Taxonomic mapping table (taxtable)"
   ]
  },
  {
   "cell_type": "code",
   "execution_count": 60,
   "metadata": {},
   "outputs": [
    {
     "data": {
      "text/plain": [
       "Domain      0\n",
       "Phylum      0\n",
       "Class       0\n",
       "Order       0\n",
       "Family      0\n",
       "Genus       0\n",
       "Species    35\n",
       "dtype: int64"
      ]
     },
     "execution_count": 60,
     "metadata": {},
     "output_type": "execute_result"
    }
   ],
   "source": [
    "taxtable_df.isna().sum()"
   ]
  },
  {
   "cell_type": "code",
   "execution_count": 61,
   "metadata": {},
   "outputs": [],
   "source": [
    "taxtable_df[\"Species\"] = taxtable_df[\"Species\"].fillna(\"Unidentified Species\")"
   ]
  },
  {
   "cell_type": "markdown",
   "metadata": {},
   "source": [
    "### Data summary"
   ]
  },
  {
   "cell_type": "code",
   "execution_count": 62,
   "metadata": {},
   "outputs": [
    {
     "data": {
      "text/html": [
       "<div>\n",
       "<style scoped>\n",
       "    .dataframe tbody tr th:only-of-type {\n",
       "        vertical-align: middle;\n",
       "    }\n",
       "\n",
       "    .dataframe tbody tr th {\n",
       "        vertical-align: top;\n",
       "    }\n",
       "\n",
       "    .dataframe thead th {\n",
       "        text-align: right;\n",
       "    }\n",
       "</style>\n",
       "<table border=\"1\" class=\"dataframe\">\n",
       "  <thead>\n",
       "    <tr style=\"text-align: right;\">\n",
       "      <th></th>\n",
       "      <th>Age</th>\n",
       "      <th>BodyMassIndex</th>\n",
       "      <th>Smoking</th>\n",
       "      <th>BPTreatment</th>\n",
       "      <th>PrevalentDiabetes</th>\n",
       "      <th>PrevalentCHD</th>\n",
       "      <th>PrevalentHFAIL</th>\n",
       "      <th>Event</th>\n",
       "      <th>Event_time</th>\n",
       "      <th>SystolicBP</th>\n",
       "      <th>NonHDLcholesterol</th>\n",
       "      <th>Sex</th>\n",
       "    </tr>\n",
       "  </thead>\n",
       "  <tbody>\n",
       "    <tr>\n",
       "      <th>count</th>\n",
       "      <td>3615.000</td>\n",
       "      <td>3615.000</td>\n",
       "      <td>3615.000</td>\n",
       "      <td>3615.000</td>\n",
       "      <td>3615.000</td>\n",
       "      <td>3615.000</td>\n",
       "      <td>3615.000</td>\n",
       "      <td>3615.000</td>\n",
       "      <td>3615.000</td>\n",
       "      <td>3615.000</td>\n",
       "      <td>3615.000</td>\n",
       "      <td>3615.000</td>\n",
       "    </tr>\n",
       "    <tr>\n",
       "      <th>mean</th>\n",
       "      <td>49.504</td>\n",
       "      <td>27.071</td>\n",
       "      <td>0.232</td>\n",
       "      <td>0.155</td>\n",
       "      <td>0.061</td>\n",
       "      <td>0.032</td>\n",
       "      <td>0.026</td>\n",
       "      <td>0.083</td>\n",
       "      <td>13.756</td>\n",
       "      <td>136.341</td>\n",
       "      <td>4.086</td>\n",
       "      <td>0.444</td>\n",
       "    </tr>\n",
       "    <tr>\n",
       "      <th>std</th>\n",
       "      <td>14.848</td>\n",
       "      <td>4.723</td>\n",
       "      <td>0.422</td>\n",
       "      <td>0.362</td>\n",
       "      <td>0.239</td>\n",
       "      <td>0.177</td>\n",
       "      <td>0.158</td>\n",
       "      <td>0.276</td>\n",
       "      <td>5.646</td>\n",
       "      <td>22.038</td>\n",
       "      <td>1.091</td>\n",
       "      <td>0.497</td>\n",
       "    </tr>\n",
       "    <tr>\n",
       "      <th>min</th>\n",
       "      <td>24.098</td>\n",
       "      <td>15.839</td>\n",
       "      <td>0.000</td>\n",
       "      <td>0.000</td>\n",
       "      <td>0.000</td>\n",
       "      <td>0.000</td>\n",
       "      <td>0.000</td>\n",
       "      <td>0.000</td>\n",
       "      <td>-23.709</td>\n",
       "      <td>88.097</td>\n",
       "      <td>1.558</td>\n",
       "      <td>0.000</td>\n",
       "    </tr>\n",
       "    <tr>\n",
       "      <th>25%</th>\n",
       "      <td>36.808</td>\n",
       "      <td>23.776</td>\n",
       "      <td>0.000</td>\n",
       "      <td>0.000</td>\n",
       "      <td>0.000</td>\n",
       "      <td>0.000</td>\n",
       "      <td>0.000</td>\n",
       "      <td>0.000</td>\n",
       "      <td>15.738</td>\n",
       "      <td>120.019</td>\n",
       "      <td>3.338</td>\n",
       "      <td>0.000</td>\n",
       "    </tr>\n",
       "    <tr>\n",
       "      <th>50%</th>\n",
       "      <td>50.909</td>\n",
       "      <td>26.402</td>\n",
       "      <td>0.000</td>\n",
       "      <td>0.000</td>\n",
       "      <td>0.000</td>\n",
       "      <td>0.000</td>\n",
       "      <td>0.000</td>\n",
       "      <td>0.000</td>\n",
       "      <td>15.820</td>\n",
       "      <td>132.962</td>\n",
       "      <td>3.991</td>\n",
       "      <td>0.000</td>\n",
       "    </tr>\n",
       "    <tr>\n",
       "      <th>75%</th>\n",
       "      <td>61.759</td>\n",
       "      <td>29.499</td>\n",
       "      <td>0.000</td>\n",
       "      <td>0.000</td>\n",
       "      <td>0.000</td>\n",
       "      <td>0.000</td>\n",
       "      <td>0.000</td>\n",
       "      <td>0.000</td>\n",
       "      <td>15.881</td>\n",
       "      <td>149.062</td>\n",
       "      <td>4.721</td>\n",
       "      <td>1.000</td>\n",
       "    </tr>\n",
       "    <tr>\n",
       "      <th>max</th>\n",
       "      <td>74.242</td>\n",
       "      <td>56.935</td>\n",
       "      <td>1.000</td>\n",
       "      <td>1.000</td>\n",
       "      <td>1.000</td>\n",
       "      <td>1.000</td>\n",
       "      <td>1.000</td>\n",
       "      <td>1.000</td>\n",
       "      <td>16.000</td>\n",
       "      <td>253.075</td>\n",
       "      <td>12.988</td>\n",
       "      <td>1.000</td>\n",
       "    </tr>\n",
       "  </tbody>\n",
       "</table>\n",
       "</div>"
      ],
      "text/plain": [
       "           Age  BodyMassIndex  Smoking  BPTreatment  PrevalentDiabetes  \\\n",
       "count 3615.000       3615.000 3615.000     3615.000           3615.000   \n",
       "mean    49.504         27.071    0.232        0.155              0.061   \n",
       "std     14.848          4.723    0.422        0.362              0.239   \n",
       "min     24.098         15.839    0.000        0.000              0.000   \n",
       "25%     36.808         23.776    0.000        0.000              0.000   \n",
       "50%     50.909         26.402    0.000        0.000              0.000   \n",
       "75%     61.759         29.499    0.000        0.000              0.000   \n",
       "max     74.242         56.935    1.000        1.000              1.000   \n",
       "\n",
       "       PrevalentCHD  PrevalentHFAIL    Event  Event_time  SystolicBP  \\\n",
       "count      3615.000        3615.000 3615.000    3615.000    3615.000   \n",
       "mean          0.032           0.026    0.083      13.756     136.341   \n",
       "std           0.177           0.158    0.276       5.646      22.038   \n",
       "min           0.000           0.000    0.000     -23.709      88.097   \n",
       "25%           0.000           0.000    0.000      15.738     120.019   \n",
       "50%           0.000           0.000    0.000      15.820     132.962   \n",
       "75%           0.000           0.000    0.000      15.881     149.062   \n",
       "max           1.000           1.000    1.000      16.000     253.075   \n",
       "\n",
       "       NonHDLcholesterol      Sex  \n",
       "count           3615.000 3615.000  \n",
       "mean               4.086    0.444  \n",
       "std                1.091    0.497  \n",
       "min                1.558    0.000  \n",
       "25%                3.338    0.000  \n",
       "50%                3.991    0.000  \n",
       "75%                4.721    1.000  \n",
       "max               12.988    1.000  "
      ]
     },
     "execution_count": 62,
     "metadata": {},
     "output_type": "execute_result"
    }
   ],
   "source": [
    "pd.set_option('display.float_format', lambda x: '%.3f' % x)\n",
    "\n",
    "pheno_train_df.describe()"
   ]
  },
  {
   "cell_type": "code",
   "execution_count": 63,
   "metadata": {},
   "outputs": [
    {
     "data": {
      "text/html": [
       "<div>\n",
       "<style scoped>\n",
       "    .dataframe tbody tr th:only-of-type {\n",
       "        vertical-align: middle;\n",
       "    }\n",
       "\n",
       "    .dataframe tbody tr th {\n",
       "        vertical-align: top;\n",
       "    }\n",
       "\n",
       "    .dataframe thead th {\n",
       "        text-align: right;\n",
       "    }\n",
       "</style>\n",
       "<table border=\"1\" class=\"dataframe\">\n",
       "  <thead>\n",
       "    <tr style=\"text-align: right;\">\n",
       "      <th></th>\n",
       "      <th>Simulated_328</th>\n",
       "      <th>Simulated_1644</th>\n",
       "      <th>Simulated_1710</th>\n",
       "      <th>Simulated_1732</th>\n",
       "      <th>Simulated_1727</th>\n",
       "      <th>Simulated_2196</th>\n",
       "      <th>Simulated_1681</th>\n",
       "      <th>Simulated_1651</th>\n",
       "      <th>Simulated_1603</th>\n",
       "      <th>Simulated_1601</th>\n",
       "      <th>...</th>\n",
       "      <th>Simulated_1676</th>\n",
       "      <th>Simulated_1630</th>\n",
       "      <th>Simulated_1605</th>\n",
       "      <th>Simulated_2202</th>\n",
       "      <th>Simulated_1682</th>\n",
       "      <th>Simulated_1783</th>\n",
       "      <th>Simulated_3425</th>\n",
       "      <th>Simulated_1789</th>\n",
       "      <th>Simulated_1592</th>\n",
       "      <th>Simulated_1731</th>\n",
       "    </tr>\n",
       "  </thead>\n",
       "  <tbody>\n",
       "    <tr>\n",
       "      <th>count</th>\n",
       "      <td>5748.000</td>\n",
       "      <td>5748.000</td>\n",
       "      <td>5748.000</td>\n",
       "      <td>5748.000</td>\n",
       "      <td>5748.000</td>\n",
       "      <td>5748.000</td>\n",
       "      <td>5748.000</td>\n",
       "      <td>5748.000</td>\n",
       "      <td>5748.000</td>\n",
       "      <td>5748.000</td>\n",
       "      <td>...</td>\n",
       "      <td>5748.000</td>\n",
       "      <td>5748.000</td>\n",
       "      <td>5748.000</td>\n",
       "      <td>5748.000</td>\n",
       "      <td>5748.000</td>\n",
       "      <td>5748.000</td>\n",
       "      <td>5748.000</td>\n",
       "      <td>5748.000</td>\n",
       "      <td>5748.000</td>\n",
       "      <td>5748.000</td>\n",
       "    </tr>\n",
       "    <tr>\n",
       "      <th>mean</th>\n",
       "      <td>187.730</td>\n",
       "      <td>201.291</td>\n",
       "      <td>129.468</td>\n",
       "      <td>273.374</td>\n",
       "      <td>116.749</td>\n",
       "      <td>132.382</td>\n",
       "      <td>55.175</td>\n",
       "      <td>87.517</td>\n",
       "      <td>468.192</td>\n",
       "      <td>134.720</td>\n",
       "      <td>...</td>\n",
       "      <td>252.920</td>\n",
       "      <td>132.894</td>\n",
       "      <td>175.411</td>\n",
       "      <td>99.844</td>\n",
       "      <td>223.180</td>\n",
       "      <td>397.058</td>\n",
       "      <td>108.616</td>\n",
       "      <td>50.392</td>\n",
       "      <td>57.360</td>\n",
       "      <td>294.581</td>\n",
       "    </tr>\n",
       "    <tr>\n",
       "      <th>std</th>\n",
       "      <td>4045.491</td>\n",
       "      <td>7845.599</td>\n",
       "      <td>4853.531</td>\n",
       "      <td>5765.580</td>\n",
       "      <td>1893.995</td>\n",
       "      <td>1971.111</td>\n",
       "      <td>1275.435</td>\n",
       "      <td>1724.518</td>\n",
       "      <td>9934.202</td>\n",
       "      <td>1786.721</td>\n",
       "      <td>...</td>\n",
       "      <td>3938.187</td>\n",
       "      <td>1983.863</td>\n",
       "      <td>2897.489</td>\n",
       "      <td>1834.970</td>\n",
       "      <td>8178.722</td>\n",
       "      <td>7679.974</td>\n",
       "      <td>1542.725</td>\n",
       "      <td>1129.105</td>\n",
       "      <td>1121.718</td>\n",
       "      <td>5056.226</td>\n",
       "    </tr>\n",
       "    <tr>\n",
       "      <th>min</th>\n",
       "      <td>0.000</td>\n",
       "      <td>0.000</td>\n",
       "      <td>0.000</td>\n",
       "      <td>0.000</td>\n",
       "      <td>0.000</td>\n",
       "      <td>0.000</td>\n",
       "      <td>0.000</td>\n",
       "      <td>0.000</td>\n",
       "      <td>0.000</td>\n",
       "      <td>0.000</td>\n",
       "      <td>...</td>\n",
       "      <td>0.000</td>\n",
       "      <td>0.000</td>\n",
       "      <td>0.000</td>\n",
       "      <td>0.000</td>\n",
       "      <td>0.000</td>\n",
       "      <td>0.000</td>\n",
       "      <td>0.000</td>\n",
       "      <td>0.000</td>\n",
       "      <td>0.000</td>\n",
       "      <td>0.000</td>\n",
       "    </tr>\n",
       "    <tr>\n",
       "      <th>25%</th>\n",
       "      <td>0.000</td>\n",
       "      <td>0.000</td>\n",
       "      <td>0.000</td>\n",
       "      <td>0.000</td>\n",
       "      <td>0.000</td>\n",
       "      <td>0.000</td>\n",
       "      <td>0.000</td>\n",
       "      <td>0.000</td>\n",
       "      <td>0.000</td>\n",
       "      <td>0.000</td>\n",
       "      <td>...</td>\n",
       "      <td>0.000</td>\n",
       "      <td>0.000</td>\n",
       "      <td>0.000</td>\n",
       "      <td>0.000</td>\n",
       "      <td>0.000</td>\n",
       "      <td>0.000</td>\n",
       "      <td>0.000</td>\n",
       "      <td>0.000</td>\n",
       "      <td>0.000</td>\n",
       "      <td>0.000</td>\n",
       "    </tr>\n",
       "    <tr>\n",
       "      <th>50%</th>\n",
       "      <td>0.000</td>\n",
       "      <td>0.000</td>\n",
       "      <td>0.000</td>\n",
       "      <td>0.000</td>\n",
       "      <td>0.000</td>\n",
       "      <td>0.000</td>\n",
       "      <td>0.000</td>\n",
       "      <td>0.000</td>\n",
       "      <td>0.000</td>\n",
       "      <td>0.000</td>\n",
       "      <td>...</td>\n",
       "      <td>0.000</td>\n",
       "      <td>0.000</td>\n",
       "      <td>0.000</td>\n",
       "      <td>0.000</td>\n",
       "      <td>0.000</td>\n",
       "      <td>0.000</td>\n",
       "      <td>0.000</td>\n",
       "      <td>0.000</td>\n",
       "      <td>0.000</td>\n",
       "      <td>0.000</td>\n",
       "    </tr>\n",
       "    <tr>\n",
       "      <th>75%</th>\n",
       "      <td>2.000</td>\n",
       "      <td>0.000</td>\n",
       "      <td>1.000</td>\n",
       "      <td>2.000</td>\n",
       "      <td>1.000</td>\n",
       "      <td>2.000</td>\n",
       "      <td>0.000</td>\n",
       "      <td>0.000</td>\n",
       "      <td>1.000</td>\n",
       "      <td>1.000</td>\n",
       "      <td>...</td>\n",
       "      <td>1.000</td>\n",
       "      <td>0.000</td>\n",
       "      <td>1.000</td>\n",
       "      <td>1.000</td>\n",
       "      <td>0.000</td>\n",
       "      <td>2.000</td>\n",
       "      <td>1.000</td>\n",
       "      <td>1.000</td>\n",
       "      <td>1.000</td>\n",
       "      <td>2.000</td>\n",
       "    </tr>\n",
       "    <tr>\n",
       "      <th>max</th>\n",
       "      <td>276290.000</td>\n",
       "      <td>469820.000</td>\n",
       "      <td>359562.000</td>\n",
       "      <td>279370.000</td>\n",
       "      <td>98275.000</td>\n",
       "      <td>79766.000</td>\n",
       "      <td>73865.000</td>\n",
       "      <td>77094.000</td>\n",
       "      <td>569000.000</td>\n",
       "      <td>64523.000</td>\n",
       "      <td>...</td>\n",
       "      <td>141863.000</td>\n",
       "      <td>84802.000</td>\n",
       "      <td>93681.000</td>\n",
       "      <td>98023.000</td>\n",
       "      <td>602477.000</td>\n",
       "      <td>398096.000</td>\n",
       "      <td>72741.000</td>\n",
       "      <td>73522.000</td>\n",
       "      <td>62928.000</td>\n",
       "      <td>245420.000</td>\n",
       "    </tr>\n",
       "  </tbody>\n",
       "</table>\n",
       "<p>8 rows × 3615 columns</p>\n",
       "</div>"
      ],
      "text/plain": [
       "       Simulated_328  Simulated_1644  Simulated_1710  Simulated_1732  \\\n",
       "count       5748.000        5748.000        5748.000        5748.000   \n",
       "mean         187.730         201.291         129.468         273.374   \n",
       "std         4045.491        7845.599        4853.531        5765.580   \n",
       "min            0.000           0.000           0.000           0.000   \n",
       "25%            0.000           0.000           0.000           0.000   \n",
       "50%            0.000           0.000           0.000           0.000   \n",
       "75%            2.000           0.000           1.000           2.000   \n",
       "max       276290.000      469820.000      359562.000      279370.000   \n",
       "\n",
       "       Simulated_1727  Simulated_2196  Simulated_1681  Simulated_1651  \\\n",
       "count        5748.000        5748.000        5748.000        5748.000   \n",
       "mean          116.749         132.382          55.175          87.517   \n",
       "std          1893.995        1971.111        1275.435        1724.518   \n",
       "min             0.000           0.000           0.000           0.000   \n",
       "25%             0.000           0.000           0.000           0.000   \n",
       "50%             0.000           0.000           0.000           0.000   \n",
       "75%             1.000           2.000           0.000           0.000   \n",
       "max         98275.000       79766.000       73865.000       77094.000   \n",
       "\n",
       "       Simulated_1603  Simulated_1601  ...  Simulated_1676  Simulated_1630  \\\n",
       "count        5748.000        5748.000  ...        5748.000        5748.000   \n",
       "mean          468.192         134.720  ...         252.920         132.894   \n",
       "std          9934.202        1786.721  ...        3938.187        1983.863   \n",
       "min             0.000           0.000  ...           0.000           0.000   \n",
       "25%             0.000           0.000  ...           0.000           0.000   \n",
       "50%             0.000           0.000  ...           0.000           0.000   \n",
       "75%             1.000           1.000  ...           1.000           0.000   \n",
       "max        569000.000       64523.000  ...      141863.000       84802.000   \n",
       "\n",
       "       Simulated_1605  Simulated_2202  Simulated_1682  Simulated_1783  \\\n",
       "count        5748.000        5748.000        5748.000        5748.000   \n",
       "mean          175.411          99.844         223.180         397.058   \n",
       "std          2897.489        1834.970        8178.722        7679.974   \n",
       "min             0.000           0.000           0.000           0.000   \n",
       "25%             0.000           0.000           0.000           0.000   \n",
       "50%             0.000           0.000           0.000           0.000   \n",
       "75%             1.000           1.000           0.000           2.000   \n",
       "max         93681.000       98023.000      602477.000      398096.000   \n",
       "\n",
       "       Simulated_3425  Simulated_1789  Simulated_1592  Simulated_1731  \n",
       "count        5748.000        5748.000        5748.000        5748.000  \n",
       "mean          108.616          50.392          57.360         294.581  \n",
       "std          1542.725        1129.105        1121.718        5056.226  \n",
       "min             0.000           0.000           0.000           0.000  \n",
       "25%             0.000           0.000           0.000           0.000  \n",
       "50%             0.000           0.000           0.000           0.000  \n",
       "75%             1.000           1.000           1.000           2.000  \n",
       "max         72741.000       73522.000       62928.000      245420.000  \n",
       "\n",
       "[8 rows x 3615 columns]"
      ]
     },
     "execution_count": 63,
     "metadata": {},
     "output_type": "execute_result"
    }
   ],
   "source": [
    "read_counts_df.describe()"
   ]
  },
  {
   "cell_type": "code",
   "execution_count": 64,
   "metadata": {},
   "outputs": [
    {
     "data": {
      "text/html": [
       "<div>\n",
       "<style scoped>\n",
       "    .dataframe tbody tr th:only-of-type {\n",
       "        vertical-align: middle;\n",
       "    }\n",
       "\n",
       "    .dataframe tbody tr th {\n",
       "        vertical-align: top;\n",
       "    }\n",
       "\n",
       "    .dataframe thead th {\n",
       "        text-align: right;\n",
       "    }\n",
       "</style>\n",
       "<table border=\"1\" class=\"dataframe\">\n",
       "  <thead>\n",
       "    <tr style=\"text-align: right;\">\n",
       "      <th></th>\n",
       "      <th>Domain</th>\n",
       "      <th>Phylum</th>\n",
       "      <th>Class</th>\n",
       "      <th>Order</th>\n",
       "      <th>Family</th>\n",
       "      <th>Genus</th>\n",
       "      <th>Species</th>\n",
       "    </tr>\n",
       "  </thead>\n",
       "  <tbody>\n",
       "    <tr>\n",
       "      <th>count</th>\n",
       "      <td>5748</td>\n",
       "      <td>5748</td>\n",
       "      <td>5748</td>\n",
       "      <td>5748</td>\n",
       "      <td>5748</td>\n",
       "      <td>5748</td>\n",
       "      <td>5748</td>\n",
       "    </tr>\n",
       "    <tr>\n",
       "      <th>unique</th>\n",
       "      <td>5</td>\n",
       "      <td>51</td>\n",
       "      <td>150</td>\n",
       "      <td>174</td>\n",
       "      <td>370</td>\n",
       "      <td>1480</td>\n",
       "      <td>4536</td>\n",
       "    </tr>\n",
       "    <tr>\n",
       "      <th>top</th>\n",
       "      <td>k__Bacteria</td>\n",
       "      <td>p__Proteobacteria</td>\n",
       "      <td>c__Actinobacteria</td>\n",
       "      <td>o__Bacillales</td>\n",
       "      <td>f__Flavobacteriaceae</td>\n",
       "      <td>g__</td>\n",
       "      <td>s__</td>\n",
       "    </tr>\n",
       "    <tr>\n",
       "      <th>freq</th>\n",
       "      <td>5024</td>\n",
       "      <td>2215</td>\n",
       "      <td>916</td>\n",
       "      <td>391</td>\n",
       "      <td>196</td>\n",
       "      <td>346</td>\n",
       "      <td>845</td>\n",
       "    </tr>\n",
       "  </tbody>\n",
       "</table>\n",
       "</div>"
      ],
      "text/plain": [
       "             Domain             Phylum              Class          Order  \\\n",
       "count          5748               5748               5748           5748   \n",
       "unique            5                 51                150            174   \n",
       "top     k__Bacteria  p__Proteobacteria  c__Actinobacteria  o__Bacillales   \n",
       "freq           5024               2215                916            391   \n",
       "\n",
       "                      Family Genus Species  \n",
       "count                   5748  5748    5748  \n",
       "unique                   370  1480    4536  \n",
       "top     f__Flavobacteriaceae   g__     s__  \n",
       "freq                     196   346     845  "
      ]
     },
     "execution_count": 64,
     "metadata": {},
     "output_type": "execute_result"
    }
   ],
   "source": [
    "taxtable_df.describe()"
   ]
  },
  {
   "attachments": {},
   "cell_type": "markdown",
   "metadata": {},
   "source": [
    "### Training data visualization"
   ]
  },
  {
   "cell_type": "code",
<<<<<<< HEAD
   "execution_count": 53,
   "metadata": {},
   "outputs": [],
   "source": [
    "import matplotlib.pyplot as plt\n",
    "import seaborn as sns"
   ]
  },
  {
   "cell_type": "code",
   "execution_count": 39,
=======
   "execution_count": 65,
>>>>>>> 18ab38a1c4336877f5cfd6ace083c1f1d1aa8416
   "metadata": {},
   "outputs": [
    {
     "data": {
      "text/plain": [
       "Index(['Sample_ID', 'Age', 'BodyMassIndex', 'Smoking', 'BPTreatment',\n",
       "       'PrevalentDiabetes', 'PrevalentCHD', 'PrevalentHFAIL', 'Event',\n",
       "       'Event_time', 'SystolicBP', 'NonHDLcholesterol', 'Sex'],\n",
       "      dtype='object')"
      ]
     },
     "execution_count": 65,
     "metadata": {},
     "output_type": "execute_result"
    }
   ],
   "source": [
    "import matplotlib.pyplot as plt\n",
    "pheno_train_df.columns"
   ]
  },
  {
   "cell_type": "code",
   "execution_count": 66,
   "metadata": {},
   "outputs": [
    {
     "data": {
      "image/png": "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",
      "text/plain": [
       "<Figure size 640x480 with 1 Axes>"
      ]
     },
     "metadata": {},
     "output_type": "display_data"
    }
   ],
   "source": [
    "plt.hist(pheno_train_df[\"Age\"], color=\"orange\")\n",
    "plt.axis([20, 80, 0, 500])\n",
    "plt.title(\"Age distribution\")\n",
    "plt.xlabel(\"Age\")\n",
    "plt.ylabel(\"Age frequency\")\n",
    "plt.show()"
   ]
  },
  {
   "cell_type": "code",
   "execution_count": 67,
   "metadata": {},
   "outputs": [
    {
     "data": {
      "image/png": "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",
      "text/plain": [
       "<Figure size 640x480 with 1 Axes>"
      ]
     },
     "metadata": {},
     "output_type": "display_data"
    }
   ],
   "source": [
    "plt.hist(pheno_train_df[\"BodyMassIndex\"], color=\"orange\")\n",
    "plt.title(\"BMI distribution\")\n",
    "plt.xlabel(\"BMI\")\n",
    "plt.ylabel(\"Frequency\")\n",
    "plt.show()"
   ]
  },
  {
   "cell_type": "code",
<<<<<<< HEAD
   "execution_count": 66,
=======
   "execution_count": 68,
>>>>>>> 18ab38a1c4336877f5cfd6ace083c1f1d1aa8416
   "metadata": {},
   "outputs": [
    {
     "data": {
<<<<<<< HEAD
      "image/png": "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",
=======
      "image/png": "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",
>>>>>>> 18ab38a1c4336877f5cfd6ace083c1f1d1aa8416
      "text/plain": [
       "<Figure size 640x480 with 1 Axes>"
      ]
     },
     "metadata": {},
     "output_type": "display_data"
    }
   ],
   "source": [
    "percent_smoking = (pd.Series.value_counts(pheno_train_df[\"Smoking\"] == 1) / pheno_train_df.shape[0]) * 100\n",
    "\n",
    "plt.pie(percent_smoking, labels=[\"Non smokers\", \"Smokers\"], autopct='%1.0f%%')\n",
    "plt.title(\"Percentage of Smoker and Non Smokers\")\n",
    "plt.show()"
   ]
  },
  {
   "cell_type": "code",
   "execution_count": 68,
   "metadata": {},
   "outputs": [
    {
     "data": {
      "image/png": "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",
      "text/plain": [
       "<Figure size 640x480 with 1 Axes>"
      ]
     },
     "metadata": {},
     "output_type": "display_data"
    }
   ],
   "source": [
    "percent_bptreatment = (pd.Series.value_counts(pheno_train_df[\"BPTreatment\"] == 1) / pheno_train_df.shape[0]) * 100\n",
    "\n",
    "plt.pie(percent_bptreatment, labels=[\"No\", \"Yes\"], autopct='%1.0f%%')\n",
    "plt.title(\"Percentage of Hypertension Treatment at baseline by pacients\")\n",
    "plt.show()"
   ]
  },
  {
   "cell_type": "markdown",
   "metadata": {},
   "source": [
    "## Statistical tests"
   ]
  },
  {
   "cell_type": "code",
   "execution_count": 69,
   "metadata": {},
   "outputs": [
    {
     "name": "stdout",
     "output_type": "stream",
     "text": [
      "BodyMassIndex ----->    P-VALUE:      7.756730899351182e-34\n",
      "Event_time ----->    P-VALUE:      0.0\n",
      "NonHDLcholesterol ----->    P-VALUE:      5.723465912999794e-25\n",
      "SystolicBP ----->    P-VALUE:      8.417582262396532e-30\n"
     ]
    },
    {
     "data": {
      "image/png": "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",
      "text/plain": [
       "<Figure size 640x480 with 1 Axes>"
      ]
     },
     "metadata": {},
     "output_type": "display_data"
    },
    {
     "data": {
      "image/png": "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",
      "text/plain": [
       "<Figure size 640x480 with 1 Axes>"
      ]
     },
     "metadata": {},
     "output_type": "display_data"
    },
    {
     "data": {
      "image/png": "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",
      "text/plain": [
       "<Figure size 640x480 with 1 Axes>"
      ]
     },
     "metadata": {},
     "output_type": "display_data"
    },
    {
     "data": {
      "image/png": "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",
      "text/plain": [
       "<Figure size 640x480 with 1 Axes>"
      ]
     },
     "metadata": {},
     "output_type": "display_data"
    }
   ],
   "source": [
    "from statsmodels.graphics.gofplots import qqplot\n",
    "from scipy.stats import norm, shapiro\n",
    "import matplotlib.pyplot as plt\n",
    "\n",
    "\n",
    "\n",
    "columns_to_plot = pheno_train_df.columns.difference([\"Sample_ID\", \"Sex\", \"Age\", \"Event\", \"Smoking\", \"BPTreatment\", \"PrevalentDiabetes\", \"PrevalentCHD\", \"PrevalentHFAIL\"])\n",
    "\n",
    "for col in columns_to_plot:\n",
    "    data = pheno_train_df[col]\n",
    "    \n",
    "    fig = qqplot(data, dist=norm, line=\"s\")\n",
    "    plt.title(col)\n",
    "    print(f\"{col} ----->    P-VALUE:      {shapiro(pheno_train_df[col]).pvalue}\")"
   ]
  },
  {
   "attachments": {},
   "cell_type": "markdown",
   "metadata": {},
   "source": [
    "# Exploring test datasets\n",
    "\n",
    "Mirroed from the analisys produced above for train datasets"
   ]
  },
  {
   "attachments": {},
   "cell_type": "markdown",
   "metadata": {},
   "source": [
    "### Loading data"
   ]
  },
  {
   "cell_type": "code",
   "execution_count": 70,
   "metadata": {},
   "outputs": [],
   "source": [
    "# csv's on test folder\n",
    "pheno_test = r\"../test/pheno_test.csv\"\n",
    "read_test = r\"../test/readcounts_test.csv\"\n",
    "taxtable_test = r\"../test/taxtable.csv\""
   ]
  },
  {
   "attachments": {},
   "cell_type": "markdown",
   "metadata": {},
   "source": [
    "Host phenotype data (pheno_test.csv): Individuals in rows and metadata variables in columns. Change first feature to appropriate name."
   ]
  },
  {
   "cell_type": "code",
   "execution_count": 71,
   "metadata": {},
   "outputs": [
    {
     "data": {
      "text/html": [
       "<div>\n",
       "<style scoped>\n",
       "    .dataframe tbody tr th:only-of-type {\n",
       "        vertical-align: middle;\n",
       "    }\n",
       "\n",
       "    .dataframe tbody tr th {\n",
       "        vertical-align: top;\n",
       "    }\n",
       "\n",
       "    .dataframe thead th {\n",
       "        text-align: right;\n",
       "    }\n",
       "</style>\n",
       "<table border=\"1\" class=\"dataframe\">\n",
       "  <thead>\n",
       "    <tr style=\"text-align: right;\">\n",
       "      <th></th>\n",
       "      <th>Sample_ID</th>\n",
       "      <th>Age</th>\n",
       "      <th>BodyMassIndex</th>\n",
       "      <th>Smoking</th>\n",
       "      <th>BPTreatment</th>\n",
       "      <th>PrevalentDiabetes</th>\n",
       "      <th>PrevalentCHD</th>\n",
       "      <th>PrevalentHFAIL</th>\n",
       "      <th>Event</th>\n",
       "      <th>Event_time</th>\n",
       "      <th>SystolicBP</th>\n",
       "      <th>NonHDLcholesterol</th>\n",
       "      <th>Sex</th>\n",
       "    </tr>\n",
       "  </thead>\n",
       "  <tbody>\n",
       "    <tr>\n",
       "      <th>0</th>\n",
       "      <td>2211</td>\n",
       "      <td>73.860</td>\n",
       "      <td>30.140</td>\n",
       "      <td>1.000</td>\n",
       "      <td>1</td>\n",
       "      <td>0.000</td>\n",
       "      <td>0.000</td>\n",
       "      <td>0.000</td>\n",
       "      <td>0.000</td>\n",
       "      <td>15.910</td>\n",
       "      <td>154.046</td>\n",
       "      <td>5.010</td>\n",
       "      <td>0</td>\n",
       "    </tr>\n",
       "    <tr>\n",
       "      <th>1</th>\n",
       "      <td>1629</td>\n",
       "      <td>48.070</td>\n",
       "      <td>18.252</td>\n",
       "      <td>1.000</td>\n",
       "      <td>0</td>\n",
       "      <td>0.000</td>\n",
       "      <td>0.000</td>\n",
       "      <td>0.000</td>\n",
       "      <td>0.000</td>\n",
       "      <td>11.189</td>\n",
       "      <td>184.064</td>\n",
       "      <td>3.922</td>\n",
       "      <td>0</td>\n",
       "    </tr>\n",
       "    <tr>\n",
       "      <th>2</th>\n",
       "      <td>1690</td>\n",
       "      <td>49.060</td>\n",
       "      <td>25.911</td>\n",
       "      <td>0.000</td>\n",
       "      <td>0</td>\n",
       "      <td>0.000</td>\n",
       "      <td>0.000</td>\n",
       "      <td>0.000</td>\n",
       "      <td>1.000</td>\n",
       "      <td>15.832</td>\n",
       "      <td>126.922</td>\n",
       "      <td>5.119</td>\n",
       "      <td>1</td>\n",
       "    </tr>\n",
       "    <tr>\n",
       "      <th>3</th>\n",
       "      <td>1367</td>\n",
       "      <td>58.499</td>\n",
       "      <td>25.739</td>\n",
       "      <td>0.000</td>\n",
       "      <td>0</td>\n",
       "      <td>0.000</td>\n",
       "      <td>0.000</td>\n",
       "      <td>0.000</td>\n",
       "      <td>0.000</td>\n",
       "      <td>15.818</td>\n",
       "      <td>141.003</td>\n",
       "      <td>3.890</td>\n",
       "      <td>1</td>\n",
       "    </tr>\n",
       "    <tr>\n",
       "      <th>4</th>\n",
       "      <td>3387</td>\n",
       "      <td>47.242</td>\n",
       "      <td>29.227</td>\n",
       "      <td>0.000</td>\n",
       "      <td>0</td>\n",
       "      <td>0.000</td>\n",
       "      <td>0.000</td>\n",
       "      <td>0.000</td>\n",
       "      <td>0.000</td>\n",
       "      <td>15.782</td>\n",
       "      <td>143.021</td>\n",
       "      <td>3.611</td>\n",
       "      <td>1</td>\n",
       "    </tr>\n",
       "  </tbody>\n",
       "</table>\n",
       "</div>"
      ],
      "text/plain": [
       "  Sample_ID    Age  BodyMassIndex  Smoking  BPTreatment  PrevalentDiabetes  \\\n",
       "0      2211 73.860         30.140    1.000            1              0.000   \n",
       "1      1629 48.070         18.252    1.000            0              0.000   \n",
       "2      1690 49.060         25.911    0.000            0              0.000   \n",
       "3      1367 58.499         25.739    0.000            0              0.000   \n",
       "4      3387 47.242         29.227    0.000            0              0.000   \n",
       "\n",
       "   PrevalentCHD  PrevalentHFAIL  Event  Event_time  SystolicBP  \\\n",
       "0         0.000           0.000  0.000      15.910     154.046   \n",
       "1         0.000           0.000  0.000      11.189     184.064   \n",
       "2         0.000           0.000  1.000      15.832     126.922   \n",
       "3         0.000           0.000  0.000      15.818     141.003   \n",
       "4         0.000           0.000  0.000      15.782     143.021   \n",
       "\n",
       "   NonHDLcholesterol  Sex  \n",
       "0              5.010    0  \n",
       "1              3.922    0  \n",
       "2              5.119    1  \n",
       "3              3.890    1  \n",
       "4              3.611    1  "
      ]
     },
     "execution_count": 71,
     "metadata": {},
     "output_type": "execute_result"
    }
   ],
   "source": [
    "pheno_test_df = pd.read_csv(pheno_test)\n",
    "pheno_test_df.rename(columns={\"Unnamed: 0\": \"Sample_ID\"}, inplace=True) # rename the first column to Sample_ID\n",
    "pheno_test_df[\"Sample_ID\"] = pheno_test_df[\"Sample_ID\"].str.replace(\"Simulated_\", \"\") # Change Sample_ID to only integer values\n",
    "pheno_test_df.head()"
   ]
  },
  {
   "attachments": {},
   "cell_type": "markdown",
   "metadata": {},
   "source": [
    "Taxonomic abundance table (readcounts_test.csv): Individuals in columns and taxon names in rows. Change first feature to apropriate name."
   ]
  },
  {
   "cell_type": "code",
   "execution_count": 72,
   "metadata": {},
   "outputs": [
    {
     "data": {
      "text/html": [
       "<div>\n",
       "<style scoped>\n",
       "    .dataframe tbody tr th:only-of-type {\n",
       "        vertical-align: middle;\n",
       "    }\n",
       "\n",
       "    .dataframe tbody tr th {\n",
       "        vertical-align: top;\n",
       "    }\n",
       "\n",
       "    .dataframe thead th {\n",
       "        text-align: right;\n",
       "    }\n",
       "</style>\n",
       "<table border=\"1\" class=\"dataframe\">\n",
       "  <thead>\n",
       "    <tr style=\"text-align: right;\">\n",
       "      <th></th>\n",
       "      <th>Taxon name</th>\n",
       "      <th>Simulated_2211</th>\n",
       "      <th>Simulated_1629</th>\n",
       "      <th>Simulated_1690</th>\n",
       "      <th>Simulated_1367</th>\n",
       "      <th>Simulated_3387</th>\n",
       "      <th>Simulated_1746</th>\n",
       "      <th>Simulated_3625</th>\n",
       "      <th>Simulated_1596</th>\n",
       "      <th>Simulated_3430</th>\n",
       "      <th>...</th>\n",
       "      <th>Simulated_1743</th>\n",
       "      <th>Simulated_1357</th>\n",
       "      <th>Simulated_1372</th>\n",
       "      <th>Simulated_1326</th>\n",
       "      <th>Simulated_1696</th>\n",
       "      <th>Simulated_1628</th>\n",
       "      <th>Simulated_3424</th>\n",
       "      <th>Simulated_2215</th>\n",
       "      <th>Simulated_3426</th>\n",
       "      <th>Simulated_1679</th>\n",
       "    </tr>\n",
       "  </thead>\n",
       "  <tbody>\n",
       "    <tr>\n",
       "      <th>0</th>\n",
       "      <td>k__Archaea;p__;c__;o__;f__;g__;s__</td>\n",
       "      <td>0</td>\n",
       "      <td>0</td>\n",
       "      <td>0</td>\n",
       "      <td>0</td>\n",
       "      <td>0</td>\n",
       "      <td>0</td>\n",
       "      <td>0</td>\n",
       "      <td>0</td>\n",
       "      <td>0</td>\n",
       "      <td>...</td>\n",
       "      <td>0</td>\n",
       "      <td>0</td>\n",
       "      <td>0</td>\n",
       "      <td>0</td>\n",
       "      <td>0</td>\n",
       "      <td>0</td>\n",
       "      <td>0</td>\n",
       "      <td>0</td>\n",
       "      <td>0</td>\n",
       "      <td>0</td>\n",
       "    </tr>\n",
       "    <tr>\n",
       "      <th>1</th>\n",
       "      <td>k__Archaea;p__Candidatus_Korarchaeota;c__;o__;...</td>\n",
       "      <td>0</td>\n",
       "      <td>0</td>\n",
       "      <td>0</td>\n",
       "      <td>0</td>\n",
       "      <td>0</td>\n",
       "      <td>0</td>\n",
       "      <td>0</td>\n",
       "      <td>0</td>\n",
       "      <td>0</td>\n",
       "      <td>...</td>\n",
       "      <td>0</td>\n",
       "      <td>0</td>\n",
       "      <td>0</td>\n",
       "      <td>0</td>\n",
       "      <td>0</td>\n",
       "      <td>0</td>\n",
       "      <td>0</td>\n",
       "      <td>0</td>\n",
       "      <td>0</td>\n",
       "      <td>0</td>\n",
       "    </tr>\n",
       "    <tr>\n",
       "      <th>2</th>\n",
       "      <td>k__Archaea;p__Crenarchaeota;c__Thermoprotei;o_...</td>\n",
       "      <td>0</td>\n",
       "      <td>0</td>\n",
       "      <td>0</td>\n",
       "      <td>0</td>\n",
       "      <td>0</td>\n",
       "      <td>0</td>\n",
       "      <td>0</td>\n",
       "      <td>0</td>\n",
       "      <td>0</td>\n",
       "      <td>...</td>\n",
       "      <td>0</td>\n",
       "      <td>0</td>\n",
       "      <td>0</td>\n",
       "      <td>0</td>\n",
       "      <td>0</td>\n",
       "      <td>0</td>\n",
       "      <td>0</td>\n",
       "      <td>0</td>\n",
       "      <td>0</td>\n",
       "      <td>0</td>\n",
       "    </tr>\n",
       "    <tr>\n",
       "      <th>3</th>\n",
       "      <td>k__Archaea;p__Crenarchaeota;c__Thermoprotei;o_...</td>\n",
       "      <td>1</td>\n",
       "      <td>0</td>\n",
       "      <td>0</td>\n",
       "      <td>0</td>\n",
       "      <td>0</td>\n",
       "      <td>0</td>\n",
       "      <td>0</td>\n",
       "      <td>0</td>\n",
       "      <td>0</td>\n",
       "      <td>...</td>\n",
       "      <td>0</td>\n",
       "      <td>0</td>\n",
       "      <td>0</td>\n",
       "      <td>0</td>\n",
       "      <td>0</td>\n",
       "      <td>0</td>\n",
       "      <td>0</td>\n",
       "      <td>0</td>\n",
       "      <td>0</td>\n",
       "      <td>0</td>\n",
       "    </tr>\n",
       "    <tr>\n",
       "      <th>4</th>\n",
       "      <td>k__Archaea;p__Crenarchaeota;c__Thermoprotei;o_...</td>\n",
       "      <td>0</td>\n",
       "      <td>0</td>\n",
       "      <td>0</td>\n",
       "      <td>0</td>\n",
       "      <td>0</td>\n",
       "      <td>0</td>\n",
       "      <td>0</td>\n",
       "      <td>0</td>\n",
       "      <td>0</td>\n",
       "      <td>...</td>\n",
       "      <td>0</td>\n",
       "      <td>0</td>\n",
       "      <td>0</td>\n",
       "      <td>0</td>\n",
       "      <td>0</td>\n",
       "      <td>0</td>\n",
       "      <td>0</td>\n",
       "      <td>0</td>\n",
       "      <td>0</td>\n",
       "      <td>0</td>\n",
       "    </tr>\n",
       "  </tbody>\n",
       "</table>\n",
       "<p>5 rows × 1810 columns</p>\n",
       "</div>"
      ],
      "text/plain": [
       "                                          Taxon name  Simulated_2211  \\\n",
       "0                 k__Archaea;p__;c__;o__;f__;g__;s__               0   \n",
       "1  k__Archaea;p__Candidatus_Korarchaeota;c__;o__;...               0   \n",
       "2  k__Archaea;p__Crenarchaeota;c__Thermoprotei;o_...               0   \n",
       "3  k__Archaea;p__Crenarchaeota;c__Thermoprotei;o_...               1   \n",
       "4  k__Archaea;p__Crenarchaeota;c__Thermoprotei;o_...               0   \n",
       "\n",
       "   Simulated_1629  Simulated_1690  Simulated_1367  Simulated_3387  \\\n",
       "0               0               0               0               0   \n",
       "1               0               0               0               0   \n",
       "2               0               0               0               0   \n",
       "3               0               0               0               0   \n",
       "4               0               0               0               0   \n",
       "\n",
       "   Simulated_1746  Simulated_3625  Simulated_1596  Simulated_3430  ...  \\\n",
       "0               0               0               0               0  ...   \n",
       "1               0               0               0               0  ...   \n",
       "2               0               0               0               0  ...   \n",
       "3               0               0               0               0  ...   \n",
       "4               0               0               0               0  ...   \n",
       "\n",
       "   Simulated_1743  Simulated_1357  Simulated_1372  Simulated_1326  \\\n",
       "0               0               0               0               0   \n",
       "1               0               0               0               0   \n",
       "2               0               0               0               0   \n",
       "3               0               0               0               0   \n",
       "4               0               0               0               0   \n",
       "\n",
       "   Simulated_1696  Simulated_1628  Simulated_3424  Simulated_2215  \\\n",
       "0               0               0               0               0   \n",
       "1               0               0               0               0   \n",
       "2               0               0               0               0   \n",
       "3               0               0               0               0   \n",
       "4               0               0               0               0   \n",
       "\n",
       "   Simulated_3426  Simulated_1679  \n",
       "0               0               0  \n",
       "1               0               0  \n",
       "2               0               0  \n",
       "3               0               0  \n",
       "4               0               0  \n",
       "\n",
       "[5 rows x 1810 columns]"
      ]
     },
     "execution_count": 72,
     "metadata": {},
     "output_type": "execute_result"
    }
   ],
   "source": [
    "read_test_df = pd.read_csv(read_test)\n",
    "read_test_df.rename(columns={\"Unnamed: 0\": \"Taxon name\"}, inplace=True) # rename the first column to Taxon name\n",
    "read_test_df.head()"
   ]
  },
  {
   "attachments": {},
   "cell_type": "markdown",
   "metadata": {},
   "source": [
    "Taxonomic mapping table (taxtable.csv): Mapping of the taxonomic species to higher taxonomic hierarchy (Kingdom, Phylum, Class, Order, Family, Genus and Species)"
   ]
  },
  {
   "cell_type": "code",
   "execution_count": 73,
   "metadata": {},
   "outputs": [
    {
     "data": {
      "text/html": [
       "<div>\n",
       "<style scoped>\n",
       "    .dataframe tbody tr th:only-of-type {\n",
       "        vertical-align: middle;\n",
       "    }\n",
       "\n",
       "    .dataframe tbody tr th {\n",
       "        vertical-align: top;\n",
       "    }\n",
       "\n",
       "    .dataframe thead th {\n",
       "        text-align: right;\n",
       "    }\n",
       "</style>\n",
       "<table border=\"1\" class=\"dataframe\">\n",
       "  <thead>\n",
       "    <tr style=\"text-align: right;\">\n",
       "      <th></th>\n",
       "      <th>Domain</th>\n",
       "      <th>Phylum</th>\n",
       "      <th>Class</th>\n",
       "      <th>Order</th>\n",
       "      <th>Family</th>\n",
       "      <th>Genus</th>\n",
       "      <th>Species</th>\n",
       "    </tr>\n",
       "  </thead>\n",
       "  <tbody>\n",
       "    <tr>\n",
       "      <th>0</th>\n",
       "      <td>k__Archaea</td>\n",
       "      <td>p__</td>\n",
       "      <td>c__</td>\n",
       "      <td>o__</td>\n",
       "      <td>f__</td>\n",
       "      <td>g__</td>\n",
       "      <td>s__</td>\n",
       "    </tr>\n",
       "    <tr>\n",
       "      <th>1</th>\n",
       "      <td>k__Archaea</td>\n",
       "      <td>p__Candidatus_Korarchaeota</td>\n",
       "      <td>c__</td>\n",
       "      <td>o__</td>\n",
       "      <td>f__</td>\n",
       "      <td>g__</td>\n",
       "      <td>s__</td>\n",
       "    </tr>\n",
       "    <tr>\n",
       "      <th>2</th>\n",
       "      <td>k__Archaea</td>\n",
       "      <td>p__Crenarchaeota</td>\n",
       "      <td>c__Thermoprotei</td>\n",
       "      <td>o__</td>\n",
       "      <td>f__</td>\n",
       "      <td>g__</td>\n",
       "      <td>s__</td>\n",
       "    </tr>\n",
       "    <tr>\n",
       "      <th>3</th>\n",
       "      <td>k__Archaea</td>\n",
       "      <td>p__Crenarchaeota</td>\n",
       "      <td>c__Thermoprotei</td>\n",
       "      <td>o__Acidilobales</td>\n",
       "      <td>f__Acidilobaceae</td>\n",
       "      <td>g__Acidilobus</td>\n",
       "      <td>s__Acidilobus_saccharovorans</td>\n",
       "    </tr>\n",
       "    <tr>\n",
       "      <th>4</th>\n",
       "      <td>k__Archaea</td>\n",
       "      <td>p__Crenarchaeota</td>\n",
       "      <td>c__Thermoprotei</td>\n",
       "      <td>o__Acidilobales</td>\n",
       "      <td>f__Caldisphaeraceae</td>\n",
       "      <td>g__Caldisphaera</td>\n",
       "      <td>s__Caldisphaera_lagunensis</td>\n",
       "    </tr>\n",
       "  </tbody>\n",
       "</table>\n",
       "</div>"
      ],
      "text/plain": [
       "       Domain                      Phylum            Class            Order  \\\n",
       "0  k__Archaea                         p__              c__              o__   \n",
       "1  k__Archaea  p__Candidatus_Korarchaeota              c__              o__   \n",
       "2  k__Archaea            p__Crenarchaeota  c__Thermoprotei              o__   \n",
       "3  k__Archaea            p__Crenarchaeota  c__Thermoprotei  o__Acidilobales   \n",
       "4  k__Archaea            p__Crenarchaeota  c__Thermoprotei  o__Acidilobales   \n",
       "\n",
       "                Family            Genus                       Species  \n",
       "0                  f__              g__                           s__  \n",
       "1                  f__              g__                           s__  \n",
       "2                  f__              g__                           s__  \n",
       "3     f__Acidilobaceae    g__Acidilobus  s__Acidilobus_saccharovorans  \n",
       "4  f__Caldisphaeraceae  g__Caldisphaera    s__Caldisphaera_lagunensis  "
      ]
     },
     "execution_count": 73,
     "metadata": {},
     "output_type": "execute_result"
    }
   ],
   "source": [
    "taxtable_test_df = pd.read_csv(taxtable)\n",
    "taxtable_test_df.head()"
   ]
  },
  {
   "attachments": {},
   "cell_type": "markdown",
   "metadata": {},
   "source": [
    "## Data structure verification"
   ]
  },
  {
   "attachments": {},
   "cell_type": "markdown",
   "metadata": {},
   "source": [
    "Number of columns and rows of eacch dataframe"
   ]
  },
  {
   "cell_type": "code",
   "execution_count": 74,
   "metadata": {},
   "outputs": [
    {
     "name": "stdout",
     "output_type": "stream",
     "text": [
      "The Host Phenotype data has 1809 rows and 13 columns\n",
      "The Taxonomic abundance table has 5748 rows and 1810 columns\n",
      "The Taxonomic mapping table has 5748 rows and 7 columns\n"
     ]
    }
   ],
   "source": [
    "print(f\"The Host Phenotype data has {pheno_test_df.shape[0]} rows and {pheno_test_df.shape[1]} columns\")\n",
    "print(f\"The Taxonomic abundance table has {read_test_df.shape[0]} rows and {read_test_df.shape[1]} columns\")\n",
    "print(f\"The Taxonomic mapping table has {taxtable_test_df.shape[0]} rows and {taxtable_test_df.shape[1]} columns\")"
   ]
  },
  {
   "attachments": {},
   "cell_type": "markdown",
   "metadata": {},
   "source": [
    "Name of every column"
   ]
  },
  {
   "cell_type": "code",
   "execution_count": 75,
   "metadata": {},
   "outputs": [
    {
     "name": "stdout",
     "output_type": "stream",
     "text": [
      "['Sample_ID', 'Age', 'BodyMassIndex', 'Smoking', 'BPTreatment', 'PrevalentDiabetes', 'PrevalentCHD', 'PrevalentHFAIL', 'Event', 'Event_time', 'SystolicBP', 'NonHDLcholesterol', 'Sex']\n",
      "['Domain', 'Phylum', 'Class', 'Order', 'Family', 'Genus', 'Species']\n"
     ]
    }
   ],
   "source": [
    "print(list(pheno_test_df.columns))\n",
    "# print(list(read_test_df.columns)) # this prints the columns of the readcounts csv which are the sample ID's (3616 columns)\n",
    "print(list(taxtable_test_df.columns))"
   ]
  },
  {
   "attachments": {},
   "cell_type": "markdown",
   "metadata": {},
   "source": [
    "Type of data for each column"
   ]
  },
  {
   "cell_type": "code",
   "execution_count": 76,
   "metadata": {},
   "outputs": [
    {
     "name": "stdout",
     "output_type": "stream",
     "text": [
      "Sample_ID             object\n",
      "Age                  float64\n",
      "BodyMassIndex        float64\n",
      "Smoking              float64\n",
      "BPTreatment            int64\n",
      "PrevalentDiabetes    float64\n",
      "PrevalentCHD         float64\n",
      "PrevalentHFAIL       float64\n",
      "Event                float64\n",
      "Event_time           float64\n",
      "SystolicBP           float64\n",
      "NonHDLcholesterol    float64\n",
      "Sex                    int64\n",
      "dtype: object\n"
     ]
    }
   ],
   "source": [
    "print(pheno_test_df.dtypes)"
   ]
  },
  {
   "cell_type": "code",
   "execution_count": 77,
   "metadata": {},
   "outputs": [
    {
     "name": "stdout",
     "output_type": "stream",
     "text": [
      "Domain     object\n",
      "Phylum     object\n",
      "Class      object\n",
      "Order      object\n",
      "Family     object\n",
      "Genus      object\n",
      "Species    object\n",
      "dtype: object\n"
     ]
    }
   ],
   "source": [
    "print(taxtable_test_df.dtypes)"
   ]
  },
  {
   "cell_type": "code",
   "execution_count": 78,
   "metadata": {},
   "outputs": [
    {
     "name": "stdout",
     "output_type": "stream",
     "text": [
      "Taxon name        object\n",
      "Simulated_2211     int64\n",
      "Simulated_1629     int64\n",
      "Simulated_1690     int64\n",
      "Simulated_1367     int64\n",
      "                   ...  \n",
      "Simulated_1628     int64\n",
      "Simulated_3424     int64\n",
      "Simulated_2215     int64\n",
      "Simulated_3426     int64\n",
      "Simulated_1679     int64\n",
      "Length: 1810, dtype: object\n"
     ]
    }
   ],
   "source": [
    "print(read_test_df.dtypes)"
   ]
  },
  {
   "attachments": {},
   "cell_type": "markdown",
   "metadata": {},
   "source": [
    "Range of values for each Feature of host phenotype data."
   ]
  },
  {
   "cell_type": "code",
   "execution_count": 82,
   "metadata": {},
   "outputs": [
    {
     "name": "stdout",
     "output_type": "stream",
     "text": [
      "Sample_ID:         1000 ----------------- 997\n",
      "Age:         24.099 ----------------- 74.239\n",
      "BodyMassIndex:         16.374 ----------------- 55.98\n",
      "Smoking:         0.0 ----------------- 1.0\n",
      "BPTreatment:         0 ----------------- 1\n",
      "PrevalentDiabetes:         0.0 ----------------- 1.0\n",
      "PrevalentCHD:         0.0 ----------------- 1.0\n",
      "PrevalentHFAIL:         0.0 ----------------- 1.0\n",
      "Event:         0.0 ----------------- 1.0\n",
      "Event_time:         -15.909 ----------------- 16.0\n",
      "SystolicBP:         87.902 ----------------- 253.075\n",
      "NonHDLcholesterol:         1.191 ----------------- 9.031\n",
      "Sex:         0 ----------------- 1\n"
     ]
    }
   ],
   "source": [
    "for col in pheno_test_df.columns:\n",
    "    print(f\"{col}:         {pheno_test_df[col].min()} ----------------- {pheno_test_df[col].max()}\")"
   ]
  },
  {
   "attachments": {},
   "cell_type": "markdown",
   "metadata": {},
   "source": [
    "Range of values for each Feature of Taxonomic abundance data. Same is not done to the last dataset because it contains only non numerical values"
   ]
  },
  {
   "cell_type": "code",
   "execution_count": 85,
   "metadata": {},
   "outputs": [
    {
     "name": "stdout",
     "output_type": "stream",
     "text": [
      "Simulated_2211:         0 ----------------- 20580\n",
      "Simulated_1629:         0 ----------------- 109661\n",
      "Simulated_1690:         0 ----------------- 214253\n",
      "Simulated_1367:         0 ----------------- 354395\n",
      "Simulated_3387:         0 ----------------- 244636\n",
      "Simulated_1746:         0 ----------------- 92738\n",
      "Simulated_3625:         0 ----------------- 92631\n",
      "Simulated_1596:         0 ----------------- 55556\n",
      "Simulated_3430:         0 ----------------- 288649\n",
      "Simulated_1717:         0 ----------------- 276696\n",
      "Simulated_1595:         0 ----------------- 172259\n",
      "Simulated_1613:         0 ----------------- 135723\n",
      "Simulated_1620:         0 ----------------- 268867\n",
      "Simulated_1599:         0 ----------------- 109708\n",
      "Simulated_1323:         0 ----------------- 257379\n",
      "Simulated_1325:         0 ----------------- 91007\n",
      "Simulated_1672:         0 ----------------- 315046\n",
      "Simulated_1709:         0 ----------------- 321853\n",
      "Simulated_1712:         0 ----------------- 50838\n"
     ]
    }
   ],
   "source": [
    "for col in read_test_df.columns[1:20]:\n",
    "    print(f\"{col}:         {read_test_df[col].min()} ----------------- {read_test_df[col].max()}\")"
   ]
  },
  {
   "attachments": {},
   "cell_type": "markdown",
   "metadata": {},
   "source": [
    "## Analysis of missing values"
   ]
  },
  {
   "cell_type": "code",
   "execution_count": 87,
   "metadata": {},
   "outputs": [
    {
     "data": {
      "text/plain": [
       "Sample_ID             0\n",
       "Age                   0\n",
       "BodyMassIndex         0\n",
       "Smoking              11\n",
       "BPTreatment           0\n",
       "PrevalentDiabetes    30\n",
       "PrevalentCHD         30\n",
       "PrevalentHFAIL       30\n",
       "Event                30\n",
       "Event_time           30\n",
       "SystolicBP            1\n",
       "NonHDLcholesterol     3\n",
       "Sex                   0\n",
       "dtype: int64"
      ]
     },
     "execution_count": 87,
     "metadata": {},
     "output_type": "execute_result"
    }
   ],
   "source": [
    "pheno_test_df.isna().sum()"
   ]
  },
  {
   "cell_type": "code",
   "execution_count": 88,
   "metadata": {},
   "outputs": [
    {
     "data": {
      "text/html": [
       "<div>\n",
       "<style scoped>\n",
       "    .dataframe tbody tr th:only-of-type {\n",
       "        vertical-align: middle;\n",
       "    }\n",
       "\n",
       "    .dataframe tbody tr th {\n",
       "        vertical-align: top;\n",
       "    }\n",
       "\n",
       "    .dataframe thead th {\n",
       "        text-align: right;\n",
       "    }\n",
       "</style>\n",
       "<table border=\"1\" class=\"dataframe\">\n",
       "  <thead>\n",
       "    <tr style=\"text-align: right;\">\n",
       "      <th></th>\n",
       "      <th>Sample_ID</th>\n",
       "      <th>Age</th>\n",
       "      <th>BodyMassIndex</th>\n",
       "      <th>Smoking</th>\n",
       "      <th>BPTreatment</th>\n",
       "      <th>PrevalentDiabetes</th>\n",
       "      <th>PrevalentCHD</th>\n",
       "      <th>PrevalentHFAIL</th>\n",
       "      <th>Event</th>\n",
       "      <th>Event_time</th>\n",
       "      <th>SystolicBP</th>\n",
       "      <th>NonHDLcholesterol</th>\n",
       "      <th>Sex</th>\n",
       "    </tr>\n",
       "  </thead>\n",
       "  <tbody>\n",
       "    <tr>\n",
       "      <th>67</th>\n",
       "      <td>3539</td>\n",
       "      <td>64.071</td>\n",
       "      <td>31.567</td>\n",
       "      <td>1.000</td>\n",
       "      <td>0</td>\n",
       "      <td>NaN</td>\n",
       "      <td>NaN</td>\n",
       "      <td>NaN</td>\n",
       "      <td>NaN</td>\n",
       "      <td>NaN</td>\n",
       "      <td>138.948</td>\n",
       "      <td>5.089</td>\n",
       "      <td>0</td>\n",
       "    </tr>\n",
       "    <tr>\n",
       "      <th>80</th>\n",
       "      <td>311</td>\n",
       "      <td>46.118</td>\n",
       "      <td>29.152</td>\n",
       "      <td>0.000</td>\n",
       "      <td>0</td>\n",
       "      <td>NaN</td>\n",
       "      <td>NaN</td>\n",
       "      <td>NaN</td>\n",
       "      <td>NaN</td>\n",
       "      <td>NaN</td>\n",
       "      <td>143.974</td>\n",
       "      <td>3.072</td>\n",
       "      <td>0</td>\n",
       "    </tr>\n",
       "    <tr>\n",
       "      <th>216</th>\n",
       "      <td>6568</td>\n",
       "      <td>25.179</td>\n",
       "      <td>26.876</td>\n",
       "      <td>NaN</td>\n",
       "      <td>0</td>\n",
       "      <td>0.000</td>\n",
       "      <td>0.000</td>\n",
       "      <td>0.000</td>\n",
       "      <td>0.000</td>\n",
       "      <td>15.940</td>\n",
       "      <td>104.986</td>\n",
       "      <td>3.260</td>\n",
       "      <td>1</td>\n",
       "    </tr>\n",
       "    <tr>\n",
       "      <th>273</th>\n",
       "      <td>2425</td>\n",
       "      <td>31.720</td>\n",
       "      <td>36.696</td>\n",
       "      <td>1.000</td>\n",
       "      <td>0</td>\n",
       "      <td>NaN</td>\n",
       "      <td>NaN</td>\n",
       "      <td>NaN</td>\n",
       "      <td>NaN</td>\n",
       "      <td>NaN</td>\n",
       "      <td>109.053</td>\n",
       "      <td>4.679</td>\n",
       "      <td>1</td>\n",
       "    </tr>\n",
       "    <tr>\n",
       "      <th>318</th>\n",
       "      <td>5114</td>\n",
       "      <td>49.798</td>\n",
       "      <td>26.212</td>\n",
       "      <td>NaN</td>\n",
       "      <td>0</td>\n",
       "      <td>0.000</td>\n",
       "      <td>0.000</td>\n",
       "      <td>0.000</td>\n",
       "      <td>0.000</td>\n",
       "      <td>14.002</td>\n",
       "      <td>131.037</td>\n",
       "      <td>4.750</td>\n",
       "      <td>0</td>\n",
       "    </tr>\n",
       "  </tbody>\n",
       "</table>\n",
       "</div>"
      ],
      "text/plain": [
       "    Sample_ID    Age  BodyMassIndex  Smoking  BPTreatment  PrevalentDiabetes  \\\n",
       "67       3539 64.071         31.567    1.000            0                NaN   \n",
       "80        311 46.118         29.152    0.000            0                NaN   \n",
       "216      6568 25.179         26.876      NaN            0              0.000   \n",
       "273      2425 31.720         36.696    1.000            0                NaN   \n",
       "318      5114 49.798         26.212      NaN            0              0.000   \n",
       "\n",
       "     PrevalentCHD  PrevalentHFAIL  Event  Event_time  SystolicBP  \\\n",
       "67            NaN             NaN    NaN         NaN     138.948   \n",
       "80            NaN             NaN    NaN         NaN     143.974   \n",
       "216         0.000           0.000  0.000      15.940     104.986   \n",
       "273           NaN             NaN    NaN         NaN     109.053   \n",
       "318         0.000           0.000  0.000      14.002     131.037   \n",
       "\n",
       "     NonHDLcholesterol  Sex  \n",
       "67               5.089    0  \n",
       "80               3.072    0  \n",
       "216              3.260    1  \n",
       "273              4.679    1  \n",
       "318              4.750    0  "
      ]
     },
     "execution_count": 88,
     "metadata": {},
     "output_type": "execute_result"
    }
   ],
   "source": [
    "null_data = pheno_test_df[pheno_test_df.isna().any(axis=1)]\n",
    "null_data.head()"
   ]
  }
 ],
 "metadata": {
  "kernelspec": {
   "display_name": "sib_drean_challenge",
   "language": "python",
   "name": "python3"
  },
  "language_info": {
   "codemirror_mode": {
    "name": "ipython",
    "version": 3
   },
   "file_extension": ".py",
   "mimetype": "text/x-python",
   "name": "python",
   "nbconvert_exporter": "python",
   "pygments_lexer": "ipython3",
   "version": "3.10.8"
  },
  "orig_nbformat": 4,
  "vscode": {
   "interpreter": {
    "hash": "9738740bff384edbc2dae65ef69ed7bd5e39e7fd9f81c714e6e55b904e235aaa"
   }
  }
 },
 "nbformat": 4,
 "nbformat_minor": 2
}
