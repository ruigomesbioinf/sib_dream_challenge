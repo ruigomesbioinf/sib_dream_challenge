{
 "cells": [
  {
   "cell_type": "markdown",
   "metadata": {},
   "source": [
    "# Dream Challenge: FINRISK - Heart Failure and Microbiome"
   ]
  },
  {
   "cell_type": "markdown",
   "metadata": {},
   "source": [
    "### Overview"
   ]
  },
  {
   "cell_type": "markdown",
   "metadata": {},
   "source": [
    "<div style=\"text-align: justify\"> Cardiovascular diseases are the leading cause of death both in men and women worldwide. Heart failure (HF) is the most common form of heart disease, characterised by the heart's inability to pump a sufficient supply of blood to meet the needs of the body. The lifetime risk of developing HF is roughly 20%, yet, it remains difficult to diagnose due to its and a lack of agreement of diagnostic criteria. As the diagnosis of HF is dependent on ascertainment of clinical histories and appropriate screening of symptomatic individuals, identifying those at risk of HF is essential. <br> <br> This DREAM challenge focuses on the prediction of Heart Failure using a combination of gut microbiome and clinical variables. </div>"
   ]
  },
  {
   "cell_type": "markdown",
   "metadata": {},
   "source": [
    "------------------------------"
   ]
  },
  {
   "cell_type": "markdown",
   "metadata": {},
   "source": [
    "# Exploring training data"
   ]
  },
  {
   "cell_type": "markdown",
   "metadata": {},
   "source": [
    "### Loading data"
   ]
  },
  {
   "cell_type": "code",
   "execution_count": 1,
   "metadata": {},
   "outputs": [],
   "source": [
    "import pandas as pd\n",
    "\n",
    "# csv's on test folder\n",
    "pheno_train = r\"../train/pheno_training.csv\"\n",
    "read_counts = r\"../train/readcounts_training.csv\"\n",
    "taxtable = r\"../train/taxtable.csv\"\n"
   ]
  },
  {
   "cell_type": "markdown",
   "metadata": {},
   "source": [
    "Host phenotype data (pheno_training.csv): Individuals in rows and metadata variables in columns."
   ]
  },
  {
   "cell_type": "code",
   "execution_count": 2,
   "metadata": {},
   "outputs": [
    {
     "data": {
      "text/html": [
       "<div>\n",
       "<style scoped>\n",
       "    .dataframe tbody tr th:only-of-type {\n",
       "        vertical-align: middle;\n",
       "    }\n",
       "\n",
       "    .dataframe tbody tr th {\n",
       "        vertical-align: top;\n",
       "    }\n",
       "\n",
       "    .dataframe thead th {\n",
       "        text-align: right;\n",
       "    }\n",
       "</style>\n",
       "<table border=\"1\" class=\"dataframe\">\n",
       "  <thead>\n",
       "    <tr style=\"text-align: right;\">\n",
       "      <th></th>\n",
       "      <th>Sample_ID</th>\n",
       "      <th>Age</th>\n",
       "      <th>BodyMassIndex</th>\n",
       "      <th>Smoking</th>\n",
       "      <th>BPTreatment</th>\n",
       "      <th>PrevalentDiabetes</th>\n",
       "      <th>PrevalentCHD</th>\n",
       "      <th>PrevalentHFAIL</th>\n",
       "      <th>Event</th>\n",
       "      <th>Event_time</th>\n",
       "      <th>SystolicBP</th>\n",
       "      <th>NonHDLcholesterol</th>\n",
       "      <th>Sex</th>\n",
       "    </tr>\n",
       "  </thead>\n",
       "  <tbody>\n",
       "    <tr>\n",
       "      <th>0</th>\n",
       "      <td>Simulated_328</td>\n",
       "      <td>53.618</td>\n",
       "      <td>24.127</td>\n",
       "      <td>0.0</td>\n",
       "      <td>0</td>\n",
       "      <td>0.0</td>\n",
       "      <td>0.0</td>\n",
       "      <td>0.0</td>\n",
       "      <td>0.0</td>\n",
       "      <td>15.750</td>\n",
       "      <td>133.077</td>\n",
       "      <td>3.020</td>\n",
       "      <td>0</td>\n",
       "    </tr>\n",
       "    <tr>\n",
       "      <th>1</th>\n",
       "      <td>Simulated_1644</td>\n",
       "      <td>36.811</td>\n",
       "      <td>27.992</td>\n",
       "      <td>0.0</td>\n",
       "      <td>0</td>\n",
       "      <td>0.0</td>\n",
       "      <td>0.0</td>\n",
       "      <td>0.0</td>\n",
       "      <td>0.0</td>\n",
       "      <td>15.881</td>\n",
       "      <td>108.914</td>\n",
       "      <td>5.480</td>\n",
       "      <td>0</td>\n",
       "    </tr>\n",
       "    <tr>\n",
       "      <th>2</th>\n",
       "      <td>Simulated_1710</td>\n",
       "      <td>49.429</td>\n",
       "      <td>23.664</td>\n",
       "      <td>0.0</td>\n",
       "      <td>0</td>\n",
       "      <td>0.0</td>\n",
       "      <td>0.0</td>\n",
       "      <td>0.0</td>\n",
       "      <td>0.0</td>\n",
       "      <td>15.891</td>\n",
       "      <td>110.064</td>\n",
       "      <td>4.388</td>\n",
       "      <td>1</td>\n",
       "    </tr>\n",
       "    <tr>\n",
       "      <th>3</th>\n",
       "      <td>Simulated_1732</td>\n",
       "      <td>48.842</td>\n",
       "      <td>26.804</td>\n",
       "      <td>0.0</td>\n",
       "      <td>0</td>\n",
       "      <td>0.0</td>\n",
       "      <td>0.0</td>\n",
       "      <td>0.0</td>\n",
       "      <td>0.0</td>\n",
       "      <td>15.918</td>\n",
       "      <td>128.059</td>\n",
       "      <td>5.119</td>\n",
       "      <td>0</td>\n",
       "    </tr>\n",
       "    <tr>\n",
       "      <th>4</th>\n",
       "      <td>Simulated_1727</td>\n",
       "      <td>60.738</td>\n",
       "      <td>29.862</td>\n",
       "      <td>0.0</td>\n",
       "      <td>0</td>\n",
       "      <td>0.0</td>\n",
       "      <td>0.0</td>\n",
       "      <td>0.0</td>\n",
       "      <td>0.0</td>\n",
       "      <td>15.841</td>\n",
       "      <td>169.913</td>\n",
       "      <td>5.740</td>\n",
       "      <td>1</td>\n",
       "    </tr>\n",
       "  </tbody>\n",
       "</table>\n",
       "</div>"
      ],
      "text/plain": [
       "        Sample_ID     Age  BodyMassIndex  Smoking  BPTreatment  \\\n",
       "0   Simulated_328  53.618         24.127      0.0            0   \n",
       "1  Simulated_1644  36.811         27.992      0.0            0   \n",
       "2  Simulated_1710  49.429         23.664      0.0            0   \n",
       "3  Simulated_1732  48.842         26.804      0.0            0   \n",
       "4  Simulated_1727  60.738         29.862      0.0            0   \n",
       "\n",
       "   PrevalentDiabetes  PrevalentCHD  PrevalentHFAIL  Event  Event_time  \\\n",
       "0                0.0           0.0             0.0    0.0      15.750   \n",
       "1                0.0           0.0             0.0    0.0      15.881   \n",
       "2                0.0           0.0             0.0    0.0      15.891   \n",
       "3                0.0           0.0             0.0    0.0      15.918   \n",
       "4                0.0           0.0             0.0    0.0      15.841   \n",
       "\n",
       "   SystolicBP  NonHDLcholesterol  Sex  \n",
       "0     133.077              3.020    0  \n",
       "1     108.914              5.480    0  \n",
       "2     110.064              4.388    1  \n",
       "3     128.059              5.119    0  \n",
       "4     169.913              5.740    1  "
      ]
     },
     "execution_count": 2,
     "metadata": {},
     "output_type": "execute_result"
    }
   ],
   "source": [
    "pheno_train_df = pd.read_csv(pheno_train)\n",
    "pheno_train_df.rename(columns={\"Unnamed: 0\": \"Sample_ID\"}, inplace=True) # rename the first column to Sample_ID\n",
    "pheno_train_df.head()"
   ]
  },
  {
   "cell_type": "markdown",
   "metadata": {},
   "source": [
    "Taxonomic abundance table (readcounts_training.csv): Individuals in columns and taxon names in rows."
   ]
  },
  {
   "cell_type": "code",
   "execution_count": 3,
   "metadata": {},
   "outputs": [
    {
     "data": {
      "text/html": [
       "<div>\n",
       "<style scoped>\n",
       "    .dataframe tbody tr th:only-of-type {\n",
       "        vertical-align: middle;\n",
       "    }\n",
       "\n",
       "    .dataframe tbody tr th {\n",
       "        vertical-align: top;\n",
       "    }\n",
       "\n",
       "    .dataframe thead th {\n",
       "        text-align: right;\n",
       "    }\n",
       "</style>\n",
       "<table border=\"1\" class=\"dataframe\">\n",
       "  <thead>\n",
       "    <tr style=\"text-align: right;\">\n",
       "      <th></th>\n",
       "      <th>Taxon name</th>\n",
       "      <th>Simulated_328</th>\n",
       "      <th>Simulated_1644</th>\n",
       "      <th>Simulated_1710</th>\n",
       "      <th>Simulated_1732</th>\n",
       "      <th>Simulated_1727</th>\n",
       "      <th>Simulated_2196</th>\n",
       "      <th>Simulated_1681</th>\n",
       "      <th>Simulated_1651</th>\n",
       "      <th>Simulated_1603</th>\n",
       "      <th>...</th>\n",
       "      <th>Simulated_1676</th>\n",
       "      <th>Simulated_1630</th>\n",
       "      <th>Simulated_1605</th>\n",
       "      <th>Simulated_2202</th>\n",
       "      <th>Simulated_1682</th>\n",
       "      <th>Simulated_1783</th>\n",
       "      <th>Simulated_3425</th>\n",
       "      <th>Simulated_1789</th>\n",
       "      <th>Simulated_1592</th>\n",
       "      <th>Simulated_1731</th>\n",
       "    </tr>\n",
       "  </thead>\n",
       "  <tbody>\n",
       "    <tr>\n",
       "      <th>0</th>\n",
       "      <td>k__Archaea;p__;c__;o__;f__;g__;s__</td>\n",
       "      <td>0</td>\n",
       "      <td>0</td>\n",
       "      <td>0</td>\n",
       "      <td>0</td>\n",
       "      <td>0</td>\n",
       "      <td>0</td>\n",
       "      <td>0</td>\n",
       "      <td>0</td>\n",
       "      <td>0</td>\n",
       "      <td>...</td>\n",
       "      <td>0</td>\n",
       "      <td>0</td>\n",
       "      <td>0</td>\n",
       "      <td>0</td>\n",
       "      <td>0</td>\n",
       "      <td>0</td>\n",
       "      <td>0</td>\n",
       "      <td>0</td>\n",
       "      <td>0</td>\n",
       "      <td>0</td>\n",
       "    </tr>\n",
       "    <tr>\n",
       "      <th>1</th>\n",
       "      <td>k__Archaea;p__Candidatus_Korarchaeota;c__;o__;...</td>\n",
       "      <td>0</td>\n",
       "      <td>0</td>\n",
       "      <td>0</td>\n",
       "      <td>0</td>\n",
       "      <td>0</td>\n",
       "      <td>0</td>\n",
       "      <td>0</td>\n",
       "      <td>0</td>\n",
       "      <td>0</td>\n",
       "      <td>...</td>\n",
       "      <td>0</td>\n",
       "      <td>0</td>\n",
       "      <td>0</td>\n",
       "      <td>0</td>\n",
       "      <td>0</td>\n",
       "      <td>0</td>\n",
       "      <td>0</td>\n",
       "      <td>0</td>\n",
       "      <td>0</td>\n",
       "      <td>0</td>\n",
       "    </tr>\n",
       "    <tr>\n",
       "      <th>2</th>\n",
       "      <td>k__Archaea;p__Crenarchaeota;c__Thermoprotei;o_...</td>\n",
       "      <td>0</td>\n",
       "      <td>0</td>\n",
       "      <td>0</td>\n",
       "      <td>0</td>\n",
       "      <td>0</td>\n",
       "      <td>0</td>\n",
       "      <td>0</td>\n",
       "      <td>0</td>\n",
       "      <td>0</td>\n",
       "      <td>...</td>\n",
       "      <td>0</td>\n",
       "      <td>0</td>\n",
       "      <td>0</td>\n",
       "      <td>0</td>\n",
       "      <td>0</td>\n",
       "      <td>0</td>\n",
       "      <td>0</td>\n",
       "      <td>0</td>\n",
       "      <td>0</td>\n",
       "      <td>0</td>\n",
       "    </tr>\n",
       "    <tr>\n",
       "      <th>3</th>\n",
       "      <td>k__Archaea;p__Crenarchaeota;c__Thermoprotei;o_...</td>\n",
       "      <td>0</td>\n",
       "      <td>0</td>\n",
       "      <td>0</td>\n",
       "      <td>0</td>\n",
       "      <td>0</td>\n",
       "      <td>0</td>\n",
       "      <td>0</td>\n",
       "      <td>0</td>\n",
       "      <td>0</td>\n",
       "      <td>...</td>\n",
       "      <td>0</td>\n",
       "      <td>0</td>\n",
       "      <td>0</td>\n",
       "      <td>0</td>\n",
       "      <td>0</td>\n",
       "      <td>0</td>\n",
       "      <td>0</td>\n",
       "      <td>0</td>\n",
       "      <td>0</td>\n",
       "      <td>0</td>\n",
       "    </tr>\n",
       "    <tr>\n",
       "      <th>4</th>\n",
       "      <td>k__Archaea;p__Crenarchaeota;c__Thermoprotei;o_...</td>\n",
       "      <td>0</td>\n",
       "      <td>0</td>\n",
       "      <td>0</td>\n",
       "      <td>0</td>\n",
       "      <td>0</td>\n",
       "      <td>0</td>\n",
       "      <td>0</td>\n",
       "      <td>0</td>\n",
       "      <td>0</td>\n",
       "      <td>...</td>\n",
       "      <td>0</td>\n",
       "      <td>0</td>\n",
       "      <td>0</td>\n",
       "      <td>0</td>\n",
       "      <td>0</td>\n",
       "      <td>0</td>\n",
       "      <td>0</td>\n",
       "      <td>0</td>\n",
       "      <td>0</td>\n",
       "      <td>0</td>\n",
       "    </tr>\n",
       "  </tbody>\n",
       "</table>\n",
       "<p>5 rows × 3616 columns</p>\n",
       "</div>"
      ],
      "text/plain": [
       "                                          Taxon name  Simulated_328  \\\n",
       "0                 k__Archaea;p__;c__;o__;f__;g__;s__              0   \n",
       "1  k__Archaea;p__Candidatus_Korarchaeota;c__;o__;...              0   \n",
       "2  k__Archaea;p__Crenarchaeota;c__Thermoprotei;o_...              0   \n",
       "3  k__Archaea;p__Crenarchaeota;c__Thermoprotei;o_...              0   \n",
       "4  k__Archaea;p__Crenarchaeota;c__Thermoprotei;o_...              0   \n",
       "\n",
       "   Simulated_1644  Simulated_1710  Simulated_1732  Simulated_1727  \\\n",
       "0               0               0               0               0   \n",
       "1               0               0               0               0   \n",
       "2               0               0               0               0   \n",
       "3               0               0               0               0   \n",
       "4               0               0               0               0   \n",
       "\n",
       "   Simulated_2196  Simulated_1681  Simulated_1651  Simulated_1603  ...  \\\n",
       "0               0               0               0               0  ...   \n",
       "1               0               0               0               0  ...   \n",
       "2               0               0               0               0  ...   \n",
       "3               0               0               0               0  ...   \n",
       "4               0               0               0               0  ...   \n",
       "\n",
       "   Simulated_1676  Simulated_1630  Simulated_1605  Simulated_2202  \\\n",
       "0               0               0               0               0   \n",
       "1               0               0               0               0   \n",
       "2               0               0               0               0   \n",
       "3               0               0               0               0   \n",
       "4               0               0               0               0   \n",
       "\n",
       "   Simulated_1682  Simulated_1783  Simulated_3425  Simulated_1789  \\\n",
       "0               0               0               0               0   \n",
       "1               0               0               0               0   \n",
       "2               0               0               0               0   \n",
       "3               0               0               0               0   \n",
       "4               0               0               0               0   \n",
       "\n",
       "   Simulated_1592  Simulated_1731  \n",
       "0               0               0  \n",
       "1               0               0  \n",
       "2               0               0  \n",
       "3               0               0  \n",
       "4               0               0  \n",
       "\n",
       "[5 rows x 3616 columns]"
      ]
     },
     "execution_count": 3,
     "metadata": {},
     "output_type": "execute_result"
    }
   ],
   "source": [
    "read_counts_df = pd.read_csv(read_counts)\n",
    "read_counts_df.rename(columns={\"Unnamed: 0\": \"Taxon name\"}, inplace=True) # rename the first column to Taxon name\n",
    "read_counts_df.head()"
   ]
  },
  {
   "cell_type": "markdown",
   "metadata": {},
   "source": [
    "Taxonomic mapping table (taxtable.csv): Mapping of the taxonomic species to higher taxonomic hierarchy (Kingdom, Phylum, Class, Order, Family, Genus and Species)"
   ]
  },
  {
   "cell_type": "code",
   "execution_count": 4,
   "metadata": {},
   "outputs": [
    {
     "data": {
      "text/html": [
       "<div>\n",
       "<style scoped>\n",
       "    .dataframe tbody tr th:only-of-type {\n",
       "        vertical-align: middle;\n",
       "    }\n",
       "\n",
       "    .dataframe tbody tr th {\n",
       "        vertical-align: top;\n",
       "    }\n",
       "\n",
       "    .dataframe thead th {\n",
       "        text-align: right;\n",
       "    }\n",
       "</style>\n",
       "<table border=\"1\" class=\"dataframe\">\n",
       "  <thead>\n",
       "    <tr style=\"text-align: right;\">\n",
       "      <th></th>\n",
       "      <th>Domain</th>\n",
       "      <th>Phylum</th>\n",
       "      <th>Class</th>\n",
       "      <th>Order</th>\n",
       "      <th>Family</th>\n",
       "      <th>Genus</th>\n",
       "      <th>Species</th>\n",
       "    </tr>\n",
       "  </thead>\n",
       "  <tbody>\n",
       "    <tr>\n",
       "      <th>0</th>\n",
       "      <td>k__Archaea</td>\n",
       "      <td>p__</td>\n",
       "      <td>c__</td>\n",
       "      <td>o__</td>\n",
       "      <td>f__</td>\n",
       "      <td>g__</td>\n",
       "      <td>s__</td>\n",
       "    </tr>\n",
       "    <tr>\n",
       "      <th>1</th>\n",
       "      <td>k__Archaea</td>\n",
       "      <td>p__Candidatus_Korarchaeota</td>\n",
       "      <td>c__</td>\n",
       "      <td>o__</td>\n",
       "      <td>f__</td>\n",
       "      <td>g__</td>\n",
       "      <td>s__</td>\n",
       "    </tr>\n",
       "    <tr>\n",
       "      <th>2</th>\n",
       "      <td>k__Archaea</td>\n",
       "      <td>p__Crenarchaeota</td>\n",
       "      <td>c__Thermoprotei</td>\n",
       "      <td>o__</td>\n",
       "      <td>f__</td>\n",
       "      <td>g__</td>\n",
       "      <td>s__</td>\n",
       "    </tr>\n",
       "    <tr>\n",
       "      <th>3</th>\n",
       "      <td>k__Archaea</td>\n",
       "      <td>p__Crenarchaeota</td>\n",
       "      <td>c__Thermoprotei</td>\n",
       "      <td>o__Acidilobales</td>\n",
       "      <td>f__Acidilobaceae</td>\n",
       "      <td>g__Acidilobus</td>\n",
       "      <td>s__Acidilobus_saccharovorans</td>\n",
       "    </tr>\n",
       "    <tr>\n",
       "      <th>4</th>\n",
       "      <td>k__Archaea</td>\n",
       "      <td>p__Crenarchaeota</td>\n",
       "      <td>c__Thermoprotei</td>\n",
       "      <td>o__Acidilobales</td>\n",
       "      <td>f__Caldisphaeraceae</td>\n",
       "      <td>g__Caldisphaera</td>\n",
       "      <td>s__Caldisphaera_lagunensis</td>\n",
       "    </tr>\n",
       "  </tbody>\n",
       "</table>\n",
       "</div>"
      ],
      "text/plain": [
       "       Domain                      Phylum            Class            Order  \\\n",
       "0  k__Archaea                         p__              c__              o__   \n",
       "1  k__Archaea  p__Candidatus_Korarchaeota              c__              o__   \n",
       "2  k__Archaea            p__Crenarchaeota  c__Thermoprotei              o__   \n",
       "3  k__Archaea            p__Crenarchaeota  c__Thermoprotei  o__Acidilobales   \n",
       "4  k__Archaea            p__Crenarchaeota  c__Thermoprotei  o__Acidilobales   \n",
       "\n",
       "                Family            Genus                       Species  \n",
       "0                  f__              g__                           s__  \n",
       "1                  f__              g__                           s__  \n",
       "2                  f__              g__                           s__  \n",
       "3     f__Acidilobaceae    g__Acidilobus  s__Acidilobus_saccharovorans  \n",
       "4  f__Caldisphaeraceae  g__Caldisphaera    s__Caldisphaera_lagunensis  "
      ]
     },
     "execution_count": 4,
     "metadata": {},
     "output_type": "execute_result"
    }
   ],
   "source": [
    "taxtable_df = pd.read_csv(taxtable)\n",
    "taxtable_df.head()"
   ]
  },
  {
   "cell_type": "markdown",
   "metadata": {},
   "source": [
    "### Data structure verification"
   ]
  },
  {
   "cell_type": "markdown",
   "metadata": {},
   "source": [
    "Number of rows and columns of each dataframe"
   ]
  },
  {
   "cell_type": "code",
   "execution_count": 5,
   "metadata": {},
   "outputs": [
    {
     "name": "stdout",
     "output_type": "stream",
     "text": [
      "The Host Phenotype data has 3615 rows and 13 columns\n",
      "The Taxonomic abundance table has 5748 rows and 3616 columns\n",
      "The Taxonomic mapping table has 5748 rows and 7 columns\n"
     ]
    }
   ],
   "source": [
    "print(f\"The Host Phenotype data has {pheno_train_df.shape[0]} rows and {pheno_train_df.shape[1]} columns\")\n",
    "print(f\"The Taxonomic abundance table has {read_counts_df.shape[0]} rows and {read_counts_df.shape[1]} columns\")\n",
    "print(f\"The Taxonomic mapping table has {taxtable_df.shape[0]} rows and {taxtable_df.shape[1]} columns\")"
   ]
  },
  {
   "cell_type": "markdown",
   "metadata": {},
   "source": [
    "The column names"
   ]
  },
  {
   "cell_type": "code",
   "execution_count": 6,
   "metadata": {},
   "outputs": [
    {
     "name": "stdout",
     "output_type": "stream",
     "text": [
      "['Sample_ID', 'Age', 'BodyMassIndex', 'Smoking', 'BPTreatment', 'PrevalentDiabetes', 'PrevalentCHD', 'PrevalentHFAIL', 'Event', 'Event_time', 'SystolicBP', 'NonHDLcholesterol', 'Sex']\n",
      "['Domain', 'Phylum', 'Class', 'Order', 'Family', 'Genus', 'Species']\n"
     ]
    }
   ],
   "source": [
    "print(list(pheno_train_df.columns))\n",
    "# print(list(read_counts_df.columns)) # this prints the columns of the readcounts csv which are the sample ID's (3616 columns)\n",
    "print(list(taxtable_df.columns))"
   ]
  },
  {
   "cell_type": "markdown",
   "metadata": {},
   "source": [
    "Type of data in each column"
   ]
  },
  {
   "cell_type": "code",
   "execution_count": 7,
   "metadata": {},
   "outputs": [
    {
     "name": "stdout",
     "output_type": "stream",
     "text": [
      "Sample_ID             object\n",
      "Age                  float64\n",
      "BodyMassIndex        float64\n",
      "Smoking              float64\n",
      "BPTreatment            int64\n",
      "PrevalentDiabetes    float64\n",
      "PrevalentCHD         float64\n",
      "PrevalentHFAIL       float64\n",
      "Event                float64\n",
      "Event_time           float64\n",
      "SystolicBP           float64\n",
      "NonHDLcholesterol    float64\n",
      "Sex                    int64\n",
      "dtype: object\n"
     ]
    }
   ],
   "source": [
    "print(pheno_train_df.dtypes)"
   ]
  },
  {
   "cell_type": "code",
   "execution_count": 8,
   "metadata": {},
   "outputs": [],
   "source": [
    "#  print(read_counts_df.dtypes) int64"
   ]
  },
  {
   "cell_type": "code",
   "execution_count": 9,
   "metadata": {},
   "outputs": [
    {
     "name": "stdout",
     "output_type": "stream",
     "text": [
      "Domain     object\n",
      "Phylum     object\n",
      "Class      object\n",
      "Order      object\n",
      "Family     object\n",
      "Genus      object\n",
      "Species    object\n",
      "dtype: object\n"
     ]
    }
   ],
   "source": [
    "print(taxtable_df.dtypes)"
   ]
  },
  {
   "cell_type": "markdown",
   "metadata": {},
   "source": [
    "Range of values"
   ]
  },
  {
   "cell_type": "code",
   "execution_count": 10,
   "metadata": {},
   "outputs": [
    {
     "name": "stdout",
     "output_type": "stream",
     "text": [
      "Sample_ID:                Simulated_10 ----------------- Simulated_999\n",
      "Age:                24.098 ----------------- 74.242\n",
      "BodyMassIndex:                15.839 ----------------- 56.935\n",
      "Smoking:                0.0 ----------------- 1.0\n",
      "BPTreatment:                0 ----------------- 1\n",
      "PrevalentDiabetes:                0.0 ----------------- 1.0\n",
      "PrevalentCHD:                0.0 ----------------- 1.0\n",
      "PrevalentHFAIL:                0.0 ----------------- 1.0\n",
      "Event:                0.0 ----------------- 1.0\n",
      "Event_time:                -23.709 ----------------- 16.0\n",
      "SystolicBP:                88.097 ----------------- 253.075\n",
      "NonHDLcholesterol:                1.558 ----------------- 12.988\n",
      "Sex:                0 ----------------- 1\n"
     ]
    }
   ],
   "source": [
    "for col in pheno_train_df.columns:\n",
    "    print(f\"{col}:                {pheno_train_df[col].min()} ----------------- {pheno_train_df[col].max()}\")"
   ]
  },
  {
   "cell_type": "code",
   "execution_count": 11,
   "metadata": {},
   "outputs": [
    {
     "name": "stdout",
     "output_type": "stream",
     "text": [
      "Simulated_328:               0 --------------------- 276290\n",
      "Simulated_1644:               0 --------------------- 469820\n",
      "Simulated_1710:               0 --------------------- 359562\n",
      "Simulated_1732:               0 --------------------- 279370\n",
      "Simulated_1727:               0 --------------------- 98275\n",
      "Simulated_2196:               0 --------------------- 79766\n",
      "Simulated_1681:               0 --------------------- 73865\n",
      "Simulated_1651:               0 --------------------- 77094\n",
      "Simulated_1603:               0 --------------------- 569000\n"
     ]
    }
   ],
   "source": [
    "for col in read_counts_df.columns[1:10]:\n",
    "    print(f\"{col}:               {read_counts_df[col].min()} --------------------- {read_counts_df[col].max()}\")"
   ]
  },
  {
   "cell_type": "markdown",
   "metadata": {},
   "source": [
    "Missing values"
   ]
  },
  {
   "cell_type": "code",
   "execution_count": 12,
   "metadata": {},
   "outputs": [
    {
     "data": {
      "text/plain": [
       "Sample_ID             0\n",
       "Age                   0\n",
       "BodyMassIndex         1\n",
       "Smoking              16\n",
       "BPTreatment           0\n",
       "PrevalentDiabetes    51\n",
       "PrevalentCHD         51\n",
       "PrevalentHFAIL       51\n",
       "Event                51\n",
       "Event_time           51\n",
       "SystolicBP            0\n",
       "NonHDLcholesterol     7\n",
       "Sex                   0\n",
       "dtype: int64"
      ]
     },
     "execution_count": 12,
     "metadata": {},
     "output_type": "execute_result"
    }
   ],
   "source": [
    "pheno_train_df.isna().sum()"
   ]
  },
  {
   "cell_type": "code",
   "execution_count": 13,
   "metadata": {},
   "outputs": [
    {
     "data": {
      "text/plain": [
       "0"
      ]
     },
     "execution_count": 13,
     "metadata": {},
     "output_type": "execute_result"
    }
   ],
   "source": [
    "read_counts_df.isna().sum().sum()"
   ]
  },
  {
   "cell_type": "code",
   "execution_count": 14,
   "metadata": {},
   "outputs": [
    {
     "data": {
      "text/plain": [
       "Domain      0\n",
       "Phylum      0\n",
       "Class       0\n",
       "Order       0\n",
       "Family      0\n",
       "Genus       0\n",
       "Species    35\n",
       "dtype: int64"
      ]
     },
     "execution_count": 14,
     "metadata": {},
     "output_type": "execute_result"
    }
   ],
   "source": [
    "taxtable_df.isna().sum()"
   ]
  },
  {
   "cell_type": "code",
   "execution_count": 15,
   "metadata": {},
   "outputs": [
    {
     "data": {
      "text/html": [
       "<div>\n",
       "<style scoped>\n",
       "    .dataframe tbody tr th:only-of-type {\n",
       "        vertical-align: middle;\n",
       "    }\n",
       "\n",
       "    .dataframe tbody tr th {\n",
       "        vertical-align: top;\n",
       "    }\n",
       "\n",
       "    .dataframe thead th {\n",
       "        text-align: right;\n",
       "    }\n",
       "</style>\n",
       "<table border=\"1\" class=\"dataframe\">\n",
       "  <thead>\n",
       "    <tr style=\"text-align: right;\">\n",
       "      <th></th>\n",
       "      <th>Domain</th>\n",
       "      <th>Phylum</th>\n",
       "      <th>Class</th>\n",
       "      <th>Order</th>\n",
       "      <th>Family</th>\n",
       "      <th>Genus</th>\n",
       "      <th>Species</th>\n",
       "    </tr>\n",
       "  </thead>\n",
       "  <tbody>\n",
       "    <tr>\n",
       "      <th>5662</th>\n",
       "      <td>k__Viruses</td>\n",
       "      <td>p__dsDNA_viruses,_no_RNA_stage</td>\n",
       "      <td>c__Adenoviridae</td>\n",
       "      <td>o__</td>\n",
       "      <td>f__</td>\n",
       "      <td>g__</td>\n",
       "      <td>NaN</td>\n",
       "    </tr>\n",
       "    <tr>\n",
       "      <th>5663</th>\n",
       "      <td>k__Viruses</td>\n",
       "      <td>p__dsDNA_viruses,_no_RNA_stage</td>\n",
       "      <td>c__Ascoviridae</td>\n",
       "      <td>o__</td>\n",
       "      <td>f__</td>\n",
       "      <td>g__</td>\n",
       "      <td>NaN</td>\n",
       "    </tr>\n",
       "    <tr>\n",
       "      <th>5664</th>\n",
       "      <td>k__Viruses</td>\n",
       "      <td>p__dsDNA_viruses,_no_RNA_stage</td>\n",
       "      <td>c__Baculoviridae</td>\n",
       "      <td>o__</td>\n",
       "      <td>f__</td>\n",
       "      <td>g__</td>\n",
       "      <td>NaN</td>\n",
       "    </tr>\n",
       "    <tr>\n",
       "      <th>5665</th>\n",
       "      <td>k__Viruses</td>\n",
       "      <td>p__dsDNA_viruses,_no_RNA_stage</td>\n",
       "      <td>c__Caudovirales</td>\n",
       "      <td>o__</td>\n",
       "      <td>f__</td>\n",
       "      <td>g__</td>\n",
       "      <td>NaN</td>\n",
       "    </tr>\n",
       "    <tr>\n",
       "      <th>5666</th>\n",
       "      <td>k__Viruses</td>\n",
       "      <td>p__dsDNA_viruses,_no_RNA_stage</td>\n",
       "      <td>c__Herpesvirales</td>\n",
       "      <td>o__</td>\n",
       "      <td>f__</td>\n",
       "      <td>g__</td>\n",
       "      <td>NaN</td>\n",
       "    </tr>\n",
       "    <tr>\n",
       "      <th>5667</th>\n",
       "      <td>k__Viruses</td>\n",
       "      <td>p__dsDNA_viruses,_no_RNA_stage</td>\n",
       "      <td>c__Iridoviridae</td>\n",
       "      <td>o__</td>\n",
       "      <td>f__</td>\n",
       "      <td>g__</td>\n",
       "      <td>NaN</td>\n",
       "    </tr>\n",
       "    <tr>\n",
       "      <th>5668</th>\n",
       "      <td>k__Viruses</td>\n",
       "      <td>p__dsDNA_viruses,_no_RNA_stage</td>\n",
       "      <td>c__Ligamenvirales</td>\n",
       "      <td>o__</td>\n",
       "      <td>f__</td>\n",
       "      <td>g__</td>\n",
       "      <td>NaN</td>\n",
       "    </tr>\n",
       "    <tr>\n",
       "      <th>5669</th>\n",
       "      <td>k__Viruses</td>\n",
       "      <td>p__dsDNA_viruses,_no_RNA_stage</td>\n",
       "      <td>c__Marseilleviridae</td>\n",
       "      <td>o__</td>\n",
       "      <td>f__</td>\n",
       "      <td>g__</td>\n",
       "      <td>NaN</td>\n",
       "    </tr>\n",
       "    <tr>\n",
       "      <th>5670</th>\n",
       "      <td>k__Viruses</td>\n",
       "      <td>p__dsDNA_viruses,_no_RNA_stage</td>\n",
       "      <td>c__Mimiviridae</td>\n",
       "      <td>o__</td>\n",
       "      <td>f__</td>\n",
       "      <td>g__</td>\n",
       "      <td>NaN</td>\n",
       "    </tr>\n",
       "    <tr>\n",
       "      <th>5671</th>\n",
       "      <td>k__Viruses</td>\n",
       "      <td>p__dsDNA_viruses,_no_RNA_stage</td>\n",
       "      <td>c__Nimaviridae</td>\n",
       "      <td>o__</td>\n",
       "      <td>f__</td>\n",
       "      <td>g__</td>\n",
       "      <td>NaN</td>\n",
       "    </tr>\n",
       "    <tr>\n",
       "      <th>5672</th>\n",
       "      <td>k__Viruses</td>\n",
       "      <td>p__dsDNA_viruses,_no_RNA_stage</td>\n",
       "      <td>c__Nudiviridae</td>\n",
       "      <td>o__</td>\n",
       "      <td>f__</td>\n",
       "      <td>g__</td>\n",
       "      <td>NaN</td>\n",
       "    </tr>\n",
       "    <tr>\n",
       "      <th>5673</th>\n",
       "      <td>k__Viruses</td>\n",
       "      <td>p__dsDNA_viruses,_no_RNA_stage</td>\n",
       "      <td>c__Papillomaviridae</td>\n",
       "      <td>o__</td>\n",
       "      <td>f__</td>\n",
       "      <td>g__</td>\n",
       "      <td>NaN</td>\n",
       "    </tr>\n",
       "    <tr>\n",
       "      <th>5674</th>\n",
       "      <td>k__Viruses</td>\n",
       "      <td>p__dsDNA_viruses,_no_RNA_stage</td>\n",
       "      <td>c__Phycodnaviridae</td>\n",
       "      <td>o__</td>\n",
       "      <td>f__</td>\n",
       "      <td>g__</td>\n",
       "      <td>NaN</td>\n",
       "    </tr>\n",
       "    <tr>\n",
       "      <th>5675</th>\n",
       "      <td>k__Viruses</td>\n",
       "      <td>p__dsDNA_viruses,_no_RNA_stage</td>\n",
       "      <td>c__Polydnaviridae</td>\n",
       "      <td>o__</td>\n",
       "      <td>f__</td>\n",
       "      <td>g__</td>\n",
       "      <td>NaN</td>\n",
       "    </tr>\n",
       "    <tr>\n",
       "      <th>5676</th>\n",
       "      <td>k__Viruses</td>\n",
       "      <td>p__dsDNA_viruses,_no_RNA_stage</td>\n",
       "      <td>c__Polyomaviridae</td>\n",
       "      <td>o__</td>\n",
       "      <td>f__</td>\n",
       "      <td>g__</td>\n",
       "      <td>NaN</td>\n",
       "    </tr>\n",
       "    <tr>\n",
       "      <th>5677</th>\n",
       "      <td>k__Viruses</td>\n",
       "      <td>p__dsDNA_viruses,_no_RNA_stage</td>\n",
       "      <td>c__Poxviridae</td>\n",
       "      <td>o__</td>\n",
       "      <td>f__</td>\n",
       "      <td>g__</td>\n",
       "      <td>NaN</td>\n",
       "    </tr>\n",
       "    <tr>\n",
       "      <th>5678</th>\n",
       "      <td>k__Viruses</td>\n",
       "      <td>p__dsDNA_viruses,_no_RNA_stage</td>\n",
       "      <td>c__Tectiviridae</td>\n",
       "      <td>o__</td>\n",
       "      <td>f__</td>\n",
       "      <td>g__</td>\n",
       "      <td>NaN</td>\n",
       "    </tr>\n",
       "    <tr>\n",
       "      <th>5679</th>\n",
       "      <td>k__Viruses</td>\n",
       "      <td>p__dsDNA_viruses,_no_RNA_stage</td>\n",
       "      <td>c__unclassified_dsDNA_phages</td>\n",
       "      <td>o__</td>\n",
       "      <td>f__</td>\n",
       "      <td>g__</td>\n",
       "      <td>NaN</td>\n",
       "    </tr>\n",
       "    <tr>\n",
       "      <th>5680</th>\n",
       "      <td>k__Viruses</td>\n",
       "      <td>p__dsDNA_viruses,_no_RNA_stage</td>\n",
       "      <td>c__unclassified_dsDNA_viruses</td>\n",
       "      <td>o__</td>\n",
       "      <td>f__</td>\n",
       "      <td>g__</td>\n",
       "      <td>NaN</td>\n",
       "    </tr>\n",
       "    <tr>\n",
       "      <th>5700</th>\n",
       "      <td>k__Viruses</td>\n",
       "      <td>p__ssRNA_viruses</td>\n",
       "      <td>c__ssRNA_positive-strand_viruses,_no_DNA_stage</td>\n",
       "      <td>o__</td>\n",
       "      <td>f__</td>\n",
       "      <td>g__</td>\n",
       "      <td>NaN</td>\n",
       "    </tr>\n",
       "    <tr>\n",
       "      <th>5701</th>\n",
       "      <td>k__Viruses</td>\n",
       "      <td>p__ssRNA_viruses</td>\n",
       "      <td>c__ssRNA_positive-strand_viruses,_no_DNA_stage</td>\n",
       "      <td>o__Nidovirales</td>\n",
       "      <td>f__Coronaviridae</td>\n",
       "      <td>g__</td>\n",
       "      <td>NaN</td>\n",
       "    </tr>\n",
       "    <tr>\n",
       "      <th>5702</th>\n",
       "      <td>k__Viruses</td>\n",
       "      <td>p__ssRNA_viruses</td>\n",
       "      <td>c__ssRNA_positive-strand_viruses,_no_DNA_stage</td>\n",
       "      <td>o__Nidovirales</td>\n",
       "      <td>f__Coronaviridae</td>\n",
       "      <td>g__Alphacoronavirus</td>\n",
       "      <td>NaN</td>\n",
       "    </tr>\n",
       "    <tr>\n",
       "      <th>5703</th>\n",
       "      <td>k__Viruses</td>\n",
       "      <td>p__ssRNA_viruses</td>\n",
       "      <td>c__ssRNA_positive-strand_viruses,_no_DNA_stage</td>\n",
       "      <td>o__Nidovirales</td>\n",
       "      <td>f__Coronaviridae</td>\n",
       "      <td>g__Betacoronavirus</td>\n",
       "      <td>NaN</td>\n",
       "    </tr>\n",
       "    <tr>\n",
       "      <th>5704</th>\n",
       "      <td>k__Viruses</td>\n",
       "      <td>p__ssRNA_viruses</td>\n",
       "      <td>c__ssRNA_positive-strand_viruses,_no_DNA_stage</td>\n",
       "      <td>o__Nidovirales</td>\n",
       "      <td>f__Coronaviridae</td>\n",
       "      <td>g__Gammacoronavirus</td>\n",
       "      <td>NaN</td>\n",
       "    </tr>\n",
       "    <tr>\n",
       "      <th>5705</th>\n",
       "      <td>k__Viruses</td>\n",
       "      <td>p__ssRNA_viruses</td>\n",
       "      <td>c__ssRNA_positive-strand_viruses,_no_DNA_stage</td>\n",
       "      <td>o__Picornavirales</td>\n",
       "      <td>f__</td>\n",
       "      <td>g__</td>\n",
       "      <td>NaN</td>\n",
       "    </tr>\n",
       "    <tr>\n",
       "      <th>5706</th>\n",
       "      <td>k__Viruses</td>\n",
       "      <td>p__ssRNA_viruses</td>\n",
       "      <td>c__ssRNA_positive-strand_viruses,_no_DNA_stage</td>\n",
       "      <td>o__Picornavirales</td>\n",
       "      <td>f__Iflaviridae</td>\n",
       "      <td>g__Iflavirus</td>\n",
       "      <td>NaN</td>\n",
       "    </tr>\n",
       "    <tr>\n",
       "      <th>5707</th>\n",
       "      <td>k__Viruses</td>\n",
       "      <td>p__ssRNA_viruses</td>\n",
       "      <td>c__ssRNA_positive-strand_viruses,_no_DNA_stage</td>\n",
       "      <td>o__Picornavirales</td>\n",
       "      <td>f__Iflaviridae</td>\n",
       "      <td>g__Iflavirus</td>\n",
       "      <td>NaN</td>\n",
       "    </tr>\n",
       "    <tr>\n",
       "      <th>5708</th>\n",
       "      <td>k__Viruses</td>\n",
       "      <td>p__ssRNA_viruses</td>\n",
       "      <td>c__ssRNA_positive-strand_viruses,_no_DNA_stage</td>\n",
       "      <td>o__Picornavirales</td>\n",
       "      <td>f__Picornaviridae</td>\n",
       "      <td>g__</td>\n",
       "      <td>NaN</td>\n",
       "    </tr>\n",
       "    <tr>\n",
       "      <th>5709</th>\n",
       "      <td>k__Viruses</td>\n",
       "      <td>p__ssRNA_viruses</td>\n",
       "      <td>c__ssRNA_positive-strand_viruses,_no_DNA_stage</td>\n",
       "      <td>o__Picornavirales</td>\n",
       "      <td>f__Picornaviridae</td>\n",
       "      <td>g__Aquamavirus</td>\n",
       "      <td>NaN</td>\n",
       "    </tr>\n",
       "    <tr>\n",
       "      <th>5710</th>\n",
       "      <td>k__Viruses</td>\n",
       "      <td>p__ssRNA_viruses</td>\n",
       "      <td>c__ssRNA_positive-strand_viruses,_no_DNA_stage</td>\n",
       "      <td>o__Picornavirales</td>\n",
       "      <td>f__Picornaviridae</td>\n",
       "      <td>g__Cardiovirus</td>\n",
       "      <td>NaN</td>\n",
       "    </tr>\n",
       "    <tr>\n",
       "      <th>5711</th>\n",
       "      <td>k__Viruses</td>\n",
       "      <td>p__ssRNA_viruses</td>\n",
       "      <td>c__ssRNA_positive-strand_viruses,_no_DNA_stage</td>\n",
       "      <td>o__Picornavirales</td>\n",
       "      <td>f__Picornaviridae</td>\n",
       "      <td>g__Enterovirus</td>\n",
       "      <td>NaN</td>\n",
       "    </tr>\n",
       "    <tr>\n",
       "      <th>5712</th>\n",
       "      <td>k__Viruses</td>\n",
       "      <td>p__ssRNA_viruses</td>\n",
       "      <td>c__ssRNA_positive-strand_viruses,_no_DNA_stage</td>\n",
       "      <td>o__Picornavirales</td>\n",
       "      <td>f__Picornaviridae</td>\n",
       "      <td>g__Senecavirus</td>\n",
       "      <td>NaN</td>\n",
       "    </tr>\n",
       "    <tr>\n",
       "      <th>5713</th>\n",
       "      <td>k__Viruses</td>\n",
       "      <td>p__ssRNA_viruses</td>\n",
       "      <td>c__ssRNA_positive-strand_viruses,_no_DNA_stage</td>\n",
       "      <td>o__Picornavirales</td>\n",
       "      <td>f__Secoviridae</td>\n",
       "      <td>g__Waikavirus</td>\n",
       "      <td>NaN</td>\n",
       "    </tr>\n",
       "    <tr>\n",
       "      <th>5714</th>\n",
       "      <td>k__Viruses</td>\n",
       "      <td>p__ssRNA_viruses</td>\n",
       "      <td>c__ssRNA_positive-strand_viruses,_no_DNA_stage</td>\n",
       "      <td>o__Tymovirales</td>\n",
       "      <td>f__Alphaflexiviridae</td>\n",
       "      <td>g__</td>\n",
       "      <td>NaN</td>\n",
       "    </tr>\n",
       "    <tr>\n",
       "      <th>5715</th>\n",
       "      <td>k__Viruses</td>\n",
       "      <td>p__ssRNA_viruses</td>\n",
       "      <td>c__ssRNA_positive-strand_viruses,_no_DNA_stage</td>\n",
       "      <td>o__Tymovirales</td>\n",
       "      <td>f__Betaflexiviridae</td>\n",
       "      <td>g__</td>\n",
       "      <td>NaN</td>\n",
       "    </tr>\n",
       "  </tbody>\n",
       "</table>\n",
       "</div>"
      ],
      "text/plain": [
       "          Domain                          Phylum  \\\n",
       "5662  k__Viruses  p__dsDNA_viruses,_no_RNA_stage   \n",
       "5663  k__Viruses  p__dsDNA_viruses,_no_RNA_stage   \n",
       "5664  k__Viruses  p__dsDNA_viruses,_no_RNA_stage   \n",
       "5665  k__Viruses  p__dsDNA_viruses,_no_RNA_stage   \n",
       "5666  k__Viruses  p__dsDNA_viruses,_no_RNA_stage   \n",
       "5667  k__Viruses  p__dsDNA_viruses,_no_RNA_stage   \n",
       "5668  k__Viruses  p__dsDNA_viruses,_no_RNA_stage   \n",
       "5669  k__Viruses  p__dsDNA_viruses,_no_RNA_stage   \n",
       "5670  k__Viruses  p__dsDNA_viruses,_no_RNA_stage   \n",
       "5671  k__Viruses  p__dsDNA_viruses,_no_RNA_stage   \n",
       "5672  k__Viruses  p__dsDNA_viruses,_no_RNA_stage   \n",
       "5673  k__Viruses  p__dsDNA_viruses,_no_RNA_stage   \n",
       "5674  k__Viruses  p__dsDNA_viruses,_no_RNA_stage   \n",
       "5675  k__Viruses  p__dsDNA_viruses,_no_RNA_stage   \n",
       "5676  k__Viruses  p__dsDNA_viruses,_no_RNA_stage   \n",
       "5677  k__Viruses  p__dsDNA_viruses,_no_RNA_stage   \n",
       "5678  k__Viruses  p__dsDNA_viruses,_no_RNA_stage   \n",
       "5679  k__Viruses  p__dsDNA_viruses,_no_RNA_stage   \n",
       "5680  k__Viruses  p__dsDNA_viruses,_no_RNA_stage   \n",
       "5700  k__Viruses                p__ssRNA_viruses   \n",
       "5701  k__Viruses                p__ssRNA_viruses   \n",
       "5702  k__Viruses                p__ssRNA_viruses   \n",
       "5703  k__Viruses                p__ssRNA_viruses   \n",
       "5704  k__Viruses                p__ssRNA_viruses   \n",
       "5705  k__Viruses                p__ssRNA_viruses   \n",
       "5706  k__Viruses                p__ssRNA_viruses   \n",
       "5707  k__Viruses                p__ssRNA_viruses   \n",
       "5708  k__Viruses                p__ssRNA_viruses   \n",
       "5709  k__Viruses                p__ssRNA_viruses   \n",
       "5710  k__Viruses                p__ssRNA_viruses   \n",
       "5711  k__Viruses                p__ssRNA_viruses   \n",
       "5712  k__Viruses                p__ssRNA_viruses   \n",
       "5713  k__Viruses                p__ssRNA_viruses   \n",
       "5714  k__Viruses                p__ssRNA_viruses   \n",
       "5715  k__Viruses                p__ssRNA_viruses   \n",
       "\n",
       "                                               Class              Order  \\\n",
       "5662                                 c__Adenoviridae                o__   \n",
       "5663                                  c__Ascoviridae                o__   \n",
       "5664                                c__Baculoviridae                o__   \n",
       "5665                                 c__Caudovirales                o__   \n",
       "5666                                c__Herpesvirales                o__   \n",
       "5667                                 c__Iridoviridae                o__   \n",
       "5668                               c__Ligamenvirales                o__   \n",
       "5669                             c__Marseilleviridae                o__   \n",
       "5670                                  c__Mimiviridae                o__   \n",
       "5671                                  c__Nimaviridae                o__   \n",
       "5672                                  c__Nudiviridae                o__   \n",
       "5673                             c__Papillomaviridae                o__   \n",
       "5674                              c__Phycodnaviridae                o__   \n",
       "5675                               c__Polydnaviridae                o__   \n",
       "5676                               c__Polyomaviridae                o__   \n",
       "5677                                   c__Poxviridae                o__   \n",
       "5678                                 c__Tectiviridae                o__   \n",
       "5679                    c__unclassified_dsDNA_phages                o__   \n",
       "5680                   c__unclassified_dsDNA_viruses                o__   \n",
       "5700  c__ssRNA_positive-strand_viruses,_no_DNA_stage                o__   \n",
       "5701  c__ssRNA_positive-strand_viruses,_no_DNA_stage     o__Nidovirales   \n",
       "5702  c__ssRNA_positive-strand_viruses,_no_DNA_stage     o__Nidovirales   \n",
       "5703  c__ssRNA_positive-strand_viruses,_no_DNA_stage     o__Nidovirales   \n",
       "5704  c__ssRNA_positive-strand_viruses,_no_DNA_stage     o__Nidovirales   \n",
       "5705  c__ssRNA_positive-strand_viruses,_no_DNA_stage  o__Picornavirales   \n",
       "5706  c__ssRNA_positive-strand_viruses,_no_DNA_stage  o__Picornavirales   \n",
       "5707  c__ssRNA_positive-strand_viruses,_no_DNA_stage  o__Picornavirales   \n",
       "5708  c__ssRNA_positive-strand_viruses,_no_DNA_stage  o__Picornavirales   \n",
       "5709  c__ssRNA_positive-strand_viruses,_no_DNA_stage  o__Picornavirales   \n",
       "5710  c__ssRNA_positive-strand_viruses,_no_DNA_stage  o__Picornavirales   \n",
       "5711  c__ssRNA_positive-strand_viruses,_no_DNA_stage  o__Picornavirales   \n",
       "5712  c__ssRNA_positive-strand_viruses,_no_DNA_stage  o__Picornavirales   \n",
       "5713  c__ssRNA_positive-strand_viruses,_no_DNA_stage  o__Picornavirales   \n",
       "5714  c__ssRNA_positive-strand_viruses,_no_DNA_stage     o__Tymovirales   \n",
       "5715  c__ssRNA_positive-strand_viruses,_no_DNA_stage     o__Tymovirales   \n",
       "\n",
       "                    Family                Genus Species  \n",
       "5662                   f__                  g__     NaN  \n",
       "5663                   f__                  g__     NaN  \n",
       "5664                   f__                  g__     NaN  \n",
       "5665                   f__                  g__     NaN  \n",
       "5666                   f__                  g__     NaN  \n",
       "5667                   f__                  g__     NaN  \n",
       "5668                   f__                  g__     NaN  \n",
       "5669                   f__                  g__     NaN  \n",
       "5670                   f__                  g__     NaN  \n",
       "5671                   f__                  g__     NaN  \n",
       "5672                   f__                  g__     NaN  \n",
       "5673                   f__                  g__     NaN  \n",
       "5674                   f__                  g__     NaN  \n",
       "5675                   f__                  g__     NaN  \n",
       "5676                   f__                  g__     NaN  \n",
       "5677                   f__                  g__     NaN  \n",
       "5678                   f__                  g__     NaN  \n",
       "5679                   f__                  g__     NaN  \n",
       "5680                   f__                  g__     NaN  \n",
       "5700                   f__                  g__     NaN  \n",
       "5701      f__Coronaviridae                  g__     NaN  \n",
       "5702      f__Coronaviridae  g__Alphacoronavirus     NaN  \n",
       "5703      f__Coronaviridae   g__Betacoronavirus     NaN  \n",
       "5704      f__Coronaviridae  g__Gammacoronavirus     NaN  \n",
       "5705                   f__                  g__     NaN  \n",
       "5706        f__Iflaviridae         g__Iflavirus     NaN  \n",
       "5707        f__Iflaviridae         g__Iflavirus     NaN  \n",
       "5708     f__Picornaviridae                  g__     NaN  \n",
       "5709     f__Picornaviridae       g__Aquamavirus     NaN  \n",
       "5710     f__Picornaviridae       g__Cardiovirus     NaN  \n",
       "5711     f__Picornaviridae       g__Enterovirus     NaN  \n",
       "5712     f__Picornaviridae       g__Senecavirus     NaN  \n",
       "5713        f__Secoviridae        g__Waikavirus     NaN  \n",
       "5714  f__Alphaflexiviridae                  g__     NaN  \n",
       "5715   f__Betaflexiviridae                  g__     NaN  "
      ]
     },
     "execution_count": 15,
     "metadata": {},
     "output_type": "execute_result"
    }
   ],
   "source": [
    "null_data_taxtable = taxtable_df[taxtable_df.isna().any(axis=1)]\n",
    "null_data_taxtable"
   ]
  },
  {
   "cell_type": "markdown",
   "metadata": {},
   "source": [
    "#### Treating missing values on Host phenotype data"
   ]
  },
  {
   "cell_type": "markdown",
   "metadata": {},
   "source": [
    "For the BodyMaxIndex column we will use the mean of that column to subtitute the missing value"
   ]
  },
  {
   "cell_type": "code",
   "execution_count": 16,
   "metadata": {},
   "outputs": [],
   "source": [
    "body_mass_index_mean = pheno_train_df[\"BodyMassIndex\"].mean()\n",
    "pheno_train_df[\"BodyMassIndex\"] = pheno_train_df[\"BodyMassIndex\"].fillna(body_mass_index_mean)"
   ]
  },
  {
   "cell_type": "markdown",
   "metadata": {},
   "source": [
    "For the smoking variable we will use mode imputation."
   ]
  },
  {
   "cell_type": "code",
   "execution_count": 17,
   "metadata": {},
   "outputs": [],
   "source": [
    "mode_smoking = pheno_train_df[\"Smoking\"].mode()[0]\n",
    "pheno_train_df[\"Smoking\"] = pheno_train_df[\"Smoking\"].fillna(mode_smoking)"
   ]
  },
  {
   "cell_type": "markdown",
   "metadata": {},
   "source": [
    "For the PrevalentDiabetes we will use mode imputation."
   ]
  },
  {
   "cell_type": "code",
   "execution_count": 18,
   "metadata": {},
   "outputs": [],
   "source": [
    "mode_diabetes = pheno_train_df[\"PrevalentDiabetes\"].mode()[0]\n",
    "pheno_train_df[\"PrevalentDiabetes\"] = pheno_train_df[\"PrevalentDiabetes\"].fillna(mode_diabetes)"
   ]
  },
  {
   "cell_type": "markdown",
   "metadata": {},
   "source": [
    "For the PrevalentCHD variable we will use mode imputation."
   ]
  },
  {
   "cell_type": "code",
   "execution_count": 19,
   "metadata": {},
   "outputs": [],
   "source": [
    "mode_chd = pheno_train_df[\"PrevalentCHD\"].mode()[0]\n",
    "pheno_train_df[\"PrevalentCHD\"] = pheno_train_df[\"PrevalentCHD\"].fillna(mode_chd)"
   ]
  },
  {
   "cell_type": "markdown",
   "metadata": {},
   "source": [
    "For the PrevalentHFAIL variable we will also use mode imputation."
   ]
  },
  {
   "cell_type": "code",
   "execution_count": 20,
   "metadata": {},
   "outputs": [],
   "source": [
    "mode_hfail = pheno_train_df[\"PrevalentHFAIL\"].mode()[0]\n",
    "pheno_train_df[\"PrevalentHFAIL\"] = pheno_train_df[\"PrevalentHFAIL\"].fillna(mode_hfail)"
   ]
  },
  {
   "cell_type": "markdown",
   "metadata": {},
   "source": [
    "For the Event variable we will also use mode imputation."
   ]
  },
  {
   "cell_type": "code",
   "execution_count": 21,
   "metadata": {},
   "outputs": [],
   "source": [
    "mode_event = pheno_train_df[\"Event\"].mode()[0]\n",
    "pheno_train_df[\"Event\"] = pheno_train_df[\"Event\"].fillna(mode_event)"
   ]
  },
  {
   "cell_type": "markdown",
   "metadata": {},
   "source": [
    "For the Event_time variable we will use mean imputation"
   ]
  },
  {
   "cell_type": "code",
   "execution_count": 22,
   "metadata": {},
   "outputs": [],
   "source": [
    "mean_time = pheno_train_df[\"Event_time\"].mean()\n",
    "pheno_train_df[\"Event_time\"] = pheno_train_df[\"Event_time\"].fillna(mean_time)"
   ]
  },
  {
   "cell_type": "markdown",
   "metadata": {},
   "source": [
    "For the NonHDLcholesterol variable we will use mean imputation."
   ]
  },
  {
   "cell_type": "code",
   "execution_count": 23,
   "metadata": {},
   "outputs": [],
   "source": [
    "mean_cholesterol = pheno_train_df[\"NonHDLcholesterol\"].mean()\n",
    "pheno_train_df[\"NonHDLcholesterol\"] = pheno_train_df[\"NonHDLcholesterol\"].fillna(mean_cholesterol)"
   ]
  },
  {
   "cell_type": "code",
   "execution_count": 24,
   "metadata": {},
   "outputs": [
    {
     "data": {
      "text/plain": [
       "Sample_ID            0\n",
       "Age                  0\n",
       "BodyMassIndex        0\n",
       "Smoking              0\n",
       "BPTreatment          0\n",
       "PrevalentDiabetes    0\n",
       "PrevalentCHD         0\n",
       "PrevalentHFAIL       0\n",
       "Event                0\n",
       "Event_time           0\n",
       "SystolicBP           0\n",
       "NonHDLcholesterol    0\n",
       "Sex                  0\n",
       "dtype: int64"
      ]
     },
     "execution_count": 24,
     "metadata": {},
     "output_type": "execute_result"
    }
   ],
   "source": [
    "pheno_train_df.isna().sum() # no missing values"
   ]
  },
  {
   "cell_type": "markdown",
   "metadata": {},
   "source": [
    "#### Treating missing values on Taxonomic mapping table (taxtable)"
   ]
  },
  {
   "cell_type": "code",
   "execution_count": 25,
   "metadata": {},
   "outputs": [
    {
     "data": {
      "text/plain": [
       "Domain      0\n",
       "Phylum      0\n",
       "Class       0\n",
       "Order       0\n",
       "Family      0\n",
       "Genus       0\n",
       "Species    35\n",
       "dtype: int64"
      ]
     },
     "execution_count": 25,
     "metadata": {},
     "output_type": "execute_result"
    }
   ],
   "source": [
    "taxtable_df.isna().sum()"
   ]
  },
  {
   "cell_type": "code",
   "execution_count": 26,
   "metadata": {},
   "outputs": [],
   "source": [
    "taxtable_df[\"Species\"] = taxtable_df[\"Species\"].fillna(\"Unidentified Species\")"
   ]
  },
  {
   "cell_type": "markdown",
   "metadata": {},
   "source": [
    "### Data summary"
   ]
  },
  {
   "cell_type": "code",
   "execution_count": 27,
   "metadata": {},
   "outputs": [
    {
     "data": {
      "text/html": [
       "<div>\n",
       "<style scoped>\n",
       "    .dataframe tbody tr th:only-of-type {\n",
       "        vertical-align: middle;\n",
       "    }\n",
       "\n",
       "    .dataframe tbody tr th {\n",
       "        vertical-align: top;\n",
       "    }\n",
       "\n",
       "    .dataframe thead th {\n",
       "        text-align: right;\n",
       "    }\n",
       "</style>\n",
       "<table border=\"1\" class=\"dataframe\">\n",
       "  <thead>\n",
       "    <tr style=\"text-align: right;\">\n",
       "      <th></th>\n",
       "      <th>Age</th>\n",
       "      <th>BodyMassIndex</th>\n",
       "      <th>Smoking</th>\n",
       "      <th>BPTreatment</th>\n",
       "      <th>PrevalentDiabetes</th>\n",
       "      <th>PrevalentCHD</th>\n",
       "      <th>PrevalentHFAIL</th>\n",
       "      <th>Event</th>\n",
       "      <th>Event_time</th>\n",
       "      <th>SystolicBP</th>\n",
       "      <th>NonHDLcholesterol</th>\n",
       "      <th>Sex</th>\n",
       "    </tr>\n",
       "  </thead>\n",
       "  <tbody>\n",
       "    <tr>\n",
       "      <th>count</th>\n",
       "      <td>3615.000</td>\n",
       "      <td>3615.000</td>\n",
       "      <td>3615.000</td>\n",
       "      <td>3615.000</td>\n",
       "      <td>3615.000</td>\n",
       "      <td>3615.000</td>\n",
       "      <td>3615.000</td>\n",
       "      <td>3615.000</td>\n",
       "      <td>3615.000</td>\n",
       "      <td>3615.000</td>\n",
       "      <td>3615.000</td>\n",
       "      <td>3615.000</td>\n",
       "    </tr>\n",
       "    <tr>\n",
       "      <th>mean</th>\n",
       "      <td>49.504</td>\n",
       "      <td>27.071</td>\n",
       "      <td>0.232</td>\n",
       "      <td>0.155</td>\n",
       "      <td>0.061</td>\n",
       "      <td>0.032</td>\n",
       "      <td>0.026</td>\n",
       "      <td>0.083</td>\n",
       "      <td>13.756</td>\n",
       "      <td>136.341</td>\n",
       "      <td>4.086</td>\n",
       "      <td>0.444</td>\n",
       "    </tr>\n",
       "    <tr>\n",
       "      <th>std</th>\n",
       "      <td>14.848</td>\n",
       "      <td>4.723</td>\n",
       "      <td>0.422</td>\n",
       "      <td>0.362</td>\n",
       "      <td>0.239</td>\n",
       "      <td>0.177</td>\n",
       "      <td>0.158</td>\n",
       "      <td>0.276</td>\n",
       "      <td>5.646</td>\n",
       "      <td>22.038</td>\n",
       "      <td>1.091</td>\n",
       "      <td>0.497</td>\n",
       "    </tr>\n",
       "    <tr>\n",
       "      <th>min</th>\n",
       "      <td>24.098</td>\n",
       "      <td>15.839</td>\n",
       "      <td>0.000</td>\n",
       "      <td>0.000</td>\n",
       "      <td>0.000</td>\n",
       "      <td>0.000</td>\n",
       "      <td>0.000</td>\n",
       "      <td>0.000</td>\n",
       "      <td>-23.709</td>\n",
       "      <td>88.097</td>\n",
       "      <td>1.558</td>\n",
       "      <td>0.000</td>\n",
       "    </tr>\n",
       "    <tr>\n",
       "      <th>25%</th>\n",
       "      <td>36.808</td>\n",
       "      <td>23.776</td>\n",
       "      <td>0.000</td>\n",
       "      <td>0.000</td>\n",
       "      <td>0.000</td>\n",
       "      <td>0.000</td>\n",
       "      <td>0.000</td>\n",
       "      <td>0.000</td>\n",
       "      <td>15.738</td>\n",
       "      <td>120.019</td>\n",
       "      <td>3.338</td>\n",
       "      <td>0.000</td>\n",
       "    </tr>\n",
       "    <tr>\n",
       "      <th>50%</th>\n",
       "      <td>50.909</td>\n",
       "      <td>26.402</td>\n",
       "      <td>0.000</td>\n",
       "      <td>0.000</td>\n",
       "      <td>0.000</td>\n",
       "      <td>0.000</td>\n",
       "      <td>0.000</td>\n",
       "      <td>0.000</td>\n",
       "      <td>15.820</td>\n",
       "      <td>132.962</td>\n",
       "      <td>3.991</td>\n",
       "      <td>0.000</td>\n",
       "    </tr>\n",
       "    <tr>\n",
       "      <th>75%</th>\n",
       "      <td>61.759</td>\n",
       "      <td>29.499</td>\n",
       "      <td>0.000</td>\n",
       "      <td>0.000</td>\n",
       "      <td>0.000</td>\n",
       "      <td>0.000</td>\n",
       "      <td>0.000</td>\n",
       "      <td>0.000</td>\n",
       "      <td>15.881</td>\n",
       "      <td>149.062</td>\n",
       "      <td>4.721</td>\n",
       "      <td>1.000</td>\n",
       "    </tr>\n",
       "    <tr>\n",
       "      <th>max</th>\n",
       "      <td>74.242</td>\n",
       "      <td>56.935</td>\n",
       "      <td>1.000</td>\n",
       "      <td>1.000</td>\n",
       "      <td>1.000</td>\n",
       "      <td>1.000</td>\n",
       "      <td>1.000</td>\n",
       "      <td>1.000</td>\n",
       "      <td>16.000</td>\n",
       "      <td>253.075</td>\n",
       "      <td>12.988</td>\n",
       "      <td>1.000</td>\n",
       "    </tr>\n",
       "  </tbody>\n",
       "</table>\n",
       "</div>"
      ],
      "text/plain": [
       "           Age  BodyMassIndex  Smoking  BPTreatment  PrevalentDiabetes  \\\n",
       "count 3615.000       3615.000 3615.000     3615.000           3615.000   \n",
       "mean    49.504         27.071    0.232        0.155              0.061   \n",
       "std     14.848          4.723    0.422        0.362              0.239   \n",
       "min     24.098         15.839    0.000        0.000              0.000   \n",
       "25%     36.808         23.776    0.000        0.000              0.000   \n",
       "50%     50.909         26.402    0.000        0.000              0.000   \n",
       "75%     61.759         29.499    0.000        0.000              0.000   \n",
       "max     74.242         56.935    1.000        1.000              1.000   \n",
       "\n",
       "       PrevalentCHD  PrevalentHFAIL    Event  Event_time  SystolicBP  \\\n",
       "count      3615.000        3615.000 3615.000    3615.000    3615.000   \n",
       "mean          0.032           0.026    0.083      13.756     136.341   \n",
       "std           0.177           0.158    0.276       5.646      22.038   \n",
       "min           0.000           0.000    0.000     -23.709      88.097   \n",
       "25%           0.000           0.000    0.000      15.738     120.019   \n",
       "50%           0.000           0.000    0.000      15.820     132.962   \n",
       "75%           0.000           0.000    0.000      15.881     149.062   \n",
       "max           1.000           1.000    1.000      16.000     253.075   \n",
       "\n",
       "       NonHDLcholesterol      Sex  \n",
       "count           3615.000 3615.000  \n",
       "mean               4.086    0.444  \n",
       "std                1.091    0.497  \n",
       "min                1.558    0.000  \n",
       "25%                3.338    0.000  \n",
       "50%                3.991    0.000  \n",
       "75%                4.721    1.000  \n",
       "max               12.988    1.000  "
      ]
     },
     "execution_count": 27,
     "metadata": {},
     "output_type": "execute_result"
    }
   ],
   "source": [
    "pd.set_option('display.float_format', lambda x: '%.3f' % x)\n",
    "\n",
    "pheno_train_df.describe()"
   ]
  },
  {
   "cell_type": "code",
   "execution_count": 28,
   "metadata": {},
   "outputs": [
    {
     "data": {
      "text/html": [
       "<div>\n",
       "<style scoped>\n",
       "    .dataframe tbody tr th:only-of-type {\n",
       "        vertical-align: middle;\n",
       "    }\n",
       "\n",
       "    .dataframe tbody tr th {\n",
       "        vertical-align: top;\n",
       "    }\n",
       "\n",
       "    .dataframe thead th {\n",
       "        text-align: right;\n",
       "    }\n",
       "</style>\n",
       "<table border=\"1\" class=\"dataframe\">\n",
       "  <thead>\n",
       "    <tr style=\"text-align: right;\">\n",
       "      <th></th>\n",
       "      <th>Simulated_328</th>\n",
       "      <th>Simulated_1644</th>\n",
       "      <th>Simulated_1710</th>\n",
       "      <th>Simulated_1732</th>\n",
       "      <th>Simulated_1727</th>\n",
       "      <th>Simulated_2196</th>\n",
       "      <th>Simulated_1681</th>\n",
       "      <th>Simulated_1651</th>\n",
       "      <th>Simulated_1603</th>\n",
       "      <th>Simulated_1601</th>\n",
       "      <th>...</th>\n",
       "      <th>Simulated_1676</th>\n",
       "      <th>Simulated_1630</th>\n",
       "      <th>Simulated_1605</th>\n",
       "      <th>Simulated_2202</th>\n",
       "      <th>Simulated_1682</th>\n",
       "      <th>Simulated_1783</th>\n",
       "      <th>Simulated_3425</th>\n",
       "      <th>Simulated_1789</th>\n",
       "      <th>Simulated_1592</th>\n",
       "      <th>Simulated_1731</th>\n",
       "    </tr>\n",
       "  </thead>\n",
       "  <tbody>\n",
       "    <tr>\n",
       "      <th>count</th>\n",
       "      <td>5748.000</td>\n",
       "      <td>5748.000</td>\n",
       "      <td>5748.000</td>\n",
       "      <td>5748.000</td>\n",
       "      <td>5748.000</td>\n",
       "      <td>5748.000</td>\n",
       "      <td>5748.000</td>\n",
       "      <td>5748.000</td>\n",
       "      <td>5748.000</td>\n",
       "      <td>5748.000</td>\n",
       "      <td>...</td>\n",
       "      <td>5748.000</td>\n",
       "      <td>5748.000</td>\n",
       "      <td>5748.000</td>\n",
       "      <td>5748.000</td>\n",
       "      <td>5748.000</td>\n",
       "      <td>5748.000</td>\n",
       "      <td>5748.000</td>\n",
       "      <td>5748.000</td>\n",
       "      <td>5748.000</td>\n",
       "      <td>5748.000</td>\n",
       "    </tr>\n",
       "    <tr>\n",
       "      <th>mean</th>\n",
       "      <td>187.730</td>\n",
       "      <td>201.291</td>\n",
       "      <td>129.468</td>\n",
       "      <td>273.374</td>\n",
       "      <td>116.749</td>\n",
       "      <td>132.382</td>\n",
       "      <td>55.175</td>\n",
       "      <td>87.517</td>\n",
       "      <td>468.192</td>\n",
       "      <td>134.720</td>\n",
       "      <td>...</td>\n",
       "      <td>252.920</td>\n",
       "      <td>132.894</td>\n",
       "      <td>175.411</td>\n",
       "      <td>99.844</td>\n",
       "      <td>223.180</td>\n",
       "      <td>397.058</td>\n",
       "      <td>108.616</td>\n",
       "      <td>50.392</td>\n",
       "      <td>57.360</td>\n",
       "      <td>294.581</td>\n",
       "    </tr>\n",
       "    <tr>\n",
       "      <th>std</th>\n",
       "      <td>4045.491</td>\n",
       "      <td>7845.599</td>\n",
       "      <td>4853.531</td>\n",
       "      <td>5765.580</td>\n",
       "      <td>1893.995</td>\n",
       "      <td>1971.111</td>\n",
       "      <td>1275.435</td>\n",
       "      <td>1724.518</td>\n",
       "      <td>9934.202</td>\n",
       "      <td>1786.721</td>\n",
       "      <td>...</td>\n",
       "      <td>3938.187</td>\n",
       "      <td>1983.863</td>\n",
       "      <td>2897.489</td>\n",
       "      <td>1834.970</td>\n",
       "      <td>8178.722</td>\n",
       "      <td>7679.974</td>\n",
       "      <td>1542.725</td>\n",
       "      <td>1129.105</td>\n",
       "      <td>1121.718</td>\n",
       "      <td>5056.226</td>\n",
       "    </tr>\n",
       "    <tr>\n",
       "      <th>min</th>\n",
       "      <td>0.000</td>\n",
       "      <td>0.000</td>\n",
       "      <td>0.000</td>\n",
       "      <td>0.000</td>\n",
       "      <td>0.000</td>\n",
       "      <td>0.000</td>\n",
       "      <td>0.000</td>\n",
       "      <td>0.000</td>\n",
       "      <td>0.000</td>\n",
       "      <td>0.000</td>\n",
       "      <td>...</td>\n",
       "      <td>0.000</td>\n",
       "      <td>0.000</td>\n",
       "      <td>0.000</td>\n",
       "      <td>0.000</td>\n",
       "      <td>0.000</td>\n",
       "      <td>0.000</td>\n",
       "      <td>0.000</td>\n",
       "      <td>0.000</td>\n",
       "      <td>0.000</td>\n",
       "      <td>0.000</td>\n",
       "    </tr>\n",
       "    <tr>\n",
       "      <th>25%</th>\n",
       "      <td>0.000</td>\n",
       "      <td>0.000</td>\n",
       "      <td>0.000</td>\n",
       "      <td>0.000</td>\n",
       "      <td>0.000</td>\n",
       "      <td>0.000</td>\n",
       "      <td>0.000</td>\n",
       "      <td>0.000</td>\n",
       "      <td>0.000</td>\n",
       "      <td>0.000</td>\n",
       "      <td>...</td>\n",
       "      <td>0.000</td>\n",
       "      <td>0.000</td>\n",
       "      <td>0.000</td>\n",
       "      <td>0.000</td>\n",
       "      <td>0.000</td>\n",
       "      <td>0.000</td>\n",
       "      <td>0.000</td>\n",
       "      <td>0.000</td>\n",
       "      <td>0.000</td>\n",
       "      <td>0.000</td>\n",
       "    </tr>\n",
       "    <tr>\n",
       "      <th>50%</th>\n",
       "      <td>0.000</td>\n",
       "      <td>0.000</td>\n",
       "      <td>0.000</td>\n",
       "      <td>0.000</td>\n",
       "      <td>0.000</td>\n",
       "      <td>0.000</td>\n",
       "      <td>0.000</td>\n",
       "      <td>0.000</td>\n",
       "      <td>0.000</td>\n",
       "      <td>0.000</td>\n",
       "      <td>...</td>\n",
       "      <td>0.000</td>\n",
       "      <td>0.000</td>\n",
       "      <td>0.000</td>\n",
       "      <td>0.000</td>\n",
       "      <td>0.000</td>\n",
       "      <td>0.000</td>\n",
       "      <td>0.000</td>\n",
       "      <td>0.000</td>\n",
       "      <td>0.000</td>\n",
       "      <td>0.000</td>\n",
       "    </tr>\n",
       "    <tr>\n",
       "      <th>75%</th>\n",
       "      <td>2.000</td>\n",
       "      <td>0.000</td>\n",
       "      <td>1.000</td>\n",
       "      <td>2.000</td>\n",
       "      <td>1.000</td>\n",
       "      <td>2.000</td>\n",
       "      <td>0.000</td>\n",
       "      <td>0.000</td>\n",
       "      <td>1.000</td>\n",
       "      <td>1.000</td>\n",
       "      <td>...</td>\n",
       "      <td>1.000</td>\n",
       "      <td>0.000</td>\n",
       "      <td>1.000</td>\n",
       "      <td>1.000</td>\n",
       "      <td>0.000</td>\n",
       "      <td>2.000</td>\n",
       "      <td>1.000</td>\n",
       "      <td>1.000</td>\n",
       "      <td>1.000</td>\n",
       "      <td>2.000</td>\n",
       "    </tr>\n",
       "    <tr>\n",
       "      <th>max</th>\n",
       "      <td>276290.000</td>\n",
       "      <td>469820.000</td>\n",
       "      <td>359562.000</td>\n",
       "      <td>279370.000</td>\n",
       "      <td>98275.000</td>\n",
       "      <td>79766.000</td>\n",
       "      <td>73865.000</td>\n",
       "      <td>77094.000</td>\n",
       "      <td>569000.000</td>\n",
       "      <td>64523.000</td>\n",
       "      <td>...</td>\n",
       "      <td>141863.000</td>\n",
       "      <td>84802.000</td>\n",
       "      <td>93681.000</td>\n",
       "      <td>98023.000</td>\n",
       "      <td>602477.000</td>\n",
       "      <td>398096.000</td>\n",
       "      <td>72741.000</td>\n",
       "      <td>73522.000</td>\n",
       "      <td>62928.000</td>\n",
       "      <td>245420.000</td>\n",
       "    </tr>\n",
       "  </tbody>\n",
       "</table>\n",
       "<p>8 rows × 3615 columns</p>\n",
       "</div>"
      ],
      "text/plain": [
       "       Simulated_328  Simulated_1644  Simulated_1710  Simulated_1732  \\\n",
       "count       5748.000        5748.000        5748.000        5748.000   \n",
       "mean         187.730         201.291         129.468         273.374   \n",
       "std         4045.491        7845.599        4853.531        5765.580   \n",
       "min            0.000           0.000           0.000           0.000   \n",
       "25%            0.000           0.000           0.000           0.000   \n",
       "50%            0.000           0.000           0.000           0.000   \n",
       "75%            2.000           0.000           1.000           2.000   \n",
       "max       276290.000      469820.000      359562.000      279370.000   \n",
       "\n",
       "       Simulated_1727  Simulated_2196  Simulated_1681  Simulated_1651  \\\n",
       "count        5748.000        5748.000        5748.000        5748.000   \n",
       "mean          116.749         132.382          55.175          87.517   \n",
       "std          1893.995        1971.111        1275.435        1724.518   \n",
       "min             0.000           0.000           0.000           0.000   \n",
       "25%             0.000           0.000           0.000           0.000   \n",
       "50%             0.000           0.000           0.000           0.000   \n",
       "75%             1.000           2.000           0.000           0.000   \n",
       "max         98275.000       79766.000       73865.000       77094.000   \n",
       "\n",
       "       Simulated_1603  Simulated_1601  ...  Simulated_1676  Simulated_1630  \\\n",
       "count        5748.000        5748.000  ...        5748.000        5748.000   \n",
       "mean          468.192         134.720  ...         252.920         132.894   \n",
       "std          9934.202        1786.721  ...        3938.187        1983.863   \n",
       "min             0.000           0.000  ...           0.000           0.000   \n",
       "25%             0.000           0.000  ...           0.000           0.000   \n",
       "50%             0.000           0.000  ...           0.000           0.000   \n",
       "75%             1.000           1.000  ...           1.000           0.000   \n",
       "max        569000.000       64523.000  ...      141863.000       84802.000   \n",
       "\n",
       "       Simulated_1605  Simulated_2202  Simulated_1682  Simulated_1783  \\\n",
       "count        5748.000        5748.000        5748.000        5748.000   \n",
       "mean          175.411          99.844         223.180         397.058   \n",
       "std          2897.489        1834.970        8178.722        7679.974   \n",
       "min             0.000           0.000           0.000           0.000   \n",
       "25%             0.000           0.000           0.000           0.000   \n",
       "50%             0.000           0.000           0.000           0.000   \n",
       "75%             1.000           1.000           0.000           2.000   \n",
       "max         93681.000       98023.000      602477.000      398096.000   \n",
       "\n",
       "       Simulated_3425  Simulated_1789  Simulated_1592  Simulated_1731  \n",
       "count        5748.000        5748.000        5748.000        5748.000  \n",
       "mean          108.616          50.392          57.360         294.581  \n",
       "std          1542.725        1129.105        1121.718        5056.226  \n",
       "min             0.000           0.000           0.000           0.000  \n",
       "25%             0.000           0.000           0.000           0.000  \n",
       "50%             0.000           0.000           0.000           0.000  \n",
       "75%             1.000           1.000           1.000           2.000  \n",
       "max         72741.000       73522.000       62928.000      245420.000  \n",
       "\n",
       "[8 rows x 3615 columns]"
      ]
     },
     "execution_count": 28,
     "metadata": {},
     "output_type": "execute_result"
    }
   ],
   "source": [
    "read_counts_df.describe()"
   ]
  },
  {
   "cell_type": "code",
   "execution_count": 29,
   "metadata": {},
   "outputs": [
    {
     "data": {
      "text/html": [
       "<div>\n",
       "<style scoped>\n",
       "    .dataframe tbody tr th:only-of-type {\n",
       "        vertical-align: middle;\n",
       "    }\n",
       "\n",
       "    .dataframe tbody tr th {\n",
       "        vertical-align: top;\n",
       "    }\n",
       "\n",
       "    .dataframe thead th {\n",
       "        text-align: right;\n",
       "    }\n",
       "</style>\n",
       "<table border=\"1\" class=\"dataframe\">\n",
       "  <thead>\n",
       "    <tr style=\"text-align: right;\">\n",
       "      <th></th>\n",
       "      <th>Domain</th>\n",
       "      <th>Phylum</th>\n",
       "      <th>Class</th>\n",
       "      <th>Order</th>\n",
       "      <th>Family</th>\n",
       "      <th>Genus</th>\n",
       "      <th>Species</th>\n",
       "    </tr>\n",
       "  </thead>\n",
       "  <tbody>\n",
       "    <tr>\n",
       "      <th>count</th>\n",
       "      <td>5748</td>\n",
       "      <td>5748</td>\n",
       "      <td>5748</td>\n",
       "      <td>5748</td>\n",
       "      <td>5748</td>\n",
       "      <td>5748</td>\n",
       "      <td>5748</td>\n",
       "    </tr>\n",
       "    <tr>\n",
       "      <th>unique</th>\n",
       "      <td>5</td>\n",
       "      <td>51</td>\n",
       "      <td>150</td>\n",
       "      <td>174</td>\n",
       "      <td>370</td>\n",
       "      <td>1480</td>\n",
       "      <td>4536</td>\n",
       "    </tr>\n",
       "    <tr>\n",
       "      <th>top</th>\n",
       "      <td>k__Bacteria</td>\n",
       "      <td>p__Proteobacteria</td>\n",
       "      <td>c__Actinobacteria</td>\n",
       "      <td>o__Bacillales</td>\n",
       "      <td>f__Flavobacteriaceae</td>\n",
       "      <td>g__</td>\n",
       "      <td>s__</td>\n",
       "    </tr>\n",
       "    <tr>\n",
       "      <th>freq</th>\n",
       "      <td>5024</td>\n",
       "      <td>2215</td>\n",
       "      <td>916</td>\n",
       "      <td>391</td>\n",
       "      <td>196</td>\n",
       "      <td>346</td>\n",
       "      <td>845</td>\n",
       "    </tr>\n",
       "  </tbody>\n",
       "</table>\n",
       "</div>"
      ],
      "text/plain": [
       "             Domain             Phylum              Class          Order  \\\n",
       "count          5748               5748               5748           5748   \n",
       "unique            5                 51                150            174   \n",
       "top     k__Bacteria  p__Proteobacteria  c__Actinobacteria  o__Bacillales   \n",
       "freq           5024               2215                916            391   \n",
       "\n",
       "                      Family Genus Species  \n",
       "count                   5748  5748    5748  \n",
       "unique                   370  1480    4536  \n",
       "top     f__Flavobacteriaceae   g__     s__  \n",
       "freq                     196   346     845  "
      ]
     },
     "execution_count": 29,
     "metadata": {},
     "output_type": "execute_result"
    }
   ],
   "source": [
    "taxtable_df.describe()"
   ]
  },
  {
   "attachments": {},
   "cell_type": "markdown",
   "metadata": {},
   "source": [
    "### Training data visualization"
   ]
  },
  {
   "cell_type": "code",
   "execution_count": 30,
   "metadata": {},
   "outputs": [],
   "source": [
    "import matplotlib.pyplot as plt\n",
    "import seaborn as sns"
   ]
  },
  {
   "cell_type": "code",
   "execution_count": 31,
   "metadata": {},
   "outputs": [
    {
     "data": {
      "text/plain": [
       "Index(['Sample_ID', 'Age', 'BodyMassIndex', 'Smoking', 'BPTreatment',\n",
       "       'PrevalentDiabetes', 'PrevalentCHD', 'PrevalentHFAIL', 'Event',\n",
       "       'Event_time', 'SystolicBP', 'NonHDLcholesterol', 'Sex'],\n",
       "      dtype='object')"
      ]
     },
     "execution_count": 31,
     "metadata": {},
     "output_type": "execute_result"
    }
   ],
   "source": [
    "pheno_train_df.columns"
   ]
  },
  {
   "cell_type": "code",
   "execution_count": 32,
   "metadata": {},
   "outputs": [
    {
     "data": {
      "image/png": "[encoded data removed]",
      "text/plain": [
       "<Figure size 640x480 with 1 Axes>"
      ]
     },
     "metadata": {},
     "output_type": "display_data"
    }
   ],
   "source": [
    "# asjdh\n",
    "plt.hist(pheno_train_df[\"Age\"], color=\"orange\")\n",
    "plt.axis([20, 80, 0, 500])\n",
    "plt.title(\"Age distribution\")\n",
    "plt.xlabel(\"Age\")\n",
    "plt.ylabel(\"Age frequency\")\n",
    "plt.show()"
   ]
  },
  {
   "cell_type": "code",
   "execution_count": 33,
   "metadata": {},
   "outputs": [
    {
     "data": {
      "image/png": "[encoded data removed]",
      "text/plain": [
       "<Figure size 640x480 with 1 Axes>"
      ]
     },
     "metadata": {},
     "output_type": "display_data"
    }
   ],
   "source": [
    "plt.hist(pheno_train_df[\"BodyMassIndex\"], color=\"orange\")\n",
    "plt.title(\"BMI distribution\")\n",
    "plt.xlabel(\"BMI\")\n",
    "plt.ylabel(\"Frequency\")\n",
    "plt.show()"
   ]
  },
  {
   "cell_type": "code",
   "execution_count": 34,
   "metadata": {},
   "outputs": [
    {
     "data": {
      "image/png": "[encoded data removed]",
      "text/plain": [
       "<Figure size 640x480 with 1 Axes>"
      ]
     },
     "metadata": {},
     "output_type": "display_data"
    }
   ],
   "source": [
    "percent_smoking = (pd.Series.value_counts(pheno_train_df[\"Smoking\"] == 1) / pheno_train_df.shape[0]) * 100\n",
    "\n",
    "plt.pie(percent_smoking, labels=[\"Non smokers\", \"Smokers\"], autopct='%1.0f%%')\n",
    "plt.title(\"Percentage of Smoker and Non Smokers\")\n",
    "plt.show()"
   ]
  },
  {
   "cell_type": "code",
   "execution_count": 35,
   "metadata": {},
   "outputs": [
    {
     "data": {
      "image/png": "[encoded data removed]",
      "text/plain": [
       "<Figure size 640x480 with 1 Axes>"
      ]
     },
     "metadata": {},
     "output_type": "display_data"
    }
   ],
   "source": [
    "percent_bptreatment = (pd.Series.value_counts(pheno_train_df[\"BPTreatment\"] == 1) / pheno_train_df.shape[0]) * 100\n",
    "\n",
    "plt.pie(percent_bptreatment, labels=[\"No\", \"Yes\"], autopct='%1.0f%%')\n",
    "plt.title(\"Percentage of Hypertension Treatment at baseline by pacients\")\n",
    "plt.show()"
   ]
  },
  {
   "cell_type": "code",
   "execution_count": 36,
   "metadata": {},
   "outputs": [
    {
     "data": {
      "image/png": "[encoded data removed]",
      "text/plain": [
       "<Figure size 640x480 with 1 Axes>"
      ]
     },
     "metadata": {},
     "output_type": "display_data"
    }
   ],
   "source": [
    "percent_diabetes = (pd.Series.value_counts(pheno_train_df[\"PrevalentDiabetes\"] == 1) / pheno_train_df.shape[0]) * 100\n",
    "\n",
    "plt.pie(percent_diabetes, labels=[\"No\", \"Yes\"], autopct='%1.0f%%')\n",
    "plt.title(\"Percentage of Diabetes at baseline by pacients\")\n",
    "plt.show()"
   ]
  },
  {
   "cell_type": "code",
   "execution_count": 37,
   "metadata": {},
   "outputs": [
    {
     "data": {
      "image/png": "[encoded data removed]",
      "text/plain": [
       "<Figure size 640x480 with 1 Axes>"
      ]
     },
     "metadata": {},
     "output_type": "display_data"
    }
   ],
   "source": [
    "percent_CHD = (pd.Series.value_counts(pheno_train_df[\"PrevalentCHD\"] == 1) / pheno_train_df.shape[0]) * 100\n",
    "\n",
    "plt.pie(percent_CHD, labels=[\"No\", \"Yes\"], autopct='%1.0f%%')\n",
    "plt.title(\"Percentage of Coronary Heart Disease at baseline by pacients\")\n",
    "plt.show()"
   ]
  },
  {
   "cell_type": "code",
   "execution_count": 38,
   "metadata": {},
   "outputs": [
    {
     "data": {
      "image/png": "[encoded data removed]",
      "text/plain": [
       "<Figure size 640x480 with 1 Axes>"
      ]
     },
     "metadata": {},
     "output_type": "display_data"
    }
   ],
   "source": [
    "percent_HFail = (pd.Series.value_counts(pheno_train_df[\"PrevalentHFAIL\"] == 1) / pheno_train_df.shape[0]) * 100\n",
    "\n",
    "plt.pie(percent_HFail, labels=[\"No\", \"Yes\"], autopct='%1.0f%%')\n",
    "plt.title(\"Percentage of Heart Failure diseases at baseline by pacients\")\n",
    "plt.show()"
   ]
  },
  {
   "cell_type": "markdown",
   "metadata": {},
   "source": [
    "## Statistical tests"
   ]
  },
  {
   "cell_type": "markdown",
   "metadata": {},
   "source": [
    "Statistical tests to ensure the distribution of the variables."
   ]
  },
  {
   "cell_type": "code",
   "execution_count": 39,
   "metadata": {},
   "outputs": [
    {
     "name": "stdout",
     "output_type": "stream",
     "text": [
      "BodyMassIndex ----->    P-VALUE:      7.756730899351182e-34\n",
      "Event_time ----->    P-VALUE:      0.0\n",
      "NonHDLcholesterol ----->    P-VALUE:      5.723465912999794e-25\n",
      "SystolicBP ----->    P-VALUE:      8.417582262396532e-30\n"
     ]
    },
    {
     "data": {
      "image/png": "[encoded data removed]",
      "text/plain": [
       "<Figure size 640x480 with 1 Axes>"
      ]
     },
     "metadata": {},
     "output_type": "display_data"
    },
    {
     "data": {
      "image/png": "[encoded data removed]",
      "text/plain": [
       "<Figure size 640x480 with 1 Axes>"
      ]
     },
     "metadata": {},
     "output_type": "display_data"
    },
    {
     "data": {
      "image/png": "[encoded data removed]",
      "text/plain": [
       "<Figure size 640x480 with 1 Axes>"
      ]
     },
     "metadata": {},
     "output_type": "display_data"
    },
    {
     "data": {
      "image/png": "[encoded data removed]",
      "text/plain": [
       "<Figure size 640x480 with 1 Axes>"
      ]
     },
     "metadata": {},
     "output_type": "display_data"
    }
   ],
   "source": [
    "from statsmodels.graphics.gofplots import qqplot\n",
    "from scipy.stats import norm, shapiro\n",
    "import matplotlib.pyplot as plt\n",
    "\n",
    "\n",
    "\n",
    "columns_to_plot = pheno_train_df.columns.difference([\"Sample_ID\", \"Sex\", \"Age\", \"Event\", \"Smoking\", \"BPTreatment\", \"PrevalentDiabetes\", \"PrevalentCHD\", \"PrevalentHFAIL\"])\n",
    "\n",
    "for col in columns_to_plot:\n",
    "    data = pheno_train_df[col]\n",
    "    \n",
    "    fig = qqplot(data, dist=norm, line=\"s\")\n",
    "    plt.title(col)\n",
    "    print(f\"{col} ----->    P-VALUE:      {shapiro(pheno_train_df[col]).pvalue}\")"
   ]
  },
  {
   "cell_type": "markdown",
   "metadata": {},
   "source": [
    "Exporting datasets to csv to further use"
   ]
  },
  {
   "cell_type": "code",
   "execution_count": 40,
   "metadata": {},
   "outputs": [],
   "source": [
    "pheno_train_df.to_csv(\"../train/pheno_training_treated.csv\", index=False)\n",
    "read_counts_df.to_csv(\"../train/readcounts_training_treated.csv\", index=False)\n",
    "taxtable_df.to_csv(\"../train/taxtable_treated.csv\", index=False)"
   ]
  },
  {
   "cell_type": "code",
   "execution_count": null,
   "metadata": {},
   "outputs": [],
   "source": []
  }
 ],
 "metadata": {
  "kernelspec": {
   "display_name": "Python 3",
   "language": "python",
   "name": "python3"
  },
  "language_info": {
   "codemirror_mode": {
    "name": "ipython",
    "version": 3
   },
   "file_extension": ".py",
   "mimetype": "text/x-python",
   "name": "python",
   "nbconvert_exporter": "python",
   "pygments_lexer": "ipython3",
   "version": "3.10.6 (main, Nov 14 2022, 16:10:14) [GCC 11.3.0]"
  },
  "orig_nbformat": 4,
  "vscode": {
   "interpreter": {
    "hash": "916dbcbb3f70747c44a77c7bcd40155683ae19c65e1c03b4aa3499c5328201f1"
   }
  }
 },
 "nbformat": 4,
 "nbformat_minor": 2
}
